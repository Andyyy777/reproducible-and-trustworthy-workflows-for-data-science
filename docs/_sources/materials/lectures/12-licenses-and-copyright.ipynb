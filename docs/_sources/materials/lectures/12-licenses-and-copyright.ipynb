{
 "cells": [
  {
   "cell_type": "markdown",
   "metadata": {},
   "source": [
    "# Copyright and licenses"
   ]
  },
  {
   "cell_type": "markdown",
   "metadata": {},
   "source": [
    "## Topic learning objectives\n",
    "\n",
    "By the end of this topic, students should be able to:\n",
    "\n",
    "1. Explain who owns the copyright of code they write in a given situation, and why\n",
    "2. Choose an appropriate license for software (i.e., packages or analysis code)\n",
    "3. Choose an appropriate license for your non-software materials"
   ]
  }
 ],
 "metadata": {
  "interpreter": {
   "hash": "b319716b0346eb12085fd5197d37942b2372f733afdc46387bcecfaa2bd21dfe"
  },
  "kernelspec": {
   "display_name": "Python 3 (ipykernel)",
   "language": "python",
   "name": "python3"
  },
  "language_info": {
   "codemirror_mode": {
    "name": "ipython",
    "version": 3
   },
   "file_extension": ".py",
   "mimetype": "text/x-python",
   "name": "python",
   "nbconvert_exporter": "python",
   "pygments_lexer": "ipython3",
   "version": "3.9.9"
  }
 },
 "nbformat": 4,
 "nbformat_minor": 4
}
