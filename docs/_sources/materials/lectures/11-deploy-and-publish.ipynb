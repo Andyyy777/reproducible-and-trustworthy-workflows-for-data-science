{
 "cells": [
  {
   "cell_type": "markdown",
   "metadata": {},
   "source": [
    "# Deploying and publishing packages"
   ]
  },
  {
   "cell_type": "markdown",
   "metadata": {},
   "source": [
    "## Topic learning objectives\n",
    "\n",
    "By the end of this topic, students should be able to:\n",
    "\n",
    "1. Define continuous deployment and argue the costs and benefits of continuous deployment\n",
    "2. Explain semantic versioning, and define what constitutes patch, minor, major and breaking changes\n",
    "3. Use continuous deployment (e.g., GitHub Actions) to automate deployment of software packages, or components of software packages (e.g., documentation)\n",
    "4. Publish software packages to development and production package repositories (e.g., GitHub and CRAN)"
   ]
  }
 ],
 "metadata": {
  "interpreter": {
   "hash": "b319716b0346eb12085fd5197d37942b2372f733afdc46387bcecfaa2bd21dfe"
  },
  "kernelspec": {
   "display_name": "Python 3 (ipykernel)",
   "language": "python",
   "name": "python3"
  },
  "language_info": {
   "codemirror_mode": {
    "name": "ipython",
    "version": 3
   },
   "file_extension": ".py",
   "mimetype": "text/x-python",
   "name": "python",
   "nbconvert_exporter": "python",
   "pygments_lexer": "ipython3",
   "version": "3.9.9"
  }
 },
 "nbformat": 4,
 "nbformat_minor": 4
}
