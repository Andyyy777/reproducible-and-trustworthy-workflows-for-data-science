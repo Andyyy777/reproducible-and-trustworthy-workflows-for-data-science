from IPython.display import YouTubeVideo
YouTubeVideo('kOE6b8zpfCY', width=854, height=480)



