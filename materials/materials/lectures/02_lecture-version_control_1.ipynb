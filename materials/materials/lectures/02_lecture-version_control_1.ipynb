{
 "cells": [
  {
   "cell_type": "markdown",
   "id": "9d4d9830-de3b-44eb-b1c5-e64fd564629c",
   "metadata": {},
   "source": [
    "# Version control for transparency and collaboration"
   ]
  },
  {
   "cell_type": "markdown",
   "id": "d17ca87b-2c0b-4f37-831e-ed047e832551",
   "metadata": {},
   "source": [
    "## Week learning objectives\n",
    "\n",
    "By the end of the lecture, students should be able to:\n",
    "\n",
    "1. Explain why and how data analysis projects benefit from both local and remote version control\n",
    "2. Use Git's basic functions to save changes to local and remote version control, as well as view and restore older versions of files\n",
    "3. Use Git and GitHub to successfully collaborate with others (e.g., handle merge conflicts, use a fork-pull-request and branch-pull-request workflow to contribute to a project, organize tasks through issue milestones and project boards)"
   ]
  },
  {
   "cell_type": "markdown",
   "id": "8e0fc6fd-08de-47d0-89bc-0edb4281b6f0",
   "metadata": {},
   "source": [
    "## Version control\n",
    "\n",
    "> *\"Version control is the process of keeping a record of changes to documents, including when the changes were made and who made them, throughout the history of their development. It also provides the means both to view earlier versions of the project and to revert changes.\"*\n",
    ">\n",
    "> -- [*Data Science: A First Introduction*](https://ubc-dsci.github.io/introduction-to-datascience/Getting-started-with-version-control.html)\n",
    "\n",
    "In this course we will learn to use the most popular version control software tools, Git and GitHub. A schematic of local and remote version control repositories using these tools is shown below:\n",
    "\n",
    "<img src=\"https://ubc-dsci.github.io/introduction-to-datascience/_main_files/figure-html/vc1-no-changes-1.png\" width=800>\n",
    "\n",
    "Source: [*Data Science: A First Introduction*](https://ubc-dsci.github.io/introduction-to-datascience/Getting-started-with-version-control.html)"
   ]
  },
  {
   "cell_type": "markdown",
   "id": "b4f22440-a385-4182-903f-3c895b2ec082",
   "metadata": {},
   "source": [
    "## A Zoom poll!\n",
    "\n",
    "Before this class, you were asked to read [Chapter 12: Collaboration with version control](https://ubc-dsci.github.io/introduction-to-datascience/Getting-started-with-version-control.html) from Data Science: A First Introduction. We're goig to do a Zoom poll with the following questions to check your knowledge!\n",
    "\n",
    "**1. Which of these is untrue about the Git and GitHub version control software?**\n",
    "\n",
    "*a. Allows you to view and/or retrieve older snapshots of the files and directories in a project.*\n",
    "\n",
    "*b. Automatically snapshots your work every 2 minutes.*\n",
    "\n",
    "*c. Provides transparency on who made what changes to files and directories in a document.*\n",
    "\n",
    "*d. Can act as a way to back-up your work.*\n",
    "\n",
    "\n",
    "**2. GitHub is the software you use locally on your computer (i.e., your laptop) to commit changes to the version control history. True or False?**\n",
    "\n",
    "*a. True*\n",
    "\n",
    "*b. False*\n",
    "\n",
    "*c. Neither true or false.*\n",
    "\n",
    "\n",
    "**3. You changed two files (`notes.txt` and `eda.ipynb`) but you only want to commit changes to one of them (`eda.ipynb`) to the version control history. Which Git command allows you to specify this?**\n",
    "\n",
    "*a. Add*\n",
    "\n",
    "*b. Commit*\n",
    "\n",
    "*c. Push*\n",
    "\n",
    "*d. Push*\n",
    "\n",
    "**4. At a minimum, how often should you push your work to GitHub?**\n",
    "\n",
    "*a. Every 5 min.*\n",
    "\n",
    "*b. Every 30 min.*\n",
    "\n",
    "*c. At the end of every work session.*\n",
    "\n",
    "*d. Once a week.*\n",
    "\n",
    "\n",
    "**5. You try to push your most recent commit from your locale version control repository to your remote repository on GitHub and it fails because Git says the `remote contains work that you have locally`. What do should you do next?**\n",
    "\n",
    "*a. Commit the changes you made recently in your working directory.*\n",
    "\n",
    "*b. Force push your changes.*\n",
    "\n",
    "*c. Pull the changes from the remote repository that you do not have locally.*\n",
    "\n",
    "\n",
    "**6. You pull changes that exist in your remote version control repository on GitHub that you do not have in your local version control repository, and you get the message `Auto-merging in <FILENAME> CONFLICT (content): Merge conflict in <FILENAME> Automatic merge failed; fix conflicts and then commit the result`. What do you need to do?**\n",
    "\n",
    "*a. Push the changes from the local repository that you do not have remotely.*\n",
    "\n",
    "*b. Force pull the changes.*\n",
    "\n",
    "*c. Manually open the file with the conflict and edit it to have the desired version of the changes, as well as remove the special Git syntax used to identify the merge conflict.*"
   ]
  },
  {
   "cell_type": "markdown",
   "id": "ff087f44-2de8-4956-a1b6-d7ca9a62abb0",
   "metadata": {},
   "source": [
    "## Hands on practice with merge conflicts!\n",
    "\n",
    "One of the major blockers getting used to using version control is dealing with merge conflicts! 😱\n",
    "\n",
    "Git can automatically handle merging two versions of a file if each collaborator changes different lines, however when two collaborators change the same line, Git throws up its hands and says, I cannot handle this responsbility, I need help from a human!\n",
    "\n",
    "<img src=\"https://media.giphy.com/media/4SZxcPTtlGAZa/giphy.gif\">"
   ]
  },
  {
   "cell_type": "markdown",
   "id": "0d643d30-8de0-46c9-a999-e2f2018b7a7a",
   "metadata": {},
   "source": [
    "When this happens, your human task is to find the merge conflict markers, remove them, and settle on which version of the line(s) where the conflict occurred should remain.\n",
    "\n",
    "> ### Merge conflict markers:\n",
    "> \n",
    "> - the beginning of the merge conflict is preceded by `<<<<<<< HEAD` \n",
    "> - the end of the merge conflict is marked by `>>>>>>>`\n",
    "> - between the markings mentioned above, Git also inserts a separator (`=======`). The version of the change before the separator is your > change, and the version that follows the separator was the change that existed on GitHub. "
   ]
  },
  {
   "cell_type": "markdown",
   "id": "e1ef939e-646b-4173-8432-c7ad36a7401a",
   "metadata": {},
   "source": [
    "We are going to now generate and resolve merge conflicts.I have set-up a template GitHub repository for you so that you can easily generate a merge conflict to resolve. We will do this twice, once with a simple plain text file (*e.g.*, an R script) and once with a more complex text file (*e.g.*, a Jupyter notebook).\n",
    "\n",
    "#### Resolving merge conflicts in a simple text file:\n",
    "\n",
    "**Steps:**\n",
    "\n",
    "1. Click the green “Use this template” button from [this GitHub repository](https://github.com/ttimbers/r-cube) to obtain a copy of it for yourself (do not fork it).\n",
    "\n",
    "2. Clone this repository to your computer.\n",
    "\n",
    "3. Create a remote branch named `make-conflict` (this will use GitHub Actions to create a commit in your remote repository).\n",
    "\n",
    "4. Fix the second line in `cube.r` so that it calculates the cube, not the square (e.g., change `x^2` to `x^3`). Commit your changes to version control via Git and push your changes to GitHub.\n",
    "\n",
    "5. Resolve the merge conflict them so that you can see your changes on GitHub.\n",
    "\n",
    "\n",
    "#### Resolving merge conflicts in a more complex text file:\n",
    "\n",
    "**Steps:**\n",
    "\n",
    "1. Click the green “Use this template” button from [this GitHub repository](https://github.com/ttimbers/r-cube-notebook) to obtain a copy of it for yourself (do not fork it).\n",
    "\n",
    "2. Clone this repository to your computer.\n",
    "\n",
    "3. Create a remote branch named `make-conflict` (this will use GitHub Actions to create a commit in your remote repository).\n",
    "\n",
    "4. Fix the second line in the code cell in `cube.ipynb` so that it calculates the cube, not the square (e.g., change `x^2` to `x^3`). Commit your changes to version control via Git and push your changes to GitHub.\n",
    "\n",
    "5. Resolve the merge conflict them so that you can see your changes on GitHub."
   ]
  },
  {
   "cell_type": "markdown",
   "id": "1ee35a50-4096-40b0-a34f-f8444eb722d0",
   "metadata": {},
   "source": [
    "## Going back in time!\n",
    "\n",
    "### Just going for a look:\n",
    "\n",
    "The easiest way to go back in time in your version control repository is to use the GitHub.com website. To do this, we click the commits link:\n",
    "\n",
    "<img src=\"img/releases.png\" width=800>\n",
    "\n",
    "Then we can view the history, along with the commit messages. To view the state of a repository at that time, we click on the \"**<>**\" button:\n",
    "\n",
    "<img src=\"img/commits_eg.png\" width=800>"
   ]
  },
  {
   "cell_type": "markdown",
   "id": "b61a1c69-f182-4637-8146-3a57bd272b43",
   "metadata": {},
   "source": [
    "### Travelling in time or bringing something something from the back from the past:\n",
    "\n",
    "Sometimes you want to be able to explore and run the files from the past, or bring a past version of a file to the future. When we need to do either of those things, we should be working with Git in our local repository. "
   ]
  },
  {
   "cell_type": "markdown",
   "id": "740e00da-c71f-4143-9deb-79914f07f325",
   "metadata": {},
   "source": [
    "Here's the same history as viewed above, but using the JupyterLab Git extension:\n",
    "\n",
    "<img src=\"img/jupyter-git-history.png\" width=800>"
   ]
  },
  {
   "cell_type": "markdown",
   "id": "e14b9a48-f741-4ddd-80b7-5ed06a769340",
   "metadata": {
    "tags": []
   },
   "source": [
    "To see what was changed at a given point in history, click the down arrow associated with the commit. You can then diff the file (see what was changed for a particular file by clicking the file icon beside it.\n",
    "\n",
    "<img src=\"img/jupyter-view-changes.png\">"
   ]
  },
  {
   "cell_type": "markdown",
   "id": "de9a660d-f77d-414f-a180-be93fcb7e953",
   "metadata": {},
   "source": [
    "#### Travelling in time to the past\n",
    "\n",
    "If you wanted to move your project's file and directories (so entire state) back to this point in time you can do that by clicking the clock icon. **NOTE: If you do this, be sure you pushed your changes, as it will discard anything more recent than this commit on your local computer (i.e., this is a hard reset).**\n",
    "\n",
    "<img src=\"img/jupyter-hard-reset.png\" width=500>\n",
    "\n",
    "Again, because this is a hard reset, Git will warn you about the consequences:\n",
    "\n",
    "<img src=\"img/jupyter-hard-reset-warning.png\" width=500>\n",
    "\n",
    "Once, you have done this, you will see the more recent commits in your history are GONE!\n",
    "\n",
    "<img src=\"img/jupyter-after-hard-reset.png\" width=500>"
   ]
  },
  {
   "cell_type": "markdown",
   "id": "3aaada89-4578-416b-a6d1-3e25249bf13a",
   "metadata": {},
   "source": [
    "#### Bringing something something from the back from the past\n",
    "\n",
    "There is not a nice and easy way (that I am aware of) of cherry-picking a version of single file from the past using the JupyterLab Git extension. To do this, I resort to the Git command line tool in the terminal. The general command is:\n",
    "\n",
    "```\n",
    "git checkout <HASH> <FILE>\n",
    "```\n",
    "\n",
    "For example, to checkout the version of the `Dockerfile` from the commit whose hash starts with `44c17be`, we would type: \n",
    "\n",
    "```\n",
    "git checkout 44c17be Dockerfile\n",
    "```\n",
    "\n",
    "That will bring that version of the Dockerfile into our working directory. We can view it, run it or use it, et cetera. If we want to keep that version going forward for our project, we would have to then add and commit that version of the file to do so.\n",
    "\n",
    "> ### What Git tool to use?\n",
    ">\n",
    "> There are many many many different tools for using Git. We have so far discussed two in this class (the JupyterLab Git extension,\n",
    "> and the Git command line). Others include GitHub Desktop, GitKraken, Source Tree, RStudio's Git GUI, and VSCode's Git GUI.\n",
    "> Which one should you use? Anyone that fits you best! I recommend experimenting with a few and then settling in with the one\n",
    "> that you find easiest to use. One note is that some commands are limited in some tools (e.g., the example above with the\n",
    "> JupyterLab Git extension). If you hit that case in your favorite tool, you can use the Git command line tool to get around it\n",
    "> and then go back to primarily using your tool of choice."
   ]
  },
  {
   "cell_type": "code",
   "execution_count": null,
   "id": "fd651364-92a4-4932-a2a2-7696c3bd85c7",
   "metadata": {},
   "outputs": [],
   "source": []
  },
  {
   "cell_type": "code",
   "execution_count": null,
   "id": "91215938-8c10-4334-8a37-673f51e5505d",
   "metadata": {},
   "outputs": [],
   "source": []
  }
 ],
 "metadata": {
  "kernelspec": {
   "display_name": "Python 3 (ipykernel)",
   "language": "python",
   "name": "python3"
  },
  "language_info": {
   "codemirror_mode": {
    "name": "ipython",
    "version": 3
   },
   "file_extension": ".py",
   "mimetype": "text/x-python",
   "name": "python",
   "nbconvert_exporter": "python",
   "pygments_lexer": "ipython3",
   "version": "3.9.9"
  }
 },
 "nbformat": 4,
 "nbformat_minor": 5
}
