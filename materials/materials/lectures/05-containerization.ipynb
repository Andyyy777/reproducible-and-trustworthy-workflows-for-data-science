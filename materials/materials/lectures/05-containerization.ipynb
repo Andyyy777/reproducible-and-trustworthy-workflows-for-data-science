{
 "cells": [
  {
   "cell_type": "markdown",
   "metadata": {
    "Collapsed": "false",
    "slideshow": {
     "slide_type": "slide"
    }
   },
   "source": [
    "# Managing dependencies using containerization"
   ]
  },
  {
   "cell_type": "markdown",
   "metadata": {
    "Collapsed": "false",
    "slideshow": {
     "slide_type": "fragment"
    }
   },
   "source": [
    "## Topic learning objectives\n",
    "\n",
    "By the end of this topic, students should be able to:\n",
    "\n",
    "1. Explain what containers are, and why they can be useful for reproducible data\n",
    "analyses\n",
    "2. Discuss the advantages and limitations of containerization (e.g., Docker) in the\n",
    "context of reproducible data analyses\n",
    "3. Compare and contrast the difference between running software/scripts in a virtual\n",
    "environment, a virtual machine and a container\n",
    "4. Evaluate, choose and justify an appropriate environment management solution based\n",
    "on the data analysis project’s complexity, expected usage and longevity.\n",
    "5. Use a containerization software (e.g., Docker) to run the software needed for your\n",
    "analysis\n",
    "6. Write a container file (e.g., Dockerfile) that can be used to reproducibly build a\n",
    "container image that would contain the needed software and environment\n",
    "dependencies of your Data Science project\n",
    "7. Use manual and automated tools (e.g., Docker, GitHub Actions) to build and share\n",
    "container images\n",
    "8. List good container base images for Data Science projects"
   ]
  },
  {
   "cell_type": "markdown",
   "metadata": {
    "Collapsed": "false",
    "slideshow": {
     "slide_type": "slide"
    }
   },
   "source": [
    "## Introduction to containerization\n",
    "\n",
    "### Documenting and loading dependencies\n",
    "\n",
    "You've made some beautiful data analysis pipeline/project using make, R, and/or Python. It runs on your machine, but how easily can you, or someone else, get it working on theirs? The answer usually is, it depends...\n",
    "\n",
    "What does it depend on?\n",
    "\n",
    "\n",
    "\n"
   ]
  },
  {
   "cell_type": "markdown",
   "metadata": {
    "Collapsed": "false",
    "slideshow": {
     "slide_type": "fragment"
    }
   },
   "source": [
    "1. Does your `README` and your scripts make it blatantly obvious what programming languages and packages need to run your data analysis pipeline/project? \n",
    "    "
   ]
  },
  {
   "cell_type": "markdown",
   "metadata": {
    "Collapsed": "false",
    "slideshow": {
     "slide_type": "fragment"
    }
   },
   "source": [
    "2. Do you also document the version numbers of the programming languages and packages you used? This can have big consequences when it comes to reproducibility... (*e.g.*,the [change to random number generation](https://blog.revolutionanalytics.com/2019/05/whats-new-in-r-360.html) in R in 2019?)\n",
    "\n",
    "3. Did you document what other software (beyond the the programming languages and packages used) and operating system dependencies are needed to run your data analysis pipeline/project?\n",
    "\n",
    "*Virtual environments can be tremendously helpful with #1 & #2, however, they may or may not be helpful to manage #3...* __*Enter containerization as a possible solution!*__"
   ]
  },
  {
   "cell_type": "markdown",
   "metadata": {
    "Collapsed": "false",
    "slideshow": {
     "slide_type": "slide"
    }
   },
   "source": [
    "### What is a container?\n",
    "\n",
    "Containers are another way to generate (and share!) isolated computational environments. They differ from virtual environments (which we discussed previously) in that they are even more isolated from the computers operating system, as well as they can be used share many other types of software, applications and operating system dependencies. \n",
    "\n",
    "Before we can fully define containers, however, we need to define **virtualization**. Virtualization is a process that allows us to divide the the elements of a single computer into several virtual elements. These elements can include computer hardware platforms, storage devices, and computer network resources, and even operating system user spaces (e.g., graphical tools, utilities, and programming languages). \n",
    "\n",
    "Containers virtualize operating system user spaces so that they can isolate the processes they contain, as well as control the processes’ access to computer resources (e.g., CPUs, memory and desk space). What this means in practice, is that an operating system user space can be carved up into multiple containers running the same, or different processes, in isolation. Below we show the schematic of a container whose virtual user space contains the:\n",
    "- R programming language, the Bioconductor package manager, and two Bioconductor packages\n",
    "- Galaxy workflow software and two toolboxes that can be used with it\n",
    "- Python programming language, iPython interpreter and Jupyter notebook package\n",
    "\n",
    "<img src=\"img/13742_2016_article_135_f7.jpeg\" width=250>\n",
    "\n",
    "**Example of a Docker container for genomics research.** Source: <https://doi.org/10.1186/s13742-016-0135-4>\n"
   ]
  },
  {
   "cell_type": "markdown",
   "metadata": {},
   "source": [
    "\n",
    "\n",
    "\n",
    "Virtualization is a process whereby software is used to create an abstraction layer over computer hardware that allows the hardware elements of a single computer to be divided into multiple virtual computers.\n",
    "\n",
    "Functionally, containers are more similar to virtual machines. Virtual machines are\n",
    "another technology that can be used to generate (and share) isolated computational environments. Virtual machines emulate the functionality an entire computer on a another physical computer. For example, on a Mac laptop, you could install a program called [Oracle Virtual Box](https://www.virtualbox.org/) to run a virtual machine whose operating system was Windows 10, as the screen shot below shows:\n",
    "\n",
    "<img src=\"https://www.virtualbox.org/raw-attachment/wiki/Screenshots/Windows_8.1_on_OSX.png\">\n",
    "\n",
    "\n",
    "**A screenshot of a Mac OS computer running a Windows virtual machine.** Source: <https://www.virtualbox.org/wiki/Screenshots>\n",
    "\n",
    "\n",
    "A container\n",
    "\n",
    "\n",
    "\n",
    "a computer system created using software on one physical computer in order to emulate the functionality of another separate physical computer. ()\n",
    "\n",
    "\n",
    "A container is an isolated, lightweight silo for running an application on the host operating system. Containers build on top of the host operating system's kernel (which can be thought of as the buried plumbing of the operating system), and contain only apps and some lightweight operating system APIs and services that run in user mode, as shown in this diagram.\n",
    "\n",
    "\"*Docker containers wrap a piece of software in a complete filesystem that contains everything needed to run: code, runtime, system tools, system libraries – anything that can be installed on a server. This guarantees that the software will always run the same, regardless of its environment.*\"\n",
    "\n",
    "*Source: https://www.docker.com/what-docker*"
   ]
  },
  {
   "cell_type": "markdown",
   "metadata": {},
   "source": []
  },
  {
   "cell_type": "markdown",
   "metadata": {
    "Collapsed": "false",
    "slideshow": {
     "slide_type": "slide"
    }
   },
   "source": [
    "## Container versus Virtual Machines\n",
    "\n",
    "![alt tag](img/container_v_vm.png)\n",
    "*Source: https://www.docker.com/resources/what-container*\n",
    "\n",
    "*Key take home - Docker shares the host's operating system, whereas virtual machines have a completely separate, additional operating system. This can make Docker lighter (smaller in terms of size) and more resource and time-efficient than using a virtual machine.*"
   ]
  },
  {
   "cell_type": "markdown",
   "metadata": {
    "Collapsed": "false",
    "slideshow": {
     "slide_type": "slide"
    }
   },
   "source": [
    "## Motivating example - a dependency graph for a data analysis project\n",
    "\n",
    "We can use the tool [makefile2graph](https://github.com/lindenb/makefile2graph) to make a dependency diagram for our data analysis projects from our `Makefile`'s. \n",
    "\n",
    "**Problem** - [makefile2graph](https://github.com/lindenb/makefile2graph) is a pain to install (especially on Windows...)\n",
    "\n",
    "**Solution** - let's use the docker container I built previously to run this!\n"
   ]
  },
  {
   "cell_type": "markdown",
   "metadata": {
    "Collapsed": "false",
    "slideshow": {
     "slide_type": "slide"
    }
   },
   "source": [
    "#### Let's do it!\n",
    "\n",
    "#### Step 0 - Install Docker (do this once)\n",
    "- Follow the [instructions in the MDS installation guide](https://ubc-mds.github.io/resources_pages/installation_instructions/) to do this."
   ]
  },
  {
   "cell_type": "markdown",
   "metadata": {
    "Collapsed": "false",
    "slideshow": {
     "slide_type": "slide"
    }
   },
   "source": [
    "#### Step 1 - launch the Docker app (for OSX & Windows only)\n",
    "- Use launchpad/Finder/Start menu/etc to find and launch Docker"
   ]
  },
  {
   "cell_type": "markdown",
   "metadata": {
    "Collapsed": "false",
    "slideshow": {
     "slide_type": "slide"
    }
   },
   "source": [
    "#### Step 2 - get makefile2graph image from Dockerhub\n",
    "- open command line (terminal/GitBash)\n",
    "- type: `docker pull ttimbers/makefile2graph`\n",
    "- verify that it successfully pulled by typing: `docker images`, you should see something like:\n",
    "```\n",
    "REPOSITORY                TAG                 IMAGE ID            CREATED             SIZE\n",
    "ttimbers/makefile2graph   latest              823dcba8f792        13 months ago       469MB\n",
    "```"
   ]
  },
  {
   "cell_type": "markdown",
   "metadata": {
    "Collapsed": "false",
    "slideshow": {
     "slide_type": "slide"
    }
   },
   "source": [
    "#### Wait! Where did this come from? [Docker Hub](https://hub.docker.com/)!\n",
    "\n",
    "\n",
    "- [Docker Hub](https://hub.docker.com/) is like GitHub but just for Docker images. \n",
    "- So what you downloaded was a Docker image that lives in this repository: https://hub.docker.com/r/ttimbers/makefile2graph/"
   ]
  },
  {
   "cell_type": "markdown",
   "metadata": {
    "Collapsed": "false",
    "slideshow": {
     "slide_type": "slide"
    }
   },
   "source": [
    "#### Step 3 - launch a container from the image and poke around!\n",
    "\n",
    "- type: `docker run -it ttimbers/makefile2graph`\n",
    "- If it worked, then your command line prompt should now look something like this:\n",
    "\n",
    "```\n",
    "root@ad0560c5b81a:/# \n",
    "```\n",
    "- use `ls`, `cd`, `pwd` and explore the container\n",
    "- type `exit` to leave when you are done (your prompt will look normal again)!"
   ]
  },
  {
   "cell_type": "markdown",
   "metadata": {
    "Collapsed": "false",
    "slideshow": {
     "slide_type": "slide"
    }
   },
   "source": [
    "#### Step 4 - clean up your container!\n",
    "\n",
    "- After you close a container it still \"hangs\" around... \n",
    "- View any existing containers using `docker ps -a`\n",
    "- Kill the container by typing `docker rm <container_id>`\n",
    "- Prove to yourself that the container is no longer \"hanging around\" via `docker ps -a`, but that you still have the image installed (via `docker images`)"
   ]
  },
  {
   "cell_type": "markdown",
   "metadata": {
    "Collapsed": "false",
    "slideshow": {
     "slide_type": "slide"
    }
   },
   "source": [
    "#### That's a lot of work...\n",
    "\n",
    "- We can tell Docker to delete the container upon exit using the `--rm` flag in the run command.\n",
    "- Type the command below to run the container again, exit it and prove to yourself that the container was deleted (but not the image!):\n",
    "\n",
    "```\n",
    "docker run -it --rm ttimbers/makefile2graph\n",
    "```"
   ]
  },
  {
   "cell_type": "markdown",
   "metadata": {
    "Collapsed": "false",
    "slideshow": {
     "slide_type": "slide"
    }
   },
   "source": [
    "#### Image vs container?\n",
    "\n",
    "Analogy: The program Chrome is like a Docker image, whereas a Chrome window is like a Docker container.\n",
    "\n",
    "<img src=\"img/instance_analogy.png\" width=\"600\" align=\"left\"/>"
   ]
  },
  {
   "cell_type": "markdown",
   "metadata": {
    "Collapsed": "false",
    "slideshow": {
     "slide_type": "slide"
    }
   },
   "source": [
    "Here is another schematic from a [blog post](https://blog.octo.com/en/docker-registry-first-steps/) by Arnaud Mazin:\n",
    "\n",
    "![Containers_vs_images](img/docker-stages.png)\n",
    "*Source: [OctoTalks](https://blog.octo.com/en/docker-registry-first-steps/)*"
   ]
  },
  {
   "cell_type": "markdown",
   "metadata": {
    "slideshow": {
     "slide_type": "slide"
    }
   },
   "source": [
    "#### Step 5 - connect the container to your hard drive\n",
    "\n",
    "To run the `makefile2graph` program on a file that exists on our laptop we will need to mount at least part of our filesystem as a volume on the Docker container. We do that with `-v <absolute path on laptop>:<relative path from container home directory>`.\n",
    "\n",
    "To mount `data_analysis_pipeline_eg-3-3.0`:\n",
    "\n",
    "1. Download [this version](https://github.com/ttimbers/data_analysis_pipeline_eg/archive/v3.0.zip) of the `data_analysis_pipeline_eg` repository.\n",
    "\n",
    "2. Unzip it and navigate to the root of the project directory.\n",
    "\n",
    "3. Get your current working directory (e.g., using `pwd`).\n",
    "\n",
    "4. Type the following (filling in the absolute path for your laptop):\n",
    "\n",
    "```\n",
    "docker run -it --rm -v <local_version>:<container_folder> ttimbers/makefile2graph\n",
    "```\n",
    "\n",
    "5. Use `ls`, `cd`, `pwd` and explore the container now, can you see the files on your laptop? Specifically the Makefile?\n",
    "\n",
    "### Windows notes for mounting volumes:\n",
    "- Windows machines need to explicitly share drives with Docker\n",
    "- On Windows, the laptop path depends what shell you are using, here are some details:\n",
    "    - If you are going to run it in Git Bash, then the command should be: `docker run --rm -it -v /$(pwd):<PATH_ON_CONTAINER> <IMAGE_NAME>` to share the current directory.\n",
    "    - If you are going to run it in Power Shell, then the command should be: `docker run --rm -it -v <ABSOLUTE_PATH_TO_CONTAINER>:<PATH_ON_CONTAINER> <IMAGE_NAME>` (`pwd` and variants do not seem to work). And the path must be formatted like: `C:\\Users\\tiffany.timbers\\Documents\\project\\:/home/project`"
   ]
  },
  {
   "cell_type": "markdown",
   "metadata": {
    "Collapsed": "false",
    "slideshow": {
     "slide_type": "slide"
    }
   },
   "source": [
    "#### Step 6 - use the makefile2graph program to create the dependency graph (this will be required for milestone 4\n",
    "\n",
    "- Inside the container, navigate into `data_analysis_pipeline_eg`\n",
    "- Type the following to create a `.png` that illustrates the dependencies of your `Makefile`:\n",
    "\n",
    "```\n",
    "makefile2graph > Makefile.dot\n",
    "dot -Tpng Makefile.dot -o Makefile.png\n",
    "```\n",
    "\n",
    "- Exit from the container (via `exit`)\n",
    "\n",
    "- Use your laptop (not the container) to open `Makefile.png` to view the dependency diagram\n",
    "\n",
    "*note - the above commands for step 6 are not Docker commands, they are commands for the `makefile2graph` program. Read the docs for that Software here: https://github.com/lindenb/makefile2graph*\n"
   ]
  },
  {
   "cell_type": "markdown",
   "metadata": {
    "Collapsed": "false",
    "slideshow": {
     "slide_type": "slide"
    }
   },
   "source": [
    "#### Debrief - what did we just do? \n",
    "\n",
    "Let's now dig deeper into the commands and tools we just used to become more familiar with Docker! Let's fill in this table to explain what each part of our Docker commands did:\n",
    "\n",
    "| command/flag | What it does          | \n",
    "|--------------|-----------------------|\n",
    "| `pull`       | Downloads a Docker image from Docker Hub |\n",
    "| `images`     | Tells you what images are installed on your machine                     |\n",
    "| `run`        | Launches a Docker container from an image                      |\n",
    "| `-it`        | Tells Docker to run the container interactively                      |\n",
    "| `--rm`       | Makes a container ephemeral (deletes it upon exit)                      |\n",
    "| `-v`         | Mounts a volume of your laptop to the Docker container                     |\n",
    "| `exit`       | Exits a Docker container                      |"
   ]
  },
  {
   "cell_type": "markdown",
   "metadata": {
    "slideshow": {
     "slide_type": "slide"
    }
   },
   "source": [
    "## Where to next?\n",
    "\n",
    "- Installing things in linux (most containers used in Data Science are linux based)\n",
    "\n",
    "- Creating your own Docker image!"
   ]
  }
 ],
 "metadata": {
  "anaconda-cloud": {},
  "celltoolbar": "Slideshow",
  "kernelspec": {
   "display_name": "Python 3",
   "language": "python",
   "name": "python3"
  },
  "language_info": {
   "codemirror_mode": {
    "name": "ipython",
    "version": 3
   },
   "file_extension": ".py",
   "mimetype": "text/x-python",
   "name": "python",
   "nbconvert_exporter": "python",
   "pygments_lexer": "ipython3",
   "version": "3.9.5"
  }
 },
 "nbformat": 4,
 "nbformat_minor": 4
}
