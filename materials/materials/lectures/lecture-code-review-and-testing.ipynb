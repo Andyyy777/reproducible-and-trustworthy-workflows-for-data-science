{
 "cells": [
  {
   "cell_type": "markdown",
   "metadata": {
    "slideshow": {
     "slide_type": "slide"
    }
   },
   "source": [
    "# Lecture 3: Code reviews, testing and advice for testing complex things"
   ]
  },
  {
   "cell_type": "markdown",
   "metadata": {
    "slideshow": {
     "slide_type": "slide"
    }
   },
   "source": [
    "## Learning objectives:\n",
    "By the end of this lecture, students should be able to:\n",
    "\n",
    "- Perform a code review that uses inline comments and suggested code fixes\n",
    "- Define the following 3 types of testing\n",
    "    - unit testing\n",
    "    - integration testing\n",
    "    - regression testing\n",
    "- Employ a workflow that optimizes accurate code\n",
    "- Write unit tests for complex objects (e.g., data frames, models, plots)\n",
    "- Use `pytest` and `testhat` to run a project's entire test suite\n",
    "- Explain how `pytest` and `testhat` find the test functions when they are asked to run a project's entire test suite"
   ]
  },
  {
   "cell_type": "markdown",
   "metadata": {
    "slideshow": {
     "slide_type": "slide"
    }
   },
   "source": [
    "## Code reviews using in-line comments and suggested code fixes\n",
    "\n",
    "- In the project, you are expected to read and review eachother's code BEFORE accepting a pull request. \n",
    "\n",
    "- Do not expect all (or even most) pull requests to be perfect in their first submission. \n",
    "\n",
    "- We very often need to have a conversation to get pull requests into good shape before merging into master, and GitHub has a very nice tool we can utilize to do this: **GitHub code reviews**\n",
    "\n",
    "\n",
    "<img src =\"https://help.github.com/assets/images/help/commits/hover-comment-icon.gif\" width=700>\n",
    "\n",
    "*Source: <https://help.github.com/en/github/collaborating-with-issues-and-pull-requests/reviewing-proposed-changes-in-a-pull-request>*"
   ]
  },
  {
   "cell_type": "markdown",
   "metadata": {
    "slideshow": {
     "slide_type": "slide"
    }
   },
   "source": [
    "### Demo: do a code review:\n",
    "\n",
    "I am going to demo a code review of a pull request. I have set-up a template GitHub repository for you so that you can easily generate a pull request for you to review if you want to try this later.\n",
    "\n",
    "#### Steps:\n",
    "\n",
    "1. Click the green \"Use this template\" button in [this repository](https://github.com/ttimbers/review-my-pull-request) to obtain a copy of it for yourself (do not fork it).\n",
    "\n",
    "2. Create a remote branch named `pr` (this will use GitHub Actions to create a pull request for you to review in this repository).\n",
    "\n",
    "3. Click on the Pull Requests tab of your copy of the repository, click on the pull request titled \"Report most accomplished pilots\", and then click on \"Files Changed\". Next click on the `star-wars.Rmd` file. Review the file and observe the following problems with the R Markdown report that was submitted via the pull request:\n",
    "  - Reasoning of the sentence on line 15\n",
    "  - Incompatibility with the sentence on line 15 with the code in the code chunk named `table-of-most-accomplished-pilots`\n",
    "  - Incorrect code in code chunk named `table-of-most-accomplished-pilots` (unested `film` instead of `starships`) leads to naming the wrong pilot as the most accomplished pilot on line 19\n",
    "  - Incorrect code in code chunk named `table-of-most-accomplished-pilots` (unested `film` instead of `starships`) leads to the use of the wrong character's picture in the image that is sourced in the code chunk named `top-pilot` (it should be a picture of Obi-Wan Kenobi, you could use this URL for example: <https://hips.hearstapps.com/hmg-prod.s3.amazonaws.com/images/ewan-mcgregor-obi-wan-1570898048.jpg>).\n",
    "\n",
    "4. Add comments and suggested changes using the `+` sign beside the line numbers (the first time you do this will trigger the start of your code review. Need help? See [GitHub's how to on reviewing proposed changes in a pull request](https://help.github.com/en/github/collaborating-with-issues-and-pull-requests/reviewing-proposed-changes-in-a-pull-request).\n",
    "\n",
    "5. After you have made all the comments and suggested changes, then add a general comment for the code review, select \"Request Changes\" and submit your code review.\n",
    "\n"
   ]
  },
  {
   "cell_type": "markdown",
   "metadata": {
    "slideshow": {
     "slide_type": "slide"
    }
   },
   "source": [
    "### Demo: Accept suggested changes from a code review:\n",
    "\n",
    "#### Steps:\n",
    "\n",
    "1. To accept the code changes that you provided as suggestions, revisit the Pull Requests tab of your copy of the repository and clicking on the pull request titled \"Report most accomplished pilots\". Scroll through the pull request comments and find the code suggestions. Then click on the \"Commit suggestion button\" for each suggestion. \n",
    "\n",
    "2. Click on the \"Show all reviewers\" link beside the red \"Changes requested\"\" text. Then click on the `...` beside the reviewer and click \"Approve changes\".\n",
    "\n",
    "3. Finally click on the green buttons (\"Merge Pull Request\" & \"Confirm merge\") to merge the pull request."
   ]
  },
  {
   "cell_type": "markdown",
   "metadata": {
    "slideshow": {
     "slide_type": "slide"
    }
   },
   "source": [
    "### Discussion: \n",
    "\n",
    "Could I have done the entire code review well by just reviewing it on GitHub?"
   ]
  },
  {
   "cell_type": "markdown",
   "metadata": {
    "slideshow": {
     "slide_type": "fragment"
    }
   },
   "source": [
    "*Hint: if I didn't tell you that the top pilot was Obi-Wan Kenobi, how would you have known that?*"
   ]
  },
  {
   "cell_type": "markdown",
   "metadata": {
    "slideshow": {
     "slide_type": "notes"
    }
   },
   "source": [
    "### How do you not accept a pull request?\n",
    "\n",
    "In some cases, it might not make sense to merge a pull request. To close a pull request that should not be merged, scroll to the bottom of the pull request page, and look for a gray \"Closes pull request\" button. This will end move the pull request to the closed pull requests section (similar to closed issues) and does not merge the changes. \n",
    "\n",
    "```{figure} img/close-pr.png\n",
    "---\n",
    "width: 500px\n",
    "name: close-pr.png\n",
    "---\n",
    "```"
   ]
  },
  {
   "cell_type": "markdown",
   "metadata": {
    "slideshow": {
     "slide_type": "slide"
    }
   },
   "source": [
    "## Some common and useful types of testing\n",
    "\n",
    "- unit testing\n",
    "- integration testing\n",
    "- regression testing"
   ]
  },
  {
   "cell_type": "markdown",
   "metadata": {
    "slideshow": {
     "slide_type": "slide"
    }
   },
   "source": [
    "### Unit testing\n",
    "\n",
    "- Tests whether an individual component of a piece of software works as expected \n",
    "\n",
    "#### In the chat:\n",
    "\n",
    "With your neighbour, come up with a description of an example of a unit test. "
   ]
  },
  {
   "cell_type": "markdown",
   "metadata": {
    "slideshow": {
     "slide_type": "slide"
    }
   },
   "source": [
    "### Integration testing\n",
    "\n",
    "- Tests whether separate components of a piece of software, which depend upon eachother, work together as expected.\n",
    "- **An example**: tests that checks whether `Pipeline` from `sklearn` works as expected.\n",
    "\n",
    "#### In the chat:\n",
    "\n",
    "With your neighbour, discuss whether it always makes sense for software packages to have integration tests? Do you think your project needs integration tests?"
   ]
  },
  {
   "cell_type": "markdown",
   "metadata": {
    "slideshow": {
     "slide_type": "slide"
    }
   },
   "source": [
    "### Regression testing\n",
    "\n",
    "- Tests that check that recent changes to the code base do not break already implemented features.\n",
    "- This is done by running all (or a large) subset of tests that already exist after making changes to the code base to ensure they still all pass"
   ]
  },
  {
   "cell_type": "markdown",
   "metadata": {
    "slideshow": {
     "slide_type": "fragment"
    }
   },
   "source": [
    "This is especially challenging in projects with a large code base when tests are split across many files and functions/code chunks. How can we do this? "
   ]
  },
  {
   "cell_type": "markdown",
   "metadata": {
    "slideshow": {
     "slide_type": "fragment"
    }
   },
   "source": [
    "We can take advantage of using tools designed to automate this (e.g., `pytest` & `testthat`) and following their function/method, file & directory naming conventions & organization (more on this later in the lecture). "
   ]
  },
  {
   "cell_type": "markdown",
   "metadata": {
    "slideshow": {
     "slide_type": "slide"
    }
   },
   "source": [
    "## Black box & white box testing\n",
    "\n",
    " **Black box testing:** is a method of software testing that examines the functionality of an application without peering into its internal structures or workings. This method of test can be applied virtually to every level of software testing: unit, integration, system and acceptance. It is sometimes referred to as specification-based testing.\n",
    " \n",
    " \n",
    " **White box testing:** is a method of software testing that tests internal structures or workings of an application, as opposed to its functionality (*i.e.* black-box testing). In white-box testing an internal perspective of the system, as well as programming skills, are used to design test cases. \n",
    " \n",
    " \n",
    "*Source: [Wikipedia](https://en.wikipedia.org/wiki/Main_Page)*"
   ]
  },
  {
   "cell_type": "markdown",
   "metadata": {
    "slideshow": {
     "slide_type": "slide"
    }
   },
   "source": [
    "## Write unit tests for complex objects \n",
    "(e.g., data frames, models, plots)\n",
    "\n",
    "Writing unit tests for a single value, vector or list is fairly straight forward from what we have learned in 511 & 523, but what about more complex object? How do we write tests when our functions return:\n",
    "\n",
    "- data frames?\n",
    "- plot objects?\n",
    "- model objects?"
   ]
  },
  {
   "cell_type": "markdown",
   "metadata": {},
   "source": [
    "## General guidelings for testing data frames\n",
    "\n",
    "**Reproducibly** create helper/test data that is simple and tractable, that you could use to perform your function's job by hand.\n",
    "\n",
    "Simplest:\n",
    "- Data can live (preferrably generated) in the test file, above where the tests are written (simplest). **Do not use `test` in the names of these functions.**\n",
    "\n",
    "If you need to speed things up you can:\n",
    "\n",
    "- Python:\n",
    "    - In Python packages, the `pytest` testing framework allows data to be coded as fixtures in the test file (see [simple pytest fixtures tutorial here](https://www.tutorialspoint.com/pytest/pytest_fixtures.htm) to generate data in a function before the tests are run. \n",
    "    \n",
    "    \n",
    "\n",
    "- R:\n",
    "    - put your helper functions in a file in the `tests/testthat` directory that and pre-fix the filename with `helper_` so that they will be run before the tests.\n",
    "    - In R packages, data can also be \"part of the package\" and made external to the user. If you think your test data might be useful for the package user (i.e., beyond developer testing) then you can do this by putting it in the data directory. {usethis} has some nice helpers to make this easy, and you can see the instructions for this [here](https://r-pkgs.org/data.html) in the R packages book."
   ]
  },
  {
   "cell_type": "markdown",
   "metadata": {
    "slideshow": {
     "slide_type": "slide"
    }
   },
   "source": [
    "- Where possible, use functions designed specifically for testing data frames (e.g., `dplyr::all_equal` and `pandas.DataFrame.equals`)."
   ]
  },
  {
   "cell_type": "markdown",
   "metadata": {
    "slideshow": {
     "slide_type": "fragment"
    }
   },
   "source": [
    "- If not possible, test for equality of important values (e.g., specific columns) and attributes (e.g., shape, column names, column type, etc) using the `expect_*` functions inside of `test_that` in R, or via assertions in Python."
   ]
  },
  {
   "cell_type": "markdown",
   "metadata": {
    "slideshow": {
     "slide_type": "slide"
    }
   },
   "source": [
    "## General guidelings for testing plot objects\n",
    "\n",
    "- **Reproducibly** create helper/test data that is simple and tractable, that you could use to test your function's performance."
   ]
  },
  {
   "cell_type": "markdown",
   "metadata": {},
   "source": [
    "- Initial tests should be designed to test that plots have expected attributes (e.g., expected mark, correct mapping to axes, etc)"
   ]
  },
  {
   "cell_type": "markdown",
   "metadata": {
    "slideshow": {
     "slide_type": "fragment"
    }
   },
   "source": [
    "- Once a desired plot is generated, visual regression tests can be used to ensure that further code refactoring does not change the plot function. Tools for this exist for R in the [`vdiffr`](https://github.com/r-lib/vdiffr) package. Matplotlib uses visual regression testing as well, you can see the docs for examples of this [here](https://matplotlib.org/3.3.4/devel/testing.html#writing-an-image-comparison-test)."
   ]
  },
  {
   "cell_type": "markdown",
   "metadata": {
    "slideshow": {
     "slide_type": "slide"
    }
   },
   "source": [
    "Consider this function, what tests might we write for it?"
   ]
  },
  {
   "cell_type": "code",
   "execution_count": null,
   "metadata": {
    "slideshow": {
     "slide_type": "fragment"
    }
   },
   "outputs": [],
   "source": [
    "library(testthat)\n",
    "\n",
    "#' scatter2d \n",
    "#'\n",
    "#' A short-cut function for creating 2 dimensional scatterplots via ggplot2.\n",
    "#'\n",
    "#' @param data data.frame or tibble\n",
    "#' @param x unquoted column name to plot on the x-axis from data data.frame or tibble\n",
    "#' @param y unquoted column name to plot on the y-axis from data data.frame or tibble\n",
    "#'\n",
    "#' @return\n",
    "#' @export\n",
    "#'\n",
    "#' @examples\n",
    "#' scatter2d(mtcars, hp, mpg)\n",
    "scatter2d <- function(data, x, y) {\n",
    "    ggplot2::ggplot(data, ggplot2::aes(x = {{x}}, y = {{y}})) +\n",
    "        ggplot2::geom_point()\n",
    "}"
   ]
  },
  {
   "cell_type": "markdown",
   "metadata": {
    "slideshow": {
     "slide_type": "slide"
    }
   },
   "source": [
    "Let's see how we can get `ggplot2` object attributes by first creating an some simple data, and then an object with our function, and then poking around at the object:"
   ]
  },
  {
   "cell_type": "code",
   "execution_count": null,
   "metadata": {},
   "outputs": [],
   "source": [
    "test_data <- dplyr::tibble(x_vals = c(2, 4, 6),\n",
    "                   y_vals = c(2, 4, 6))"
   ]
  },
  {
   "cell_type": "code",
   "execution_count": null,
   "metadata": {
    "slideshow": {
     "slide_type": "fragment"
    }
   },
   "outputs": [],
   "source": [
    "plot2d <- scatter2d(test_data, x_vals, y_vals)\n",
    "plot2d"
   ]
  },
  {
   "cell_type": "markdown",
   "metadata": {
    "slideshow": {
     "slide_type": "slide"
    }
   },
   "source": [
    "Can we find the an attribute that tells us it has a `geom_point` attribute?"
   ]
  },
  {
   "cell_type": "code",
   "execution_count": null,
   "metadata": {
    "slideshow": {
     "slide_type": "fragment"
    }
   },
   "outputs": [],
   "source": [
    "plot2d$layers"
   ]
  },
  {
   "cell_type": "code",
   "execution_count": null,
   "metadata": {},
   "outputs": [],
   "source": [
    "plot2d$layers[[1]]$geom"
   ]
  },
  {
   "cell_type": "code",
   "execution_count": null,
   "metadata": {},
   "outputs": [],
   "source": [
    "plot2d$layers[[1]]$geom"
   ]
  },
  {
   "cell_type": "code",
   "execution_count": null,
   "metadata": {},
   "outputs": [],
   "source": [
    "class(plot2d$layers[[1]]$geom)"
   ]
  },
  {
   "cell_type": "markdown",
   "metadata": {
    "slideshow": {
     "slide_type": "slide"
    }
   },
   "source": [
    "Can we find the an attribute that tells us that the variables have been correctly mapped to the axes?"
   ]
  },
  {
   "cell_type": "code",
   "execution_count": null,
   "metadata": {
    "slideshow": {
     "slide_type": "fragment"
    }
   },
   "outputs": [],
   "source": [
    "plot2d$mapping$x"
   ]
  },
  {
   "cell_type": "code",
   "execution_count": null,
   "metadata": {},
   "outputs": [],
   "source": [
    "rlang::get_expr(plot2d$mapping$x)"
   ]
  },
  {
   "cell_type": "markdown",
   "metadata": {},
   "source": [
    "We could go through the same exercise for the y-axis"
   ]
  },
  {
   "cell_type": "markdown",
   "metadata": {
    "slideshow": {
     "slide_type": "slide"
    }
   },
   "source": [
    "Great, now we know enough that can write some basic tests for our function. This function will need a plot to test on, so we need to create that first within our `test_that` chunk."
   ]
  },
  {
   "cell_type": "code",
   "execution_count": null,
   "metadata": {
    "slideshow": {
     "slide_type": "fragment"
    }
   },
   "outputs": [],
   "source": [
    "test_that('Plot should use geom_point and map x to x-axis, and y to y-axis.', {\n",
    "    expect_true(\"GeomPoint\" %in% c(class(plot2d$layers[[1]]$geom)))\n",
    "    expect_true(\"x_vals\"  == rlang::get_expr(plot2d$mapping$x))\n",
    "    expect_true(\"y_vals\" == rlang::get_expr(plot2d$mapping$y))\n",
    "})"
   ]
  },
  {
   "cell_type": "markdown",
   "metadata": {
    "slideshow": {
     "slide_type": "slide"
    }
   },
   "source": [
    "### Other attributes you might want to test?\n",
    "\n",
    "- Labels via `\"Some label\" == p$labels$x` for the x-axis, for example\n",
    "- That a variable is mapped to colour via `a_variable == rlang::get_expr(p$colour)`, for example\n",
    "- That the plot is facetted via `\"FacetGrid\" %in% class(rlang::get_expr(side_by_side_world$facet))`"
   ]
  },
  {
   "cell_type": "markdown",
   "metadata": {},
   "source": [
    "### Example test for altair plots"
   ]
  },
  {
   "cell_type": "markdown",
   "metadata": {},
   "source": [
    "Here's a function that creates a scatter plot:"
   ]
  },
  {
   "cell_type": "markdown",
   "metadata": {},
   "source": [
    "```\n",
    "def scatter(df, x_axis, y_axis):\n",
    "    chart = alt.Chart(df).mark_line().encode(\n",
    "        alt.X(x_axis + ':Q',\n",
    "            scale=alt.Scale(zero=False),\n",
    "              axis=alt.Axis(tickMinStep=1)\n",
    "        ),\n",
    "        y=y_axis\n",
    "    )\n",
    "    return chart\n",
    "```"
   ]
  },
  {
   "cell_type": "markdown",
   "metadata": {},
   "source": [
    "Here's some small data to test it on:\n",
    "\n",
    "```\n",
    "small_data = pd.DataFrame({\n",
    "        'year': np.array([1901, 1902, 1903, 1904, 1905]),\n",
    "        'measure' : np.array([25, 25, 50, 50, 100])\n",
    "    })\n",
    "small_data\n",
    "```"
   ]
  },
  {
   "cell_type": "markdown",
   "metadata": {},
   "source": [
    "Here's the plot:\n",
    "\n",
    "```\n",
    "small_scatter = scatter(small_data, 'year', 'measure')\n",
    "small_scatter\n",
    "```\n",
    "\n",
    "```{figure} img/alt_chart.png\n",
    "---\n",
    "height: 500px\n",
    "name: alt_chart.png\n",
    "---\n",
    "```"
   ]
  },
  {
   "cell_type": "markdown",
   "metadata": {},
   "source": [
    "Here's a unit test for the `scatter` function:\n",
    "\n",
    "```\n",
    "def test_scatter():\n",
    "    assert small_scatter.encoding.x.field == 'year', 'x_axis should be mapped to the x axis'\n",
    "    assert small_scatter.encoding.y.field == 'measure', 'y_axis should be mapped to the y axis'\n",
    "    assert small_scatter.mark == 'line', 'mark should be a line'\n",
    "    assert small_scatter.encoding.x.scale.zero == False, \"x-axis should not start at 0\"\n",
    "    assert small_scatter.encoding.x.axis.tickMinStep == 1, \"x-axis small tick step should be 1\"\n",
    "```"
   ]
  },
  {
   "cell_type": "markdown",
   "metadata": {
    "slideshow": {
     "slide_type": "slide"
    }
   },
   "source": [
    "### General guidelings for testing model objects\n",
    "\n",
    "- **Reproducibly** create helper/test data that is simple and tractable, that you could use to perform your function's job by hand (ideally)"
   ]
  },
  {
   "cell_type": "markdown",
   "metadata": {},
   "source": [
    "- Initial tests should be designed to test that models have expected attributes and results"
   ]
  },
  {
   "cell_type": "markdown",
   "metadata": {},
   "source": [
    "- Only secondarily, may you want to compare to existing methods (rationale for this being second: what if their tests are wrong? Or worse, what if they don't have any!)"
   ]
  },
  {
   "cell_type": "markdown",
   "metadata": {
    "slideshow": {
     "slide_type": "slide"
    }
   },
   "source": [
    "### But I have another type of object? How do I test it?\n",
    "\n",
    "If you don't know where to start writing tests for the object you plan to use or return in your function, try the following:"
   ]
  },
  {
   "cell_type": "markdown",
   "metadata": {
    "slideshow": {
     "slide_type": "fragment"
    }
   },
   "source": [
    "- make such an object and interactively explore it"
   ]
  },
  {
   "cell_type": "markdown",
   "metadata": {
    "slideshow": {
     "slide_type": "slide"
    }
   },
   "source": [
    "- look at other packages that have functions and return the same kind of object, what do they test for?"
   ]
  },
  {
   "cell_type": "markdown",
   "metadata": {
    "slideshow": {
     "slide_type": "slide"
    }
   },
   "source": [
    "## How pytest works:\n",
    "\n",
    "Let's explore the `convertempPy` package!\n",
    "\n",
    "- https://github.com/ttimbers/convertempPy"
   ]
  },
  {
   "cell_type": "markdown",
   "metadata": {
    "slideshow": {
     "slide_type": "slide"
    }
   },
   "source": [
    "## How pytest works:\n",
    "\n",
    "To run all tests in an Python package that uses `pytest`, run the following from the command line with the working directory being set as the package's root directory:\n",
    "\n",
    "```\n",
    "poetry run pytest\n",
    "```\n",
    "\n",
    "> Note: because we are using Poetry to build our packages, we need to prefix the pytest command with `poetry run` so that the tests are run in our package's virtual environment.\n",
    "\n",
    "This command runs a recursive search (downward from the directory where this command is run) for files that are prefixed with `test_*.py` or `*_test.py` files which are imported by their test package name. From these files, it will run the functions whose names are pre-fixed with `test`."
   ]
  },
  {
   "cell_type": "markdown",
   "metadata": {
    "slideshow": {
     "slide_type": "slide"
    }
   },
   "source": [
    "**Demonstration** of `pytest` (time permitted)"
   ]
  },
  {
   "cell_type": "markdown",
   "metadata": {
    "slideshow": {
     "slide_type": "slide"
    }
   },
   "source": [
    "## How testthat works:\n",
    "\n",
    "To run all tests in an R package that uses `testthat`, run the following from the R console with the working directory being set as the package's root directory:\n",
    "\n",
    "```\n",
    "devtools::test()\n",
    "```\n",
    "\n",
    "This command is a shortcut for `testthat::test_dir()`, and it runs all the files that live in `tests/testthat/` that start with `test`.\n",
    "\n",
    "*Source: [R Packages, Chapter 10](https://r-pkgs.org/tests.html)*"
   ]
  },
  {
   "cell_type": "markdown",
   "metadata": {
    "slideshow": {
     "slide_type": "slide"
    }
   },
   "source": [
    "### Organizing tests for your R package:\n",
    "\n",
    "Let's explore the `convertempr` package!\n",
    "\n",
    "- https://github.com/ttimbers/convertempr"
   ]
  },
  {
   "cell_type": "markdown",
   "metadata": {
    "slideshow": {
     "slide_type": "slide"
    }
   },
   "source": [
    "### Organizing tests for your R package:\n",
    "\n",
    "Tests are organised hierarchically: **expectations** are grouped into **tests** which are organised in **files**:\n",
    "\n",
    "- An **expectation** is the atom of testing. It describes the expected result of a computation: Does it have the right value and right class? Does it produce error messages when it should? An expectation automates visual checking of results in the console. Expectations are functions that start with `expect_`."
   ]
  },
  {
   "cell_type": "markdown",
   "metadata": {},
   "source": [
    "- A **test** groups together multiple expectations to test the output from a simple function, a range of possibilities for a single parameter from a more complicated function, or tightly related functionality from across multiple functions. This is why they are sometimes called **unit** as they test one unit of functionality. A test is created with `test_that()`."
   ]
  },
  {
   "cell_type": "markdown",
   "metadata": {},
   "source": [
    "- A **file** groups together multiple related tests. Files are given a human readable name with `context()`."
   ]
  },
  {
   "cell_type": "markdown",
   "metadata": {},
   "source": [
    "*Source: [R Packages, Chapter 10](https://r-pkgs.org/tests.html)*"
   ]
  },
  {
   "cell_type": "markdown",
   "metadata": {
    "slideshow": {
     "slide_type": "slide"
    }
   },
   "source": [
    "## Where are we headed next?\n",
    "\n",
    "- What is code coverage, why is it important and how do we measure it?"
   ]
  }
 ],
 "metadata": {
  "kernelspec": {
   "display_name": "R",
   "language": "R",
   "name": "ir"
  },
  "language_info": {
   "codemirror_mode": "r",
   "file_extension": ".r",
   "mimetype": "text/x-r-source",
   "name": "R",
   "pygments_lexer": "r",
   "version": "4.1.2"
  }
 },
 "nbformat": 4,
 "nbformat_minor": 4
}
