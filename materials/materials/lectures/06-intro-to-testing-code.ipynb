{
 "cells": [
  {
   "cell_type": "markdown",
   "metadata": {
    "slideshow": {
     "slide_type": "slide"
    }
   },
   "source": [
    "# Introduction to testing code for data science"
   ]
  },
  {
   "cell_type": "markdown",
   "metadata": {
    "slideshow": {
     "slide_type": "slide"
    }
   },
   "source": [
    "## Topic learning objectives\n",
    "\n",
    "By the end of this topic, students should be able to:\n",
    "\n",
    "1. Fully specify a function and write comprehensive tests against the specification.\n",
    "2. Reproducibly generate test data (e.g., data frames, models, plots).\n",
    "3. Discuss the observability of unit outputs in data science (e.g., plot objects), and how\n",
    "this should be taken into account when designing software.\n",
    "4. Explain why test-driven development (TDD) affords testability\n",
    "5. Use exceptions when writing code.\n",
    "6. Test if a function is throwing an exception when it should, and that is does not do so\n",
    "when it shouldn’t.\n",
    "7. Evaluate test suite quality."
   ]
  },
  {
   "cell_type": "code",
   "execution_count": 1,
   "metadata": {},
   "outputs": [],
   "source": [
    "# Limit output of data frame output to 10 lines\n",
    "options(repr.matrix.max.rows = 10)"
   ]
  },
  {
   "cell_type": "markdown",
   "metadata": {
    "slideshow": {
     "slide_type": "slide"
    }
   },
   "source": [
    "## Functions\n",
    "\n",
    "- Functions are individual units of code that perform a specific task.\n",
    "- They are useful for increasing code modularity - this helps with reusability and readability.\n",
    "- Functions can be easily tested to ensure the correct function outputs are given and that they handle user errors in expected ways. These checks help to increase the robustness of your code.\n",
    "\n",
    "When should you write a function? In practice, when you start re-writing code for the second or third time, it really is time to abstract your code into a function. When does this happen in data science? Think back to your DSCI 100 projects, you may have had redundant code when you:\n",
    "\n",
    "1. Repeatedly applied some data cleaning/manipulation to columns in your raw data suring the data wrangling process\n",
    "\n",
    "2. Created many similar data visualizations during your exploratory data analysis\n",
    "\n",
    "3. Created many similar tidymodels workflows when you were tuning your predictive models\n",
    "\n",
    "\n",
    "## Defining functions in R:\n",
    "\n",
    "In this course, we will get to practice writing functions (and then testing them) in the R programming language. Given this has not been covered in the course pre-requisites, we will cover it here briefly. To learn more about functions in R, we refer you to the [functions chapter in the Advanced R book](https://adv-r.hadley.nz/functions.html).\n",
    "\n",
    "- Use `variable <- function(…arguments…) { …body… }` to create a function and give it a name\n",
    "\n",
    "Example:"
   ]
  },
  {
   "cell_type": "code",
   "execution_count": 1,
   "metadata": {
    "slideshow": {
     "slide_type": "fragment"
    }
   },
   "outputs": [
    {
     "data": {
      "text/html": [
       "5"
      ],
      "text/latex": [
       "5"
      ],
      "text/markdown": [
       "5"
      ],
      "text/plain": [
       "[1] 5"
      ]
     },
     "metadata": {},
     "output_type": "display_data"
    }
   ],
   "source": [
    "add_two_numbers <- function(x, y) {\n",
    "  x + y\n",
    "}\n",
    "\n",
    "add_two_numbers(1, 4)"
   ]
  },
  {
   "cell_type": "markdown",
   "metadata": {
    "slideshow": {
     "slide_type": "fragment"
    }
   },
   "source": [
    "- Functions in R are objects. This is referred to as “first-class functions”.\n",
    "- The last line of the function returns the object created, or listed there. To return a value early use the special word `return` (as shown below)."
   ]
  },
  {
   "cell_type": "code",
   "execution_count": 16,
   "metadata": {
    "slideshow": {
     "slide_type": "slide"
    }
   },
   "outputs": [],
   "source": [
    "math_two_numbers <- function(x, y, operation) {\n",
    "  if (operation == \"add\") {\n",
    "    return(x + y)\n",
    "  } \n",
    "  x - y\n",
    "}"
   ]
  },
  {
   "cell_type": "code",
   "execution_count": 17,
   "metadata": {},
   "outputs": [
    {
     "data": {
      "text/html": [
       "5"
      ],
      "text/latex": [
       "5"
      ],
      "text/markdown": [
       "5"
      ],
      "text/plain": [
       "[1] 5"
      ]
     },
     "metadata": {},
     "output_type": "display_data"
    }
   ],
   "source": [
    "math_two_numbers (1, 4, \"add\")"
   ]
  },
  {
   "cell_type": "code",
   "execution_count": 18,
   "metadata": {},
   "outputs": [
    {
     "data": {
      "text/html": [
       "-3"
      ],
      "text/latex": [
       "-3"
      ],
      "text/markdown": [
       "-3"
      ],
      "text/plain": [
       "[1] -3"
      ]
     },
     "metadata": {},
     "output_type": "display_data"
    }
   ],
   "source": [
    "math_two_numbers (1, 4, \"subtract\")"
   ]
  },
  {
   "cell_type": "markdown",
   "metadata": {
    "slideshow": {
     "slide_type": "slide"
    }
   },
   "source": [
    "### Default function arguments\n",
    "\n",
    "Default values can be specified in the function definition:"
   ]
  },
  {
   "cell_type": "code",
   "execution_count": 21,
   "metadata": {
    "slideshow": {
     "slide_type": "fragment"
    }
   },
   "outputs": [],
   "source": [
    "math_two_numbers <- function(x, y, operation = \"add\") {\n",
    "  if (operation == \"add\") {\n",
    "    return(x + y)\n",
    "  } \n",
    "  x - y\n",
    "}"
   ]
  },
  {
   "cell_type": "code",
   "execution_count": 22,
   "metadata": {},
   "outputs": [
    {
     "data": {
      "text/html": [
       "5"
      ],
      "text/latex": [
       "5"
      ],
      "text/markdown": [
       "5"
      ],
      "text/plain": [
       "[1] 5"
      ]
     },
     "metadata": {},
     "output_type": "display_data"
    }
   ],
   "source": [
    "math_two_numbers (1, 4)"
   ]
  },
  {
   "cell_type": "code",
   "execution_count": 23,
   "metadata": {},
   "outputs": [
    {
     "data": {
      "text/html": [
       "-3"
      ],
      "text/latex": [
       "-3"
      ],
      "text/markdown": [
       "-3"
      ],
      "text/plain": [
       "[1] -3"
      ]
     },
     "metadata": {},
     "output_type": "display_data"
    }
   ],
   "source": [
    "math_two_numbers (1, 4, \"subtract\")"
   ]
  },
  {
   "cell_type": "markdown",
   "metadata": {
    "slideshow": {
     "slide_type": "skip"
    }
   },
   "source": [
    "#### Optional - Advanced\n",
    "\n",
    "##### Extra arguments via `...`\n",
    "\n",
    "If we want our function to be able to take extra arguments that we don't specify, we must explicitly convert `...` to a list (otherwise `...` will just return the first object passed to `...`):"
   ]
  },
  {
   "cell_type": "code",
   "execution_count": 29,
   "metadata": {
    "slideshow": {
     "slide_type": "skip"
    }
   },
   "outputs": [
    {
     "name": "stdout",
     "output_type": "stream",
     "text": [
      "[[1]]\n",
      "[1] 5\n",
      "\n",
      "[[2]]\n",
      "[1] 6\n",
      "\n"
     ]
    }
   ],
   "source": [
    "add <- function(x, y, ...) {\n",
    "    print(list(...))\n",
    "}\n",
    "add(1, 3, 5, 6)"
   ]
  },
  {
   "cell_type": "markdown",
   "metadata": {
    "slideshow": {
     "slide_type": "slide"
    }
   },
   "source": [
    "### Lexical scoping in R\n",
    "\n",
    "R’s lexical scoping follows several rules, we will cover the following 3:\n",
    "\n",
    "- Name masking\n",
    "- Dynamic lookup\n",
    "- A fresh start"
   ]
  },
  {
   "cell_type": "markdown",
   "metadata": {
    "slideshow": {
     "slide_type": "slide"
    }
   },
   "source": [
    "#### Name masking\n",
    "\n",
    "Object names which are defined inside a function mask object names defined outside of that function. For example, below `x` is first defined in the global environment, and then also defined in the function environment. `x` in the function environment masks `x` in the global environment, so the value of 5 is used in `to_add + x` instead of 10:"
   ]
  },
  {
   "cell_type": "code",
   "execution_count": 35,
   "metadata": {
    "slideshow": {
     "slide_type": "fragment"
    }
   },
   "outputs": [
    {
     "data": {
      "text/html": [
       "7"
      ],
      "text/latex": [
       "7"
      ],
      "text/markdown": [
       "7"
      ],
      "text/plain": [
       "[1] 7"
      ]
     },
     "metadata": {},
     "output_type": "display_data"
    }
   ],
   "source": [
    "x <- 10\n",
    "\n",
    "add_to_x <- function(to_add) {\n",
    "    x <- 5\n",
    "    to_add + x\n",
    "}\n",
    "\n",
    "add_to_x(2)"
   ]
  },
  {
   "cell_type": "markdown",
   "metadata": {},
   "source": [
    "If a function refers to an object name that is not defined inside the function, then R looks at the environment one level above. And if it is not found there, it again, looks another level above. This will happen all the way up the environment tree until it searches all possible environments for that session (including the global environment and loaded packages).\n",
    "\n",
    "<img src=\"img/env-lookup.png\" width=600>\n",
    "\n",
    "*__Attribution__: Derived from [Advanced R](https://adv-r.hadley.nz/) by Hadley Wickham*"
   ]
  },
  {
   "cell_type": "markdown",
   "metadata": {},
   "source": [
    "Here `x` is not defined in the function environment, and so R then looks one-level up to the global environment to try to find `x`. In this case it does and it is then used to calculate `to_add + x`:"
   ]
  },
  {
   "cell_type": "code",
   "execution_count": 38,
   "metadata": {},
   "outputs": [
    {
     "data": {
      "text/html": [
       "12"
      ],
      "text/latex": [
       "12"
      ],
      "text/markdown": [
       "12"
      ],
      "text/plain": [
       "[1] 12"
      ]
     },
     "metadata": {},
     "output_type": "display_data"
    }
   ],
   "source": [
    "x <- 10\n",
    "\n",
    "add_to_x <- function(to_add) {\n",
    "    to_add + x\n",
    "}\n",
    "\n",
    "add_to_x(2)"
   ]
  },
  {
   "cell_type": "markdown",
   "metadata": {
    "slideshow": {
     "slide_type": "slide"
    }
   },
   "source": [
    "#### Dynamic lookup\n",
    "\n",
    "R does not look up the values for objects it references when it is defined/created, instead it does this when the function is called. This can lead to the function returning different things depending on the values of the objects it references outside of the function's environment. \n",
    "\n",
    "For example, each time the function `add_to_x` is run, R looks up the current value of `x` and uses that to compute `to_add + x`:"
   ]
  },
  {
   "cell_type": "code",
   "execution_count": 37,
   "metadata": {
    "slideshow": {
     "slide_type": "fragment"
    }
   },
   "outputs": [
    {
     "data": {
      "text/html": [
       "12"
      ],
      "text/latex": [
       "12"
      ],
      "text/markdown": [
       "12"
      ],
      "text/plain": [
       "[1] 12"
      ]
     },
     "metadata": {},
     "output_type": "display_data"
    },
    {
     "data": {
      "text/html": [
       "22"
      ],
      "text/latex": [
       "22"
      ],
      "text/markdown": [
       "22"
      ],
      "text/plain": [
       "[1] 22"
      ]
     },
     "metadata": {},
     "output_type": "display_data"
    }
   ],
   "source": [
    "add_to_x <- function(to_add) {\n",
    "    to_add + x\n",
    "}\n",
    "\n",
    "x <- 10\n",
    "add_to_x(2)\n",
    "\n",
    "x <- 20\n",
    "add_to_x(2)"
   ]
  },
  {
   "cell_type": "markdown",
   "metadata": {
    "slideshow": {
     "slide_type": "slide"
    }
   },
   "source": [
    "#### A fresh start\n",
    "\n",
    "Functions in R have no memory of what happened the last time they were called. This happens because a new function environment is created, R created a new environment in which to execute it. \n",
    "\n",
    "For example, even though we update the value of `x` inside the function by adding two to it every time we execute it, it returns the same value each time, because R creates a new function environment each time we run it and that environment has no recollection of what happened the last time the function was run:"
   ]
  },
  {
   "cell_type": "code",
   "execution_count": 41,
   "metadata": {
    "slideshow": {
     "slide_type": "fragment"
    }
   },
   "outputs": [
    {
     "data": {
      "text/html": [
       "12"
      ],
      "text/latex": [
       "12"
      ],
      "text/markdown": [
       "12"
      ],
      "text/plain": [
       "[1] 12"
      ]
     },
     "metadata": {},
     "output_type": "display_data"
    },
    {
     "data": {
      "text/html": [
       "12"
      ],
      "text/latex": [
       "12"
      ],
      "text/markdown": [
       "12"
      ],
      "text/plain": [
       "[1] 12"
      ]
     },
     "metadata": {},
     "output_type": "display_data"
    },
    {
     "data": {
      "text/html": [
       "12"
      ],
      "text/latex": [
       "12"
      ],
      "text/markdown": [
       "12"
      ],
      "text/plain": [
       "[1] 12"
      ]
     },
     "metadata": {},
     "output_type": "display_data"
    }
   ],
   "source": [
    "x <- 10\n",
    "\n",
    "add_to_x <- function(to_add) {\n",
    "    x <- to_add + x\n",
    "    x\n",
    "}\n",
    "\n",
    "add_to_x(2)\n",
    "add_to_x(2)\n",
    "add_to_x(2)"
   ]
  },
  {
   "cell_type": "markdown",
   "metadata": {
    "slideshow": {
     "slide_type": "slide"
    }
   },
   "source": [
    "### Lazy evaluation\n",
    "\n",
    "In R, function arguments are lazily evaluated: they’re only evaluated if accessed.\n",
    "\n"
   ]
  },
  {
   "cell_type": "markdown",
   "metadata": {
    "slideshow": {
     "slide_type": "slide"
    }
   },
   "source": [
    "Knowing that, now consider the `add_one` function written in both R and Python below:\n",
    "\n",
    "```\n",
    "# R code (this would work)\n",
    "add_one <- function(x, y) {\n",
    "    x <- x + 1\n",
    "    return(x)\n",
    "} \n",
    "```\n",
    "\n",
    "```\n",
    "# Python code (this would not work)\n",
    "def add_one(x, y):\n",
    "    x = x + 1\n",
    "    return x\n",
    "```"
   ]
  },
  {
   "cell_type": "markdown",
   "metadata": {
    "slideshow": {
     "slide_type": "notes"
    }
   },
   "source": [
    "Why will the above `add_one` function will work in R, but the equivalent version of the function in python would break?\n",
    "\n",
    "- Python evaluates the function arguments before it evaluates the function and because it doesn't know what `y` is, it will break even though it is not used in the function.\n",
    "- R performs lazy evaluation, meaning it delays the evaluation of the function arguments until its value is needed within/inside the function. Since `y` is never referenced inside the function, R doesn't complain, or even notice it.\n"
   ]
  },
  {
   "cell_type": "markdown",
   "metadata": {},
   "source": [
    "#### `add_one` in R\n",
    "\n",
    "```\n",
    "add_one <- function(x, y) {\n",
    "    x <- x + 1\n",
    "    return(x)\n",
    "} \n",
    "```\n",
    "\n",
    "This works: \n",
    "\n",
    "\n",
    "```\n",
    "add_one(2, 1)\n",
    "```\n",
    "\n",
    "```\n",
    "3\n",
    "```\n",
    "\n",
    "and so does this:\n",
    "\n",
    "\n",
    "```\n",
    "add_one(2)\n",
    "```\n",
    "\n",
    "```\n",
    "3\n",
    "```"
   ]
  },
  {
   "cell_type": "markdown",
   "metadata": {},
   "source": [
    "#### `add_one` in Python\n",
    "\n",
    "```\n",
    "def add_one(x, y):\n",
    "    x = x + 1\n",
    "    return x`\n",
    "```\n",
    "\n",
    "This works: \n",
    "\n",
    "\n",
    "```\n",
    "add_one(2, 1)\n",
    "```\n",
    "\n",
    "```\n",
    "3\n",
    "```\n",
    "\n",
    "This does not:\n",
    "\n",
    "\n",
    "```\n",
    "add_one(2)\n",
    "```\n",
    "\n",
    "```\n",
    "---------------------------------------------------------------------------\n",
    "TypeError                                 Traceback (most recent call last)\n",
    "<ipython-input-5-f2e542671748> in <module>\n",
    "----> 1 add_one(2)\n",
    "\n",
    "TypeError: add_one() missing 1 required positional argument: 'y'\n",
    "```"
   ]
  },
  {
   "cell_type": "markdown",
   "metadata": {
    "slideshow": {
     "slide_type": "slide"
    }
   },
   "source": [
    "#### The power of lazy evaluation\n",
    "\n",
    "Let's you have easy to use interactive code like this:"
   ]
  },
  {
   "cell_type": "code",
   "execution_count": 44,
   "metadata": {
    "slideshow": {
     "slide_type": "fragment"
    }
   },
   "outputs": [
    {
     "data": {
      "text/html": [
       "<table class=\"dataframe\">\n",
       "<caption>A data.frame: 32 × 4</caption>\n",
       "<thead>\n",
       "\t<tr><th></th><th scope=col>mpg</th><th scope=col>cyl</th><th scope=col>hp</th><th scope=col>qsec</th></tr>\n",
       "\t<tr><th></th><th scope=col>&lt;dbl&gt;</th><th scope=col>&lt;dbl&gt;</th><th scope=col>&lt;dbl&gt;</th><th scope=col>&lt;dbl&gt;</th></tr>\n",
       "</thead>\n",
       "<tbody>\n",
       "\t<tr><th scope=row>Mazda RX4</th><td>21.0</td><td>6</td><td>110</td><td>16.46</td></tr>\n",
       "\t<tr><th scope=row>Mazda RX4 Wag</th><td>21.0</td><td>6</td><td>110</td><td>17.02</td></tr>\n",
       "\t<tr><th scope=row>Datsun 710</th><td>22.8</td><td>4</td><td> 93</td><td>18.61</td></tr>\n",
       "\t<tr><th scope=row>Hornet 4 Drive</th><td>21.4</td><td>6</td><td>110</td><td>19.44</td></tr>\n",
       "\t<tr><th scope=row>Hornet Sportabout</th><td>18.7</td><td>8</td><td>175</td><td>17.02</td></tr>\n",
       "\t<tr><th scope=row>Valiant</th><td>18.1</td><td>6</td><td>105</td><td>20.22</td></tr>\n",
       "\t<tr><th scope=row>Duster 360</th><td>14.3</td><td>8</td><td>245</td><td>15.84</td></tr>\n",
       "\t<tr><th scope=row>Merc 240D</th><td>24.4</td><td>4</td><td> 62</td><td>20.00</td></tr>\n",
       "\t<tr><th scope=row>Merc 230</th><td>22.8</td><td>4</td><td> 95</td><td>22.90</td></tr>\n",
       "\t<tr><th scope=row>Merc 280</th><td>19.2</td><td>6</td><td>123</td><td>18.30</td></tr>\n",
       "\t<tr><th scope=row>Merc 280C</th><td>17.8</td><td>6</td><td>123</td><td>18.90</td></tr>\n",
       "\t<tr><th scope=row>Merc 450SE</th><td>16.4</td><td>8</td><td>180</td><td>17.40</td></tr>\n",
       "\t<tr><th scope=row>Merc 450SL</th><td>17.3</td><td>8</td><td>180</td><td>17.60</td></tr>\n",
       "\t<tr><th scope=row>Merc 450SLC</th><td>15.2</td><td>8</td><td>180</td><td>18.00</td></tr>\n",
       "\t<tr><th scope=row>Cadillac Fleetwood</th><td>10.4</td><td>8</td><td>205</td><td>17.98</td></tr>\n",
       "\t<tr><th scope=row>Lincoln Continental</th><td>10.4</td><td>8</td><td>215</td><td>17.82</td></tr>\n",
       "\t<tr><th scope=row>Chrysler Imperial</th><td>14.7</td><td>8</td><td>230</td><td>17.42</td></tr>\n",
       "\t<tr><th scope=row>Fiat 128</th><td>32.4</td><td>4</td><td> 66</td><td>19.47</td></tr>\n",
       "\t<tr><th scope=row>Honda Civic</th><td>30.4</td><td>4</td><td> 52</td><td>18.52</td></tr>\n",
       "\t<tr><th scope=row>Toyota Corolla</th><td>33.9</td><td>4</td><td> 65</td><td>19.90</td></tr>\n",
       "\t<tr><th scope=row>Toyota Corona</th><td>21.5</td><td>4</td><td> 97</td><td>20.01</td></tr>\n",
       "\t<tr><th scope=row>Dodge Challenger</th><td>15.5</td><td>8</td><td>150</td><td>16.87</td></tr>\n",
       "\t<tr><th scope=row>AMC Javelin</th><td>15.2</td><td>8</td><td>150</td><td>17.30</td></tr>\n",
       "\t<tr><th scope=row>Camaro Z28</th><td>13.3</td><td>8</td><td>245</td><td>15.41</td></tr>\n",
       "\t<tr><th scope=row>Pontiac Firebird</th><td>19.2</td><td>8</td><td>175</td><td>17.05</td></tr>\n",
       "\t<tr><th scope=row>Fiat X1-9</th><td>27.3</td><td>4</td><td> 66</td><td>18.90</td></tr>\n",
       "\t<tr><th scope=row>Porsche 914-2</th><td>26.0</td><td>4</td><td> 91</td><td>16.70</td></tr>\n",
       "\t<tr><th scope=row>Lotus Europa</th><td>30.4</td><td>4</td><td>113</td><td>16.90</td></tr>\n",
       "\t<tr><th scope=row>Ford Pantera L</th><td>15.8</td><td>8</td><td>264</td><td>14.50</td></tr>\n",
       "\t<tr><th scope=row>Ferrari Dino</th><td>19.7</td><td>6</td><td>175</td><td>15.50</td></tr>\n",
       "\t<tr><th scope=row>Maserati Bora</th><td>15.0</td><td>8</td><td>335</td><td>14.60</td></tr>\n",
       "\t<tr><th scope=row>Volvo 142E</th><td>21.4</td><td>4</td><td>109</td><td>18.60</td></tr>\n",
       "</tbody>\n",
       "</table>\n"
      ],
      "text/latex": [
       "A data.frame: 32 × 4\n",
       "\\begin{tabular}{r|llll}\n",
       "  & mpg & cyl & hp & qsec\\\\\n",
       "  & <dbl> & <dbl> & <dbl> & <dbl>\\\\\n",
       "\\hline\n",
       "\tMazda RX4 & 21.0 & 6 & 110 & 16.46\\\\\n",
       "\tMazda RX4 Wag & 21.0 & 6 & 110 & 17.02\\\\\n",
       "\tDatsun 710 & 22.8 & 4 &  93 & 18.61\\\\\n",
       "\tHornet 4 Drive & 21.4 & 6 & 110 & 19.44\\\\\n",
       "\tHornet Sportabout & 18.7 & 8 & 175 & 17.02\\\\\n",
       "\tValiant & 18.1 & 6 & 105 & 20.22\\\\\n",
       "\tDuster 360 & 14.3 & 8 & 245 & 15.84\\\\\n",
       "\tMerc 240D & 24.4 & 4 &  62 & 20.00\\\\\n",
       "\tMerc 230 & 22.8 & 4 &  95 & 22.90\\\\\n",
       "\tMerc 280 & 19.2 & 6 & 123 & 18.30\\\\\n",
       "\tMerc 280C & 17.8 & 6 & 123 & 18.90\\\\\n",
       "\tMerc 450SE & 16.4 & 8 & 180 & 17.40\\\\\n",
       "\tMerc 450SL & 17.3 & 8 & 180 & 17.60\\\\\n",
       "\tMerc 450SLC & 15.2 & 8 & 180 & 18.00\\\\\n",
       "\tCadillac Fleetwood & 10.4 & 8 & 205 & 17.98\\\\\n",
       "\tLincoln Continental & 10.4 & 8 & 215 & 17.82\\\\\n",
       "\tChrysler Imperial & 14.7 & 8 & 230 & 17.42\\\\\n",
       "\tFiat 128 & 32.4 & 4 &  66 & 19.47\\\\\n",
       "\tHonda Civic & 30.4 & 4 &  52 & 18.52\\\\\n",
       "\tToyota Corolla & 33.9 & 4 &  65 & 19.90\\\\\n",
       "\tToyota Corona & 21.5 & 4 &  97 & 20.01\\\\\n",
       "\tDodge Challenger & 15.5 & 8 & 150 & 16.87\\\\\n",
       "\tAMC Javelin & 15.2 & 8 & 150 & 17.30\\\\\n",
       "\tCamaro Z28 & 13.3 & 8 & 245 & 15.41\\\\\n",
       "\tPontiac Firebird & 19.2 & 8 & 175 & 17.05\\\\\n",
       "\tFiat X1-9 & 27.3 & 4 &  66 & 18.90\\\\\n",
       "\tPorsche 914-2 & 26.0 & 4 &  91 & 16.70\\\\\n",
       "\tLotus Europa & 30.4 & 4 & 113 & 16.90\\\\\n",
       "\tFord Pantera L & 15.8 & 8 & 264 & 14.50\\\\\n",
       "\tFerrari Dino & 19.7 & 6 & 175 & 15.50\\\\\n",
       "\tMaserati Bora & 15.0 & 8 & 335 & 14.60\\\\\n",
       "\tVolvo 142E & 21.4 & 4 & 109 & 18.60\\\\\n",
       "\\end{tabular}\n"
      ],
      "text/markdown": [
       "\n",
       "A data.frame: 32 × 4\n",
       "\n",
       "| <!--/--> | mpg &lt;dbl&gt; | cyl &lt;dbl&gt; | hp &lt;dbl&gt; | qsec &lt;dbl&gt; |\n",
       "|---|---|---|---|---|\n",
       "| Mazda RX4 | 21.0 | 6 | 110 | 16.46 |\n",
       "| Mazda RX4 Wag | 21.0 | 6 | 110 | 17.02 |\n",
       "| Datsun 710 | 22.8 | 4 |  93 | 18.61 |\n",
       "| Hornet 4 Drive | 21.4 | 6 | 110 | 19.44 |\n",
       "| Hornet Sportabout | 18.7 | 8 | 175 | 17.02 |\n",
       "| Valiant | 18.1 | 6 | 105 | 20.22 |\n",
       "| Duster 360 | 14.3 | 8 | 245 | 15.84 |\n",
       "| Merc 240D | 24.4 | 4 |  62 | 20.00 |\n",
       "| Merc 230 | 22.8 | 4 |  95 | 22.90 |\n",
       "| Merc 280 | 19.2 | 6 | 123 | 18.30 |\n",
       "| Merc 280C | 17.8 | 6 | 123 | 18.90 |\n",
       "| Merc 450SE | 16.4 | 8 | 180 | 17.40 |\n",
       "| Merc 450SL | 17.3 | 8 | 180 | 17.60 |\n",
       "| Merc 450SLC | 15.2 | 8 | 180 | 18.00 |\n",
       "| Cadillac Fleetwood | 10.4 | 8 | 205 | 17.98 |\n",
       "| Lincoln Continental | 10.4 | 8 | 215 | 17.82 |\n",
       "| Chrysler Imperial | 14.7 | 8 | 230 | 17.42 |\n",
       "| Fiat 128 | 32.4 | 4 |  66 | 19.47 |\n",
       "| Honda Civic | 30.4 | 4 |  52 | 18.52 |\n",
       "| Toyota Corolla | 33.9 | 4 |  65 | 19.90 |\n",
       "| Toyota Corona | 21.5 | 4 |  97 | 20.01 |\n",
       "| Dodge Challenger | 15.5 | 8 | 150 | 16.87 |\n",
       "| AMC Javelin | 15.2 | 8 | 150 | 17.30 |\n",
       "| Camaro Z28 | 13.3 | 8 | 245 | 15.41 |\n",
       "| Pontiac Firebird | 19.2 | 8 | 175 | 17.05 |\n",
       "| Fiat X1-9 | 27.3 | 4 |  66 | 18.90 |\n",
       "| Porsche 914-2 | 26.0 | 4 |  91 | 16.70 |\n",
       "| Lotus Europa | 30.4 | 4 | 113 | 16.90 |\n",
       "| Ford Pantera L | 15.8 | 8 | 264 | 14.50 |\n",
       "| Ferrari Dino | 19.7 | 6 | 175 | 15.50 |\n",
       "| Maserati Bora | 15.0 | 8 | 335 | 14.60 |\n",
       "| Volvo 142E | 21.4 | 4 | 109 | 18.60 |\n",
       "\n"
      ],
      "text/plain": [
       "                    mpg  cyl hp  qsec \n",
       "Mazda RX4           21.0 6   110 16.46\n",
       "Mazda RX4 Wag       21.0 6   110 17.02\n",
       "Datsun 710          22.8 4    93 18.61\n",
       "Hornet 4 Drive      21.4 6   110 19.44\n",
       "Hornet Sportabout   18.7 8   175 17.02\n",
       "Valiant             18.1 6   105 20.22\n",
       "Duster 360          14.3 8   245 15.84\n",
       "Merc 240D           24.4 4    62 20.00\n",
       "Merc 230            22.8 4    95 22.90\n",
       "Merc 280            19.2 6   123 18.30\n",
       "Merc 280C           17.8 6   123 18.90\n",
       "Merc 450SE          16.4 8   180 17.40\n",
       "Merc 450SL          17.3 8   180 17.60\n",
       "Merc 450SLC         15.2 8   180 18.00\n",
       "Cadillac Fleetwood  10.4 8   205 17.98\n",
       "Lincoln Continental 10.4 8   215 17.82\n",
       "Chrysler Imperial   14.7 8   230 17.42\n",
       "Fiat 128            32.4 4    66 19.47\n",
       "Honda Civic         30.4 4    52 18.52\n",
       "Toyota Corolla      33.9 4    65 19.90\n",
       "Toyota Corona       21.5 4    97 20.01\n",
       "Dodge Challenger    15.5 8   150 16.87\n",
       "AMC Javelin         15.2 8   150 17.30\n",
       "Camaro Z28          13.3 8   245 15.41\n",
       "Pontiac Firebird    19.2 8   175 17.05\n",
       "Fiat X1-9           27.3 4    66 18.90\n",
       "Porsche 914-2       26.0 4    91 16.70\n",
       "Lotus Europa        30.4 4   113 16.90\n",
       "Ford Pantera L      15.8 8   264 14.50\n",
       "Ferrari Dino        19.7 6   175 15.50\n",
       "Maserati Bora       15.0 8   335 14.60\n",
       "Volvo 142E          21.4 4   109 18.60"
      ]
     },
     "metadata": {},
     "output_type": "display_data"
    }
   ],
   "source": [
    "dplyr::select(mtcars, mpg, cyl, hp, qsec)"
   ]
  },
  {
   "cell_type": "markdown",
   "metadata": {
    "slideshow": {
     "slide_type": "fragment"
    }
   },
   "source": [
    "Notes: \n",
    "- There's more than just lazy evaluation happening in the code above, but lazy evaluation is part of it.\n",
    "- `package::function()` is a way to use a function from an R package without loading the entire library.\n"
   ]
  },
  {
   "cell_type": "markdown",
   "metadata": {
    "slideshow": {
     "slide_type": "slide"
    }
   },
   "source": [
    "## Exception handling\n",
    "\n",
    "Sometimes our code is correct but we still encounter errors. This commonly occurs with functions when users attempt to use them in weird and creative ways that the developer did not intend. Developers are well advised to try to anticipate some of this user behaviour and guard against this in a way that can be of help to the user. One way to do this is to have a function fail intentionally when incorrect user input is given. \n",
    "\n",
    "Imagine we have a simple function to convert temperatures from Fahrenheit to Celsius:"
   ]
  },
  {
   "cell_type": "code",
   "execution_count": 47,
   "metadata": {},
   "outputs": [],
   "source": [
    "fahr_to_celsius <- function(temp) {\n",
    "  (temp - 32) * 5/9\n",
    "}"
   ]
  },
  {
   "cell_type": "markdown",
   "metadata": {},
   "source": [
    "What if our user anticipates that our function can handle numbers written as strings? When this happens our users gets a somewhat cryptic error message (which is inversely correlated with their knowledge of the R programming language):"
   ]
  },
  {
   "cell_type": "markdown",
   "metadata": {},
   "source": [
    "```\n",
    "fahr_to_celsius(\"thirty\")\n",
    "```"
   ]
  },
  {
   "cell_type": "markdown",
   "metadata": {},
   "source": [
    "```\n",
    "Error in temp - 32: non-numeric argument to binary operator\n",
    "Traceback:\n",
    "\n",
    "1. fahr_to_celsius(\"thirty\")\n",
    "```"
   ]
  },
  {
   "cell_type": "markdown",
   "metadata": {},
   "source": [
    "This error message is not as helpful as it could be! Also, if this calculation happened to take a long time, it might be nicer to check the data type before we attempt the calculation and then if the wrong data type was given, throw an purposeful error with a more helpful error message. One way we can do this simply in R is using a conditional (i.e., `if` statement) to test the type and then calling `stop` with a useful error message if the type is incorrect. \n",
    "\n",
    "For example with the `fahr_to_celsius` function, we can use `if(!is.numeric(temp))` to check whether `temp` is not numeric. And then if it is not, `stop` causes a break and the printing out of the more helpful error message \"`fahr_to_celsius` expects a vector of numeric values"
   ]
  },
  {
   "cell_type": "code",
   "execution_count": 49,
   "metadata": {
    "slideshow": {
     "slide_type": "fragment"
    }
   },
   "outputs": [],
   "source": [
    "fahr_to_celsius <- function(temp) {\n",
    "  if(!is.numeric(temp)) {    \n",
    "    stop(\"`fahr_to_celsius` expects a vector of numeric values\")\n",
    "  }\n",
    "  (temp - 32) * 5/9\n",
    "}"
   ]
  },
  {
   "cell_type": "markdown",
   "metadata": {
    "slideshow": {
     "slide_type": "fragment"
    }
   },
   "source": [
    "```\n",
    "fahr_to_celsius(\"thirty\")\n",
    "```"
   ]
  },
  {
   "cell_type": "markdown",
   "metadata": {},
   "source": [
    "```\n",
    "Error in fahr_to_celsius(\"thirty\"): `fahr_to_celsius` expects a vector of numeric values\n",
    "Traceback:\n",
    "\n",
    "1. fahr_to_celsius(\"thirty\")\n",
    "2. stop(\"`fahr_to_celsius` expects a vector of numeric values\")   # at line 3 of file <text>\n",
    "```"
   ]
  },
  {
   "cell_type": "markdown",
   "metadata": {
    "slideshow": {
     "slide_type": "fragment"
    }
   },
   "source": [
    "If you wanted to issue a warning instead of an error, you could use `warning` in place of `stop` in the example above. However, in most cases it is better practice to throw an error than to print a warning...\n",
    "\n",
    "More advanced exception handling exists in R, and I invite interested learner to read more about it here in the [Condition Handling](http://adv-r.had.co.nz/Exceptions-Debugging.html#condition-handling) and [Defensive Programming](http://adv-r.had.co.nz/Exceptions-Debugging.html#defensive-programming) sections of Advanced R."
   ]
  },
  {
   "cell_type": "markdown",
   "metadata": {},
   "source": [
    "## Programming with the `tidyverse` functions\n",
    "\n",
    "The functions from the `tidyverse` are beautiful to use interactively - with these functions, we can \"pretend\" that the data frame column names are objects in the global environment and refer to them without quotations (e.g., `\"\"`)"
   ]
  },
  {
   "cell_type": "code",
   "execution_count": 53,
   "metadata": {},
   "outputs": [
    {
     "data": {
      "text/html": [
       "<table class=\"dataframe\">\n",
       "<caption>A tibble: 1 × 6</caption>\n",
       "<thead>\n",
       "\t<tr><th scope=col>country</th><th scope=col>continent</th><th scope=col>year</th><th scope=col>lifeExp</th><th scope=col>pop</th><th scope=col>gdpPercap</th></tr>\n",
       "\t<tr><th scope=col>&lt;fct&gt;</th><th scope=col>&lt;fct&gt;</th><th scope=col>&lt;int&gt;</th><th scope=col>&lt;dbl&gt;</th><th scope=col>&lt;int&gt;</th><th scope=col>&lt;dbl&gt;</th></tr>\n",
       "</thead>\n",
       "<tbody>\n",
       "\t<tr><td>Canada</td><td>Americas</td><td>1952</td><td>68.75</td><td>14785584</td><td>11367.16</td></tr>\n",
       "</tbody>\n",
       "</table>\n"
      ],
      "text/latex": [
       "A tibble: 1 × 6\n",
       "\\begin{tabular}{llllll}\n",
       " country & continent & year & lifeExp & pop & gdpPercap\\\\\n",
       " <fct> & <fct> & <int> & <dbl> & <int> & <dbl>\\\\\n",
       "\\hline\n",
       "\t Canada & Americas & 1952 & 68.75 & 14785584 & 11367.16\\\\\n",
       "\\end{tabular}\n"
      ],
      "text/markdown": [
       "\n",
       "A tibble: 1 × 6\n",
       "\n",
       "| country &lt;fct&gt; | continent &lt;fct&gt; | year &lt;int&gt; | lifeExp &lt;dbl&gt; | pop &lt;int&gt; | gdpPercap &lt;dbl&gt; |\n",
       "|---|---|---|---|---|---|\n",
       "| Canada | Americas | 1952 | 68.75 | 14785584 | 11367.16 |\n",
       "\n"
      ],
      "text/plain": [
       "  country continent year lifeExp pop      gdpPercap\n",
       "1 Canada  Americas  1952 68.75   14785584 11367.16 "
      ]
     },
     "metadata": {},
     "output_type": "display_data"
    }
   ],
   "source": [
    "library(tidyverse)\n",
    "library(gapminder)\n",
    "\n",
    "gapminder |>\n",
    "  filter(country == \"Canada\", year == 1952)"
   ]
  },
  {
   "cell_type": "markdown",
   "metadata": {},
   "source": [
    "expecially when compared with base R:"
   ]
  },
  {
   "cell_type": "code",
   "execution_count": 51,
   "metadata": {},
   "outputs": [
    {
     "data": {
      "text/html": [
       "<table class=\"dataframe\">\n",
       "<caption>A tibble: 1 × 6</caption>\n",
       "<thead>\n",
       "\t<tr><th scope=col>country</th><th scope=col>continent</th><th scope=col>year</th><th scope=col>lifeExp</th><th scope=col>pop</th><th scope=col>gdpPercap</th></tr>\n",
       "\t<tr><th scope=col>&lt;fct&gt;</th><th scope=col>&lt;fct&gt;</th><th scope=col>&lt;int&gt;</th><th scope=col>&lt;dbl&gt;</th><th scope=col>&lt;int&gt;</th><th scope=col>&lt;dbl&gt;</th></tr>\n",
       "</thead>\n",
       "<tbody>\n",
       "\t<tr><td>Canada</td><td>Americas</td><td>1952</td><td>68.75</td><td>14785584</td><td>11367.16</td></tr>\n",
       "</tbody>\n",
       "</table>\n"
      ],
      "text/latex": [
       "A tibble: 1 × 6\n",
       "\\begin{tabular}{llllll}\n",
       " country & continent & year & lifeExp & pop & gdpPercap\\\\\n",
       " <fct> & <fct> & <int> & <dbl> & <int> & <dbl>\\\\\n",
       "\\hline\n",
       "\t Canada & Americas & 1952 & 68.75 & 14785584 & 11367.16\\\\\n",
       "\\end{tabular}\n"
      ],
      "text/markdown": [
       "\n",
       "A tibble: 1 × 6\n",
       "\n",
       "| country &lt;fct&gt; | continent &lt;fct&gt; | year &lt;int&gt; | lifeExp &lt;dbl&gt; | pop &lt;int&gt; | gdpPercap &lt;dbl&gt; |\n",
       "|---|---|---|---|---|---|\n",
       "| Canada | Americas | 1952 | 68.75 | 14785584 | 11367.16 |\n",
       "\n"
      ],
      "text/plain": [
       "  country continent year lifeExp pop      gdpPercap\n",
       "1 Canada  Americas  1952 68.75   14785584 11367.16 "
      ]
     },
     "metadata": {},
     "output_type": "display_data"
    }
   ],
   "source": [
    "gapminder[gapminder$country == \"Canada\" & gapminder$year == 1952, ]"
   ]
  },
  {
   "cell_type": "markdown",
   "metadata": {},
   "source": [
    "However, the beauty of being able to refer to data frame column names in R without quotations, leads to problems when we try to use them in a function. \n",
    "For example, \n",
    "\n",
    "```\n",
    "filter_gap <- function(col, val) {\n",
    "    filter(gapminder, col == val)\n",
    "}\n",
    "\n",
    "filter_gap(country, \"Canada\")\n",
    "```\n",
    "\n",
    "```\n",
    "Error: object 'country' not found\n",
    "Traceback:\n",
    "\n",
    "1. filter_gap(country, \"Canada\")\n",
    "2. filter(gapminder, col == val)   # at line 4 of file <text>\n",
    "3. filter.tbl_df(gapminder, col == val)\n",
    "4. filter_impl(.data, quo)\n",
    "\n",
    "```\n",
    "\n",
    "Why does `filter` work with non-quoted variable names, but our function `filter_gap` fail?\n",
    "At a very high-level, this is because `filter` is doing more behind the scenes to handle these\n",
    "unquoted column names than we see without looking at the source code. \n",
    "So to make this work for our function, we need to do a little more work too.\n",
    "\n",
    "Given that this is not a course in R programming, we will not go into the details of why this happens,\n",
    "but we will show one way of how to handle this. \n",
    "For learners intersted to learn more about why this happens,\n",
    "we recommend reading these two resources:\n",
    "\n",
    "1. [Programming with `dplyr`](https://dplyr.tidyverse.org/articles/programming.html)\n",
    "2. [Metaprogramming](https://adv-r.hadley.nz/metaprogramming.html)\n",
    "\n",
    "### Defining `tidyverse` functions by embracing column names: `{{ }}`\n",
    "\n",
    "In the newest release of the `rlang` R package, there has been the introduction of the `{{` (pronounced \"curly curly\") operator.\n",
    "This operator does the necessary work behind the scenes so that you can continue to use unquoted column names \n",
    "with the `tidyverse` functions even when you use them in functions that you write yourself. \n",
    "\n",
    "To use the `{{` operator, we \"embrace\" the unquoted column names when we refer to them inside our function body.\n",
    "An important note is that there are several ways to implement the usage of unquoted column names in R,\n",
    "and  the `{{` operator only works with the `tidyverse` functions.\n",
    "Please refer to the [Metaprogramming](https://adv-r.hadley.nz/metaprogramming.html) chapter of Advanced R \n",
    "if you need to do this with non-tidyverse functions.\n",
    "\n",
    "Here's the function we show above working when we use the `{{` operator to \"embrace\" the unquoted column names:"
   ]
  },
  {
   "cell_type": "code",
   "execution_count": 55,
   "metadata": {},
   "outputs": [],
   "source": [
    "filter_gap <- function(col, val) {\n",
    "  filter(gapminder, {{col}} == val)\n",
    "}"
   ]
  },
  {
   "cell_type": "code",
   "execution_count": 56,
   "metadata": {},
   "outputs": [
    {
     "data": {
      "text/html": [
       "<table class=\"dataframe\">\n",
       "<caption>A tibble: 12 × 6</caption>\n",
       "<thead>\n",
       "\t<tr><th scope=col>country</th><th scope=col>continent</th><th scope=col>year</th><th scope=col>lifeExp</th><th scope=col>pop</th><th scope=col>gdpPercap</th></tr>\n",
       "\t<tr><th scope=col>&lt;fct&gt;</th><th scope=col>&lt;fct&gt;</th><th scope=col>&lt;int&gt;</th><th scope=col>&lt;dbl&gt;</th><th scope=col>&lt;int&gt;</th><th scope=col>&lt;dbl&gt;</th></tr>\n",
       "</thead>\n",
       "<tbody>\n",
       "\t<tr><td>Canada</td><td>Americas</td><td>1952</td><td>68.750</td><td>14785584</td><td>11367.16</td></tr>\n",
       "\t<tr><td>Canada</td><td>Americas</td><td>1957</td><td>69.960</td><td>17010154</td><td>12489.95</td></tr>\n",
       "\t<tr><td>Canada</td><td>Americas</td><td>1962</td><td>71.300</td><td>18985849</td><td>13462.49</td></tr>\n",
       "\t<tr><td>Canada</td><td>Americas</td><td>1967</td><td>72.130</td><td>20819767</td><td>16076.59</td></tr>\n",
       "\t<tr><td>Canada</td><td>Americas</td><td>1972</td><td>72.880</td><td>22284500</td><td>18970.57</td></tr>\n",
       "\t<tr><td>Canada</td><td>Americas</td><td>1977</td><td>74.210</td><td>23796400</td><td>22090.88</td></tr>\n",
       "\t<tr><td>Canada</td><td>Americas</td><td>1982</td><td>75.760</td><td>25201900</td><td>22898.79</td></tr>\n",
       "\t<tr><td>Canada</td><td>Americas</td><td>1987</td><td>76.860</td><td>26549700</td><td>26626.52</td></tr>\n",
       "\t<tr><td>Canada</td><td>Americas</td><td>1992</td><td>77.950</td><td>28523502</td><td>26342.88</td></tr>\n",
       "\t<tr><td>Canada</td><td>Americas</td><td>1997</td><td>78.610</td><td>30305843</td><td>28954.93</td></tr>\n",
       "\t<tr><td>Canada</td><td>Americas</td><td>2002</td><td>79.770</td><td>31902268</td><td>33328.97</td></tr>\n",
       "\t<tr><td>Canada</td><td>Americas</td><td>2007</td><td>80.653</td><td>33390141</td><td>36319.24</td></tr>\n",
       "</tbody>\n",
       "</table>\n"
      ],
      "text/latex": [
       "A tibble: 12 × 6\n",
       "\\begin{tabular}{llllll}\n",
       " country & continent & year & lifeExp & pop & gdpPercap\\\\\n",
       " <fct> & <fct> & <int> & <dbl> & <int> & <dbl>\\\\\n",
       "\\hline\n",
       "\t Canada & Americas & 1952 & 68.750 & 14785584 & 11367.16\\\\\n",
       "\t Canada & Americas & 1957 & 69.960 & 17010154 & 12489.95\\\\\n",
       "\t Canada & Americas & 1962 & 71.300 & 18985849 & 13462.49\\\\\n",
       "\t Canada & Americas & 1967 & 72.130 & 20819767 & 16076.59\\\\\n",
       "\t Canada & Americas & 1972 & 72.880 & 22284500 & 18970.57\\\\\n",
       "\t Canada & Americas & 1977 & 74.210 & 23796400 & 22090.88\\\\\n",
       "\t Canada & Americas & 1982 & 75.760 & 25201900 & 22898.79\\\\\n",
       "\t Canada & Americas & 1987 & 76.860 & 26549700 & 26626.52\\\\\n",
       "\t Canada & Americas & 1992 & 77.950 & 28523502 & 26342.88\\\\\n",
       "\t Canada & Americas & 1997 & 78.610 & 30305843 & 28954.93\\\\\n",
       "\t Canada & Americas & 2002 & 79.770 & 31902268 & 33328.97\\\\\n",
       "\t Canada & Americas & 2007 & 80.653 & 33390141 & 36319.24\\\\\n",
       "\\end{tabular}\n"
      ],
      "text/markdown": [
       "\n",
       "A tibble: 12 × 6\n",
       "\n",
       "| country &lt;fct&gt; | continent &lt;fct&gt; | year &lt;int&gt; | lifeExp &lt;dbl&gt; | pop &lt;int&gt; | gdpPercap &lt;dbl&gt; |\n",
       "|---|---|---|---|---|---|\n",
       "| Canada | Americas | 1952 | 68.750 | 14785584 | 11367.16 |\n",
       "| Canada | Americas | 1957 | 69.960 | 17010154 | 12489.95 |\n",
       "| Canada | Americas | 1962 | 71.300 | 18985849 | 13462.49 |\n",
       "| Canada | Americas | 1967 | 72.130 | 20819767 | 16076.59 |\n",
       "| Canada | Americas | 1972 | 72.880 | 22284500 | 18970.57 |\n",
       "| Canada | Americas | 1977 | 74.210 | 23796400 | 22090.88 |\n",
       "| Canada | Americas | 1982 | 75.760 | 25201900 | 22898.79 |\n",
       "| Canada | Americas | 1987 | 76.860 | 26549700 | 26626.52 |\n",
       "| Canada | Americas | 1992 | 77.950 | 28523502 | 26342.88 |\n",
       "| Canada | Americas | 1997 | 78.610 | 30305843 | 28954.93 |\n",
       "| Canada | Americas | 2002 | 79.770 | 31902268 | 33328.97 |\n",
       "| Canada | Americas | 2007 | 80.653 | 33390141 | 36319.24 |\n",
       "\n"
      ],
      "text/plain": [
       "   country continent year lifeExp pop      gdpPercap\n",
       "1  Canada  Americas  1952 68.750  14785584 11367.16 \n",
       "2  Canada  Americas  1957 69.960  17010154 12489.95 \n",
       "3  Canada  Americas  1962 71.300  18985849 13462.49 \n",
       "4  Canada  Americas  1967 72.130  20819767 16076.59 \n",
       "5  Canada  Americas  1972 72.880  22284500 18970.57 \n",
       "6  Canada  Americas  1977 74.210  23796400 22090.88 \n",
       "7  Canada  Americas  1982 75.760  25201900 22898.79 \n",
       "8  Canada  Americas  1987 76.860  26549700 26626.52 \n",
       "9  Canada  Americas  1992 77.950  28523502 26342.88 \n",
       "10 Canada  Americas  1997 78.610  30305843 28954.93 \n",
       "11 Canada  Americas  2002 79.770  31902268 33328.97 \n",
       "12 Canada  Americas  2007 80.653  33390141 36319.24 "
      ]
     },
     "metadata": {},
     "output_type": "display_data"
    }
   ],
   "source": [
    "filter_gap(country, \"Canada\")"
   ]
  },
  {
   "cell_type": "markdown",
   "metadata": {},
   "source": [
    "### The walrus operator `:=` is needed when assigning values\n",
    "For similar reasons, the walrus operator (`:=`) is needed when writing functions that create new columns using unquoted column names with the `tidyverse` functions:"
   ]
  },
  {
   "cell_type": "code",
   "execution_count": null,
   "metadata": {},
   "outputs": [],
   "source": [
    "group_summary <- function(data, group, col, fun) {\n",
    "  data |>\n",
    "    group_by({{ group }}) |>\n",
    "    summarise( {{ col }} := fun({{ col }}))\n",
    "}"
   ]
  },
  {
   "cell_type": "code",
   "execution_count": null,
   "metadata": {},
   "outputs": [],
   "source": [
    "group_summary(gapminder, continent, gdpPercap, mean)"
   ]
  },
  {
   "cell_type": "markdown",
   "metadata": {
    "slideshow": {
     "slide_type": "slide"
    },
    "tags": []
   },
   "source": [
    "## Function documentation\n",
    "\n",
    "Function documentation is extremely useful at both the time of function creation/development, as well as at the time of function usage by the user. At the time of creation/development, it is useful for clearly delineating and communication the planned function's specifications. At the time of usage, it is often the primary documentation a user will refer to in order to understand how to use the function. If a function is not well documented, it will not be well understood or widely used.\n",
    "\n",
    "### Function documentation in R\n",
    "\n",
    "In R, we write function documentation in a style that the `roxygen2` R package can use to automatically generate nicely formatted documentation, accessible via R's help function, when we create R packages. This is not available to us until we package our functions in software packages, however it is a good practice to get into because it helps ensure you document the key aspects of a function for your user, and it means that when you go to create an R package to share your function, you will have already correctly formatted the function documentation - saving future you some work!"
   ]
  },
  {
   "cell_type": "code",
   "execution_count": 23,
   "metadata": {
    "slideshow": {
     "slide_type": "fragment"
    }
   },
   "outputs": [],
   "source": [
    "#' Converts temperatures from Fahrenheit to Celsius.\n",
    "#'    \n",
    "#' @param temp a vector of temperatures in Fahrenheit\n",
    "#' \n",
    "#' @return a vector of temperatures in Celsius\n",
    "#' \n",
    "#' @examples\n",
    "#' fahr_to_celcius(-20)\n",
    "fahr_to_celsius <- function(temp) {\n",
    "    (temp - 32) * 5/9\n",
    "}"
   ]
  },
  {
   "cell_type": "markdown",
   "metadata": {},
   "source": [
    "RStudio has a nice feature to provide a `roxygen2` formatted skeleton for function documentation. To use it, you put the cursor in the function definition, and then select the menu items \"Code\" > \"Insert Roxygen Skeleton\":\n",
    "\n",
    "<img src=\"img/insert_roxygen.png\" width=600>"
   ]
  },
  {
   "cell_type": "markdown",
   "metadata": {},
   "source": [
    "## Practice writing functions in R\n",
    "\n",
    "To practice writing functions in R, you can attempt this worksheet: https://github.com/UBC-DSCI/dsci-310-student/blob/main/practice/worksheet_functions_in_r.ipynb\n",
    "\n",
    "*Note: to access the automated software tests for feedback on your answers, you will want to clone or download [this GitHub repo](https://github.com/UBC-DSCI/dsci-310-student) and navigate to the `practice` directory.*"
   ]
  },
  {
   "cell_type": "markdown",
   "metadata": {},
   "source": [
    "## Workflow for writing functions and tests for data science\n",
    "\n",
    "How should we get started writing functions and tests for data science? There are many ways one could proceed, however some paths will be more efficient and less error-prone, and more robust than others. Borrowing from software development best practices, one recommended workflow is shown below:\n",
    "\n",
    "1. **Write the function specifications and documentation - but do not implement the function.** This means that you will have an empty function, that specifies and documents what the name of the function is, what arguments it takes, and what it returns. \n",
    "\n",
    "2. **Plan the test cases and document them.** Your tests should assess whether the function works as expected when given correct inputs, as well as that it behaves as expected when given incorrect inputs (e.g., throws an error when the wrong type is given for an argument). For the cases of correct inputs, you will want to test the top, middle and bottom range of these, as well as all possible combinations of argument inputs possible. Also, the test data should be as simple and tractable as possible while still being able to assess your function.\n",
    "\n",
    "3. **Create test data that is useful for assessing whether your function works as expected.** In data science, you likely need to create both the data that you would provide as inputs to your function, as well as the data that you would expect your function to return.\n",
    "\n",
    "4. **Write the tests to evaluate your function based on the planned test cases and test data.** \n",
    "\n",
    "5. **Implement the function by writing the needed code in the function body to pass the tests.**\n",
    "\n",
    "6. **Iterate between steps 2-5 to improve the test coverage and function.**"
   ]
  },
  {
   "cell_type": "markdown",
   "metadata": {},
   "source": [
    "### Example of workflow for writing functions and tests for data science\n",
    "\n",
    "\n",
    "\n",
    "Let's say we want to write a function for a task we repeatedly are performing in our data analysis. For example, summarizing the number of observations in each class. This is a common task performed for almost every classification problem to examine how many classes there are to understand if we are facing a binary or multi-class classification problem, as well as to examine whether there are any class imbalances that we may need to deal with before tuning our models.\n",
    "\n",
    "##### 1. Write the function specifications and documentation - but do not implement the function:\n",
    "The first thing we should do is write the function specifications and documentation. This can effectively represented by an empty function and `roxygen2`-styled documentation in R as shown below:"
   ]
  },
  {
   "cell_type": "code",
   "execution_count": 1,
   "metadata": {},
   "outputs": [],
   "source": [
    "#' Count class observations\n",
    "#'\n",
    "#' Creates a new data frame with two columns, \n",
    "#' listing the classes present in the input data frame,\n",
    "#' and the number of observations for each class.\n",
    "#'\n",
    "#' @param data_frame A data frame or data frame extension (e.g. a tibble).\n",
    "#' @param class_col unquoted column name of column containing class labels\n",
    "#'\n",
    "#' @return A data frame with two columns. \n",
    "#'   The first column (named class) lists the classes from the input data frame.\n",
    "#'   The second column (named count) lists the number of observations for each class from the input data frame.\n",
    "#'   It will have one row for each class present in input data frame.\n",
    "#'\n",
    "#' @export\n",
    "#'\n",
    "#' @examples\n",
    "count_classes(mtcars, am)\n",
    "count_classes <- function(data_frame, class_col) {\n",
    "  # returns a data frame with two columns: class and count\n",
    "}"
   ]
  },
  {
   "cell_type": "markdown",
   "metadata": {},
   "source": [
    "##### 2. Plan the test cases and document them:\n",
    "\n",
    "Next, we should plan out our test cases and start to document them. At this point we can sketch out a skeleton for our test cases with code but we are not yet ready to write them, as we first will need to reproducibly create test data that is useful for assessing whether your function works as expected. So considering our function specifications, some kinds of input we might anticipate our function may receive, and correspondingly what it should return is listed in a table below:\n",
    "\n",
    "| Type of input |Function input | Function should return |\n",
    "|---------------|---------------|------------------------|\n",
    "| Correct user input | Data frame with five classes, with 3 observations per class, and an unquoted column name of column containing class labels. | A new data frame with two columns and five rows. One column with the class names, and one with the counts of 3 observations for each class. |\n",
    "| Correct user input | Data frame with two classes, with 3 observations per class, and an unquoted column name of column containing class labels. | A new data frame with two columns and two rows. One column with the class names, and one with the counts of 3 for each class. |\n",
    "| Correct user input | Data frame with two classes, with 3 observations for one class, 2 observations for another, and an unquoted column name of column containing class labels. | A new data frame with two columns and two rows. One column with the class names, and one with the counts of 3 for one class and 2 for the other class. |\n",
    "| Correct user input | Data frame with one class, with 3 observations per class, and an unquoted column name of column containing class labels. | A new data frame with two columns and one row. One column with the class names, and one with the counts of 3 observations for each class. |\n",
    "| Correct user input | Data frame with two classes, with multiple observations for one class, and a single observation for the other class. Also an unquoted column name of column containing class labels. | A new data frame with two columns and two rows. One column with the class names, and one with the counts of observations for each class. |\n",
    "| Correct user input | An empty data frame with no classes, and no observations per class. Also an unquoted column name of column containing class labels. | A new empty data frame with two columns and 0 rows. One column with the class names, and one with the counts of observations for each class. |\n",
    "| Incorrect user input | Data frame with two classes, with multiple observations per class and a vector of class labels as a separate object | An error that reports the value for the `class_col` argument should be an unquoted column name of column containing class labels from the data frame given in to the first argument. |\n",
    "| Incorrect user input | A list as the value for the argument to `data_frame`, and the name of one of the list elements as the value for the argument `class_col` | An error that reports the value for the the `data_frame` object should be a data frame or data frame extension (e.g. a tibble) |"
   ]
  },
  {
   "cell_type": "markdown",
   "metadata": {},
   "source": [
    "Next, I sketch out a skeleton for the unit tests. For R, we will use the well maintained and popular `testthat` R package for writing our tests. For extra resources on `testthat` beyond what is demonstrated here, we recommend reading:\n",
    "- [`testthat` documentation](https://testthat.r-lib.org/)\n",
    "- [Testing chapter of the R packages book](https://r-pkgs.org/tests.html)\n",
    "\n",
    "With `testthat` we create a `test_that` statement for each related group of tests for a function. For our example, we will create the four `test_that` statements shown below:"
   ]
  },
  {
   "cell_type": "code",
   "execution_count": 2,
   "metadata": {},
   "outputs": [],
   "source": [
    "library(testthat)"
   ]
  },
  {
   "cell_type": "code",
   "execution_count": 5,
   "metadata": {},
   "outputs": [
    {
     "name": "stdout",
     "output_type": "stream",
     "text": [
      "── \u001b[1m\u001b[34mSkip\u001b[39m (???): `count_classes` should return a data frame or data frame extension\u001b[22m ─────────────────────\n",
      "Reason: empty test\n",
      "\n",
      "── \u001b[1m\u001b[34mSkip\u001b[39m (???): `count_classes` should return a data frame, or data frame extension, \n",
      "with the number of rows that corresponds to the number of unique classes \n",
      "in the column passed to `class_col`\u001b[22m ─────────────────────\n",
      "Reason: empty test\n",
      "\n",
      "── \u001b[1m\u001b[34mSkip\u001b[39m (???): `count_classes` should return a data frame, or data frame extension, \n",
      "whose values in the `count` column correspond to the number of observations \n",
      "for the group in the `class` column from the original data frame\u001b[22m ─────────────────────\n",
      "Reason: empty test\n",
      "\n",
      "── \u001b[1m\u001b[34mSkip\u001b[39m (???): `count_classes` should throw an error when incorrect types \n",
      "are passed to `data_frame` and `class_col` arguments\u001b[22m ─────────────────────\n",
      "Reason: empty test\n",
      "\n"
     ]
    }
   ],
   "source": [
    "test_that(\"`count_classes` should return a data frame or data frame extension\", {\n",
    "  # tests to be added here\n",
    "})\n",
    "\n",
    "test_that(\"`count_classes` should return a data frame, or data frame extension, \n",
    "with the number of rows that corresponds to the number of unique classes \n",
    "in the column passed to `class_col`\", {\n",
    "  # tests to be added here\n",
    "})\n",
    "\n",
    "test_that(\"`count_classes` should return a data frame, or data frame extension, \n",
    "whose values in the `count` column correspond to the number of observations \n",
    "for the group in the `class` column from the original data frame\", {\n",
    "  # tests to be added here\n",
    "})\n",
    "\n",
    "test_that(\"`count_classes` should throw an error when incorrect types \n",
    "are passed to `data_frame` and `class_col` arguments\", {\n",
    "  # tests to be added here\n",
    "})"
   ]
  },
  {
   "cell_type": "markdown",
   "metadata": {},
   "source": [
    "##### 3. Create test data that is useful for assessing whether your function works as expected:\n",
    "\n",
    "Now that we have a plan, we can create reproducible test data for that plan! \n",
    "When we do this, we want to keep our data as small and tractable as possible. \n",
    "We want to test things we know the answer to, or can at a minimum calculate by hand.\n",
    "We will use R code to reproducibly create the test data. \n",
    "We will need to do this for the data we will feed in as inputs to our function in the tests, \n",
    "as well as the data we expect our function to return."
   ]
  },
  {
   "cell_type": "code",
   "execution_count": null,
   "metadata": {},
   "outputs": [],
   "source": [
    "# example of test data creation here"
   ]
  },
  {
   "cell_type": "markdown",
   "metadata": {},
   "source": [
    "##### 4. Write the tests to evaluate your function based on the planned test cases and test data:\n",
    "\n",
    "Now that we have the skeletons for our tests, and our reproducible test data, we can actually write the internals for our tests! We will do this by using `expect_*` functions from the `testthat` package. The table below shows some of the most commonly used `expect_*` functions. However, there are many more that can be found in the [`testthat` expectations reference documentation](https://testthat.r-lib.org/reference/index.html#expectations).\n",
    "\n",
    "###### `testthat` test structure:\n",
    "\n",
    "```\n",
    "test_that(\"Message to print if test fails\", expect_*(...))\n",
    "```\n",
    "\n",
    "##### Common `expect_*` statements for use with `test_that`\n",
    "\n",
    "###### Is the object equal to a value? \n",
    "- `expect_identical` - test two objects for being exactly equal\n",
    "- `expect_equal` - compare R objects x and y testing ‘near equality’ (can set a tolerance)\n",
    "- `expect_equivalent` - compare R objects x and y testing ‘near equality’ (can set a tolerance) and does not assess attributes\n",
    "\n",
    "###### Does code produce an output/message/warning/error?\n",
    "- `expect_error` - tests if an expression throws an error\n",
    "- `expect_warning` - tests whether an expression outputs a warning\n",
    "- `expect_output` - tests that print output matches a specified value\n",
    "\n",
    "###### Is the object true/false?\n",
    "\n",
    "These are fall-back expectations that you can use when none of the other more specific expectations apply. The disadvantage is that you may get a less informative error message.\n",
    "\n",
    "- `expect_true` - tests if the object returns `TRUE`\n",
    "- `expect_false` - tests if the object returns `FALSE`"
   ]
  },
  {
   "cell_type": "code",
   "execution_count": null,
   "metadata": {},
   "outputs": [],
   "source": [
    "test_that(\"`count_classes` should return a data frame or data frame extension\", {\n",
    "  # tests to be added here\n",
    "})\n",
    "\n",
    "test_that(\"`count_classes` should return a data frame, or data frame extension, \n",
    "with the number of rows that corresponds to the number of unique classes \n",
    "in the column passed to `class_col`\", {\n",
    "  # tests to be added here\n",
    "})\n",
    "\n",
    "test_that(\"`count_classes` should return a data frame, or data frame extension, \n",
    "whose values in the `count` column correspond to the number of observations \n",
    "for the group in the `class` column from the original data frame\", {\n",
    "  # tests to be added here\n",
    "})\n",
    "\n",
    "test_that(\"`count_classes` should throw an error when incorrect types \n",
    "are passed to `data_frame` and `class_col` arguments\", {\n",
    "  # tests to be added here\n",
    "})"
   ]
  },
  {
   "cell_type": "markdown",
   "metadata": {},
   "source": [
    "Wait what??? Our tests fail...\n",
    "\n",
    "Yes, we expect that, we haven't written our function body yet!"
   ]
  },
  {
   "cell_type": "markdown",
   "metadata": {},
   "source": [
    "#### 5. Implement the function by writing the needed code in the function body to pass the tests:\n",
    "\n",
    "FINALLY!! We can write the function body for our function! And then call our tests to see if they pass!"
   ]
  },
  {
   "cell_type": "code",
   "execution_count": null,
   "metadata": {},
   "outputs": [],
   "source": [
    "#' Count class observations\n",
    "#'\n",
    "#' Creates a new data frame with two columns, \n",
    "#' listing the classes present in the input data frame,\n",
    "#' and the number of observations for each class.\n",
    "#'\n",
    "#' @param data_frame A data frame or data frame extension (e.g. a tibble).\n",
    "#' @param class_col unquoted column name of column containing class labels\n",
    "#'\n",
    "#' @return A data frame with two columns. \n",
    "#'   The first column (named class) lists the classes from the input data frame.\n",
    "#'   The second column (named count) lists the number of observations for each class from the input data frame.\n",
    "#'   It will have one row for each class present in input data frame.\n",
    "#'\n",
    "#' @export\n",
    "#'\n",
    "#' @examples\n",
    "count_classes(mtcars, am)\n",
    "count_classes <- function(data_frame, class_col) {\n",
    "  # returns a data frame with two columns: class and count\n",
    "}"
   ]
  },
  {
   "cell_type": "code",
   "execution_count": null,
   "metadata": {},
   "outputs": [],
   "source": [
    "test_that(\"`count_classes` should return a data frame or data frame extension\", {\n",
    "  # tests to be added here\n",
    "})\n",
    "\n",
    "test_that(\"`count_classes` should return a data frame, or data frame extension, \n",
    "with the number of rows that corresponds to the number of unique classes \n",
    "in the column passed to `class_col`\", {\n",
    "  # tests to be added here\n",
    "})\n",
    "\n",
    "test_that(\"`count_classes` should return a data frame, or data frame extension, \n",
    "whose values in the `count` column correspond to the number of observations \n",
    "for the group in the `class` column from the original data frame\", {\n",
    "  # tests to be added here\n",
    "})\n",
    "\n",
    "test_that(\"`count_classes` should throw an error when incorrect types \n",
    "are passed to `data_frame` and `class_col` arguments\", {\n",
    "  # tests to be added here\n",
    "})"
   ]
  },
  {
   "cell_type": "markdown",
   "metadata": {},
   "source": [
    "No message from the test, means the tests passed!\n",
    "\n",
    "<img src=\"https://media.giphy.com/media/EXFAJtutz5Ig8/giphy.gif\" >\n",
    "\n",
    "Are we done? For the purposes of this demo, yes! **However in practice you would usually cycle through steps 2-5 two-three more times to further improve our tests and and function!**"
   ]
  },
  {
   "cell_type": "markdown",
   "metadata": {},
   "source": [
    "## Reproducibly generating test data"
   ]
  },
  {
   "cell_type": "markdown",
   "metadata": {},
   "source": [
    "## Observability of unit outputs in data science"
   ]
  },
  {
   "cell_type": "markdown",
   "metadata": {},
   "source": [
    "## Test-driven development (TDD) and testability"
   ]
  },
  {
   "cell_type": "markdown",
   "metadata": {},
   "source": [
    "## Evaluate test suite quality"
   ]
  },
  {
   "cell_type": "markdown",
   "metadata": {
    "slideshow": {
     "slide_type": "slide"
    }
   },
   "source": [
    "## Attribution:\n",
    "- [Advanced R](https://adv-r.hadley.nz/) by Hadley Wickham\n",
    "- [The Tidynomicon](http://tidynomicon.tech/) by Greg Wilson"
   ]
  },
  {
   "cell_type": "markdown",
   "metadata": {},
   "source": [
    "## Where to next?\n",
    "\n",
    "Now that we know how to write functions in R, we will learn how to write tests for them to make them more robust.\n",
    "As well as how writing tests can actually help us write our functions in the first place!"
   ]
  }
 ],
 "metadata": {
  "celltoolbar": "Slideshow",
  "kernelspec": {
   "display_name": "R",
   "language": "R",
   "name": "ir"
  },
  "language_info": {
   "codemirror_mode": "r",
   "file_extension": ".r",
   "mimetype": "text/x-r-source",
   "name": "R",
   "pygments_lexer": "r",
   "version": "4.1.2"
  }
 },
 "nbformat": 4,
 "nbformat_minor": 4
}
