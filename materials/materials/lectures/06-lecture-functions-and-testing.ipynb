{
 "cells": [
  {
   "cell_type": "markdown",
   "metadata": {
    "slideshow": {
     "slide_type": "slide"
    }
   },
   "source": [
    "# Lecture 6: Functions and testing"
   ]
  },
  {
   "cell_type": "markdown",
   "metadata": {
    "slideshow": {
     "slide_type": "slide"
    }
   },
   "source": [
    "## Topic learning objectives\n",
    "\n",
    "By the end of this topic, students should be able to:\n",
    "\n",
    "1. Fully specify a function and write comprehensive tests against the specification.\n",
    "2. Reproducibly generate test data (e.g., data frames, models, plots).\n",
    "3. Discuss the observability of unit outputs in data science (e.g., plot objects), and how\n",
    "this should be taken into account when designing software.\n",
    "4. Explain why test-driven development (TDD) affords testability\n",
    "5. Use exceptions when writing code.\n",
    "6. Test if a function is throwing an exception when it should, and that is does not do so\n",
    "when it shouldn’t.\n",
    "7. Evaluate test suite quality."
   ]
  },
  {
   "cell_type": "code",
   "execution_count": 1,
   "metadata": {},
   "outputs": [],
   "source": [
    "# Limit output of data frame output to 10 lines\n",
    "options(repr.matrix.max.rows = 10)"
   ]
  },
  {
   "cell_type": "markdown",
   "metadata": {
    "slideshow": {
     "slide_type": "slide"
    }
   },
   "source": [
    "## Functions\n",
    "\n",
    "- Functions are individual units of code that perform a specific task.\n",
    "- They are useful for increasing code modularity - this helps with reusability and readability.\n",
    "- Functions can be easily tested to ensure the correct function outputs are given and that they handle user errors in expected ways. These checks help to increase the robustness of your code.\n",
    "\n",
    "When should you write a function? In practice, when you start re-writing code for the second or third time, it really is time to abstract your code into a function. When does this happen in data science? Think back to your DSCI 100 projects, you may have had redundant code when you:\n",
    "\n",
    "1. Repeatedly applied some data cleaning/manipulation to columns in your raw data suring the data wrangling process\n",
    "\n",
    "2. Created many similar data visualizations during your exploratory data analysis\n",
    "\n",
    "3. Created many similar tidymodels workflows when you were tuning your predictive models\n",
    "\n",
    "\n",
    "## Defining functions in R:\n",
    "\n",
    "In this course, we will get to practice writing functions (and then testing them) in the R programming language. Given this has not been covered in the course pre-requisites, we will cover it here briefly. To learn more about functions in R, we refer you to the [functions chapter in the Advanced R book](https://adv-r.hadley.nz/functions.html).\n",
    "\n",
    "- Use `variable <- function(…arguments…) { …body… }` to create a function and give it a name\n",
    "\n",
    "Example:"
   ]
  },
  {
   "cell_type": "code",
   "execution_count": 1,
   "metadata": {
    "slideshow": {
     "slide_type": "fragment"
    }
   },
   "outputs": [
    {
     "data": {
      "text/html": [
       "5"
      ],
      "text/latex": [
       "5"
      ],
      "text/markdown": [
       "5"
      ],
      "text/plain": [
       "[1] 5"
      ]
     },
     "metadata": {},
     "output_type": "display_data"
    }
   ],
   "source": [
    "add_two_numbers <- function(x, y) {\n",
    "  x + y\n",
    "}\n",
    "\n",
    "add_two_numbers(1, 4)"
   ]
  },
  {
   "cell_type": "markdown",
   "metadata": {
    "slideshow": {
     "slide_type": "fragment"
    }
   },
   "source": [
    "- Functions in R are objects. This is referred to as “first-class functions”.\n",
    "- The last line of the function returns the object created, or listed there. To return a value early use the special word `return` (as shown below)."
   ]
  },
  {
   "cell_type": "code",
   "execution_count": 16,
   "metadata": {
    "slideshow": {
     "slide_type": "slide"
    }
   },
   "outputs": [],
   "source": [
    "math_two_numbers <- function(x, y, operation) {\n",
    "  if (operation == \"add\") {\n",
    "    return(x + y)\n",
    "  } \n",
    "  x - y\n",
    "}"
   ]
  },
  {
   "cell_type": "code",
   "execution_count": 17,
   "metadata": {},
   "outputs": [
    {
     "data": {
      "text/html": [
       "5"
      ],
      "text/latex": [
       "5"
      ],
      "text/markdown": [
       "5"
      ],
      "text/plain": [
       "[1] 5"
      ]
     },
     "metadata": {},
     "output_type": "display_data"
    }
   ],
   "source": [
    "math_two_numbers (1, 4, \"add\")"
   ]
  },
  {
   "cell_type": "code",
   "execution_count": 18,
   "metadata": {},
   "outputs": [
    {
     "data": {
      "text/html": [
       "-3"
      ],
      "text/latex": [
       "-3"
      ],
      "text/markdown": [
       "-3"
      ],
      "text/plain": [
       "[1] -3"
      ]
     },
     "metadata": {},
     "output_type": "display_data"
    }
   ],
   "source": [
    "math_two_numbers (1, 4, \"subtract\")"
   ]
  },
  {
   "cell_type": "markdown",
   "metadata": {
    "slideshow": {
     "slide_type": "slide"
    }
   },
   "source": [
    "### Default function arguments\n",
    "\n",
    "Default values can be specified in the function definition:"
   ]
  },
  {
   "cell_type": "code",
   "execution_count": 21,
   "metadata": {
    "slideshow": {
     "slide_type": "fragment"
    }
   },
   "outputs": [],
   "source": [
    "math_two_numbers <- function(x, y, operation = \"add\") {\n",
    "  if (operation == \"add\") {\n",
    "    return(x + y)\n",
    "  } \n",
    "  x - y\n",
    "}"
   ]
  },
  {
   "cell_type": "code",
   "execution_count": 22,
   "metadata": {},
   "outputs": [
    {
     "data": {
      "text/html": [
       "5"
      ],
      "text/latex": [
       "5"
      ],
      "text/markdown": [
       "5"
      ],
      "text/plain": [
       "[1] 5"
      ]
     },
     "metadata": {},
     "output_type": "display_data"
    }
   ],
   "source": [
    "math_two_numbers (1, 4)"
   ]
  },
  {
   "cell_type": "code",
   "execution_count": 23,
   "metadata": {},
   "outputs": [
    {
     "data": {
      "text/html": [
       "-3"
      ],
      "text/latex": [
       "-3"
      ],
      "text/markdown": [
       "-3"
      ],
      "text/plain": [
       "[1] -3"
      ]
     },
     "metadata": {},
     "output_type": "display_data"
    }
   ],
   "source": [
    "math_two_numbers (1, 4, \"subtract\")"
   ]
  },
  {
   "cell_type": "markdown",
   "metadata": {
    "slideshow": {
     "slide_type": "skip"
    }
   },
   "source": [
    "#### Optional - Advanced\n",
    "\n",
    "##### Extra arguments via `...`\n",
    "\n",
    "If we want our function to be able to take extra arguments that we don't specify, we must explicitly convert `...` to a list (otherwise `...` will just return the first object passed to `...`):"
   ]
  },
  {
   "cell_type": "code",
   "execution_count": 29,
   "metadata": {
    "slideshow": {
     "slide_type": "skip"
    }
   },
   "outputs": [
    {
     "name": "stdout",
     "output_type": "stream",
     "text": [
      "[[1]]\n",
      "[1] 5\n",
      "\n",
      "[[2]]\n",
      "[1] 6\n",
      "\n"
     ]
    }
   ],
   "source": [
    "add <- function(x, y, ...) {\n",
    "    print(list(...))\n",
    "}\n",
    "add(1, 3, 5, 6)"
   ]
  },
  {
   "cell_type": "markdown",
   "metadata": {
    "slideshow": {
     "slide_type": "slide"
    }
   },
   "source": [
    "### Lexical scoping in R\n",
    "\n",
    "R’s lexical scoping follows several rules, we will cover the following 3:\n",
    "\n",
    "- Name masking\n",
    "- Dynamic lookup\n",
    "- A fresh start"
   ]
  },
  {
   "cell_type": "markdown",
   "metadata": {
    "slideshow": {
     "slide_type": "slide"
    }
   },
   "source": [
    "#### Name masking\n",
    "\n",
    "Object names which are defined inside a function mask object names defined outside of that function. For example, below `x` is first defined in the global environment, and then also defined in the function environment. `x` in the function environment masks `x` in the global environment, so the value of 5 is used in `to_add + x` instead of 10:"
   ]
  },
  {
   "cell_type": "code",
   "execution_count": 35,
   "metadata": {
    "slideshow": {
     "slide_type": "fragment"
    }
   },
   "outputs": [
    {
     "data": {
      "text/html": [
       "7"
      ],
      "text/latex": [
       "7"
      ],
      "text/markdown": [
       "7"
      ],
      "text/plain": [
       "[1] 7"
      ]
     },
     "metadata": {},
     "output_type": "display_data"
    }
   ],
   "source": [
    "x <- 10\n",
    "\n",
    "add_to_x <- function(to_add) {\n",
    "    x <- 5\n",
    "    to_add + x\n",
    "}\n",
    "\n",
    "add_to_x(2)"
   ]
  },
  {
   "cell_type": "markdown",
   "metadata": {},
   "source": [
    "If a function refers to an object name that is not defined inside the function, then R looks at the environment one level above. And if it is not found there, it again, looks another level above. This will happen all the way up the environment tree until it searches all possible environments for that session (including the global environment and loaded packages).\n",
    "\n",
    "<img src=\"img/env-lookup.png\" width=600>\n",
    "\n",
    "*__Attribution__: Derived from [Advanced R](https://adv-r.hadley.nz/) by Hadley Wickham*"
   ]
  },
  {
   "cell_type": "markdown",
   "metadata": {},
   "source": [
    "Here `x` is not defined in the function environment, and so R then looks one-level up to the global environment to try to find `x`. In this case it does and it is then used to calculate `to_add + x`:"
   ]
  },
  {
   "cell_type": "code",
   "execution_count": 38,
   "metadata": {},
   "outputs": [
    {
     "data": {
      "text/html": [
       "12"
      ],
      "text/latex": [
       "12"
      ],
      "text/markdown": [
       "12"
      ],
      "text/plain": [
       "[1] 12"
      ]
     },
     "metadata": {},
     "output_type": "display_data"
    }
   ],
   "source": [
    "x <- 10\n",
    "\n",
    "add_to_x <- function(to_add) {\n",
    "    to_add + x\n",
    "}\n",
    "\n",
    "add_to_x(2)"
   ]
  },
  {
   "cell_type": "markdown",
   "metadata": {
    "slideshow": {
     "slide_type": "slide"
    }
   },
   "source": [
    "#### Dynamic lookup\n",
    "\n",
    "R does not look up the values for objects it references when it is defined/created, instead it does this when the function is called. This can lead to the function returning different things depending on the values of the objects it references outside of the function's environment. \n",
    "\n",
    "For example, each time the function `add_to_x` is run, R looks up the current value of `x` and uses that to compute `to_add + x`:"
   ]
  },
  {
   "cell_type": "code",
   "execution_count": 37,
   "metadata": {
    "slideshow": {
     "slide_type": "fragment"
    }
   },
   "outputs": [
    {
     "data": {
      "text/html": [
       "12"
      ],
      "text/latex": [
       "12"
      ],
      "text/markdown": [
       "12"
      ],
      "text/plain": [
       "[1] 12"
      ]
     },
     "metadata": {},
     "output_type": "display_data"
    },
    {
     "data": {
      "text/html": [
       "22"
      ],
      "text/latex": [
       "22"
      ],
      "text/markdown": [
       "22"
      ],
      "text/plain": [
       "[1] 22"
      ]
     },
     "metadata": {},
     "output_type": "display_data"
    }
   ],
   "source": [
    "add_to_x <- function(to_add) {\n",
    "    to_add + x\n",
    "}\n",
    "\n",
    "x <- 10\n",
    "add_to_x(2)\n",
    "\n",
    "x <- 20\n",
    "add_to_x(2)"
   ]
  },
  {
   "cell_type": "markdown",
   "metadata": {
    "slideshow": {
     "slide_type": "slide"
    }
   },
   "source": [
    "#### A fresh start\n",
    "\n",
    "Functions in R have no memory of what happened the last time they were called. This happens because a new function environment is created, R created a new environment in which to execute it. \n",
    "\n",
    "For example, even though we update the value of `x` inside the function by adding two to it every time we execute it, it returns the same value each time, because R creates a new function environment each time we run it and that environment has no recollection of what happened the last time the function was run:"
   ]
  },
  {
   "cell_type": "code",
   "execution_count": 41,
   "metadata": {
    "slideshow": {
     "slide_type": "fragment"
    }
   },
   "outputs": [
    {
     "data": {
      "text/html": [
       "12"
      ],
      "text/latex": [
       "12"
      ],
      "text/markdown": [
       "12"
      ],
      "text/plain": [
       "[1] 12"
      ]
     },
     "metadata": {},
     "output_type": "display_data"
    },
    {
     "data": {
      "text/html": [
       "12"
      ],
      "text/latex": [
       "12"
      ],
      "text/markdown": [
       "12"
      ],
      "text/plain": [
       "[1] 12"
      ]
     },
     "metadata": {},
     "output_type": "display_data"
    },
    {
     "data": {
      "text/html": [
       "12"
      ],
      "text/latex": [
       "12"
      ],
      "text/markdown": [
       "12"
      ],
      "text/plain": [
       "[1] 12"
      ]
     },
     "metadata": {},
     "output_type": "display_data"
    }
   ],
   "source": [
    "x <- 10\n",
    "\n",
    "add_to_x <- function(to_add) {\n",
    "    x <- to_add + x\n",
    "    x\n",
    "}\n",
    "\n",
    "add_to_x(2)\n",
    "add_to_x(2)\n",
    "add_to_x(2)"
   ]
  },
  {
   "cell_type": "markdown",
   "metadata": {
    "slideshow": {
     "slide_type": "slide"
    }
   },
   "source": [
    "### Lazy evaluation\n",
    "\n",
    "In R, function arguments are lazily evaluated: they’re only evaluated if accessed.\n",
    "\n"
   ]
  },
  {
   "cell_type": "markdown",
   "metadata": {
    "slideshow": {
     "slide_type": "slide"
    }
   },
   "source": [
    "Knowing that, now consider the `add_one` function written in both R and Python below:\n",
    "\n",
    "```\n",
    "# R code (this would work)\n",
    "add_one <- function(x, y) {\n",
    "    x <- x + 1\n",
    "    return(x)\n",
    "} \n",
    "```\n",
    "\n",
    "```\n",
    "# Python code (this would not work)\n",
    "def add_one(x, y):\n",
    "    x = x + 1\n",
    "    return x\n",
    "```"
   ]
  },
  {
   "cell_type": "markdown",
   "metadata": {
    "slideshow": {
     "slide_type": "notes"
    }
   },
   "source": [
    "Why will the above `add_one` function will work in R, but the equivalent version of the function in python would break?\n",
    "\n",
    "- Python evaluates the function arguments before it evaluates the function and because it doesn't know what `y` is, it will break even though it is not used in the function.\n",
    "- R performs lazy evaluation, meaning it delays the evaluation of the function arguments until its value is needed within/inside the function. Since `y` is never referenced inside the function, R doesn't complain, or even notice it.\n"
   ]
  },
  {
   "cell_type": "markdown",
   "metadata": {},
   "source": [
    "#### `add_one` in R\n",
    "\n",
    "```\n",
    "add_one <- function(x, y) {\n",
    "    x <- x + 1\n",
    "    return(x)\n",
    "} \n",
    "```\n",
    "\n",
    "This works: \n",
    "\n",
    "\n",
    "```\n",
    "add_one(2, 1)\n",
    "```\n",
    "\n",
    "```\n",
    "3\n",
    "```\n",
    "\n",
    "and so does this:\n",
    "\n",
    "\n",
    "```\n",
    "add_one(2)\n",
    "```\n",
    "\n",
    "```\n",
    "3\n",
    "```"
   ]
  },
  {
   "cell_type": "markdown",
   "metadata": {},
   "source": [
    "#### `add_one` in Python\n",
    "\n",
    "```\n",
    "def add_one(x, y):\n",
    "    x = x + 1\n",
    "    return x`\n",
    "```\n",
    "\n",
    "This works: \n",
    "\n",
    "\n",
    "```\n",
    "add_one(2, 1)\n",
    "```\n",
    "\n",
    "```\n",
    "3\n",
    "```\n",
    "\n",
    "This does not:\n",
    "\n",
    "\n",
    "```\n",
    "add_one(2)\n",
    "```\n",
    "\n",
    "```\n",
    "---------------------------------------------------------------------------\n",
    "TypeError                                 Traceback (most recent call last)\n",
    "<ipython-input-5-f2e542671748> in <module>\n",
    "----> 1 add_one(2)\n",
    "\n",
    "TypeError: add_one() missing 1 required positional argument: 'y'\n",
    "```"
   ]
  },
  {
   "cell_type": "markdown",
   "metadata": {
    "slideshow": {
     "slide_type": "slide"
    }
   },
   "source": [
    "#### The power of lazy evaluation\n",
    "\n",
    "Let's you have easy to use interactive code like this:"
   ]
  },
  {
   "cell_type": "code",
   "execution_count": 44,
   "metadata": {
    "slideshow": {
     "slide_type": "fragment"
    }
   },
   "outputs": [
    {
     "data": {
      "text/html": [
       "<table class=\"dataframe\">\n",
       "<caption>A data.frame: 32 × 4</caption>\n",
       "<thead>\n",
       "\t<tr><th></th><th scope=col>mpg</th><th scope=col>cyl</th><th scope=col>hp</th><th scope=col>qsec</th></tr>\n",
       "\t<tr><th></th><th scope=col>&lt;dbl&gt;</th><th scope=col>&lt;dbl&gt;</th><th scope=col>&lt;dbl&gt;</th><th scope=col>&lt;dbl&gt;</th></tr>\n",
       "</thead>\n",
       "<tbody>\n",
       "\t<tr><th scope=row>Mazda RX4</th><td>21.0</td><td>6</td><td>110</td><td>16.46</td></tr>\n",
       "\t<tr><th scope=row>Mazda RX4 Wag</th><td>21.0</td><td>6</td><td>110</td><td>17.02</td></tr>\n",
       "\t<tr><th scope=row>Datsun 710</th><td>22.8</td><td>4</td><td> 93</td><td>18.61</td></tr>\n",
       "\t<tr><th scope=row>Hornet 4 Drive</th><td>21.4</td><td>6</td><td>110</td><td>19.44</td></tr>\n",
       "\t<tr><th scope=row>Hornet Sportabout</th><td>18.7</td><td>8</td><td>175</td><td>17.02</td></tr>\n",
       "\t<tr><th scope=row>Valiant</th><td>18.1</td><td>6</td><td>105</td><td>20.22</td></tr>\n",
       "\t<tr><th scope=row>Duster 360</th><td>14.3</td><td>8</td><td>245</td><td>15.84</td></tr>\n",
       "\t<tr><th scope=row>Merc 240D</th><td>24.4</td><td>4</td><td> 62</td><td>20.00</td></tr>\n",
       "\t<tr><th scope=row>Merc 230</th><td>22.8</td><td>4</td><td> 95</td><td>22.90</td></tr>\n",
       "\t<tr><th scope=row>Merc 280</th><td>19.2</td><td>6</td><td>123</td><td>18.30</td></tr>\n",
       "\t<tr><th scope=row>Merc 280C</th><td>17.8</td><td>6</td><td>123</td><td>18.90</td></tr>\n",
       "\t<tr><th scope=row>Merc 450SE</th><td>16.4</td><td>8</td><td>180</td><td>17.40</td></tr>\n",
       "\t<tr><th scope=row>Merc 450SL</th><td>17.3</td><td>8</td><td>180</td><td>17.60</td></tr>\n",
       "\t<tr><th scope=row>Merc 450SLC</th><td>15.2</td><td>8</td><td>180</td><td>18.00</td></tr>\n",
       "\t<tr><th scope=row>Cadillac Fleetwood</th><td>10.4</td><td>8</td><td>205</td><td>17.98</td></tr>\n",
       "\t<tr><th scope=row>Lincoln Continental</th><td>10.4</td><td>8</td><td>215</td><td>17.82</td></tr>\n",
       "\t<tr><th scope=row>Chrysler Imperial</th><td>14.7</td><td>8</td><td>230</td><td>17.42</td></tr>\n",
       "\t<tr><th scope=row>Fiat 128</th><td>32.4</td><td>4</td><td> 66</td><td>19.47</td></tr>\n",
       "\t<tr><th scope=row>Honda Civic</th><td>30.4</td><td>4</td><td> 52</td><td>18.52</td></tr>\n",
       "\t<tr><th scope=row>Toyota Corolla</th><td>33.9</td><td>4</td><td> 65</td><td>19.90</td></tr>\n",
       "\t<tr><th scope=row>Toyota Corona</th><td>21.5</td><td>4</td><td> 97</td><td>20.01</td></tr>\n",
       "\t<tr><th scope=row>Dodge Challenger</th><td>15.5</td><td>8</td><td>150</td><td>16.87</td></tr>\n",
       "\t<tr><th scope=row>AMC Javelin</th><td>15.2</td><td>8</td><td>150</td><td>17.30</td></tr>\n",
       "\t<tr><th scope=row>Camaro Z28</th><td>13.3</td><td>8</td><td>245</td><td>15.41</td></tr>\n",
       "\t<tr><th scope=row>Pontiac Firebird</th><td>19.2</td><td>8</td><td>175</td><td>17.05</td></tr>\n",
       "\t<tr><th scope=row>Fiat X1-9</th><td>27.3</td><td>4</td><td> 66</td><td>18.90</td></tr>\n",
       "\t<tr><th scope=row>Porsche 914-2</th><td>26.0</td><td>4</td><td> 91</td><td>16.70</td></tr>\n",
       "\t<tr><th scope=row>Lotus Europa</th><td>30.4</td><td>4</td><td>113</td><td>16.90</td></tr>\n",
       "\t<tr><th scope=row>Ford Pantera L</th><td>15.8</td><td>8</td><td>264</td><td>14.50</td></tr>\n",
       "\t<tr><th scope=row>Ferrari Dino</th><td>19.7</td><td>6</td><td>175</td><td>15.50</td></tr>\n",
       "\t<tr><th scope=row>Maserati Bora</th><td>15.0</td><td>8</td><td>335</td><td>14.60</td></tr>\n",
       "\t<tr><th scope=row>Volvo 142E</th><td>21.4</td><td>4</td><td>109</td><td>18.60</td></tr>\n",
       "</tbody>\n",
       "</table>\n"
      ],
      "text/latex": [
       "A data.frame: 32 × 4\n",
       "\\begin{tabular}{r|llll}\n",
       "  & mpg & cyl & hp & qsec\\\\\n",
       "  & <dbl> & <dbl> & <dbl> & <dbl>\\\\\n",
       "\\hline\n",
       "\tMazda RX4 & 21.0 & 6 & 110 & 16.46\\\\\n",
       "\tMazda RX4 Wag & 21.0 & 6 & 110 & 17.02\\\\\n",
       "\tDatsun 710 & 22.8 & 4 &  93 & 18.61\\\\\n",
       "\tHornet 4 Drive & 21.4 & 6 & 110 & 19.44\\\\\n",
       "\tHornet Sportabout & 18.7 & 8 & 175 & 17.02\\\\\n",
       "\tValiant & 18.1 & 6 & 105 & 20.22\\\\\n",
       "\tDuster 360 & 14.3 & 8 & 245 & 15.84\\\\\n",
       "\tMerc 240D & 24.4 & 4 &  62 & 20.00\\\\\n",
       "\tMerc 230 & 22.8 & 4 &  95 & 22.90\\\\\n",
       "\tMerc 280 & 19.2 & 6 & 123 & 18.30\\\\\n",
       "\tMerc 280C & 17.8 & 6 & 123 & 18.90\\\\\n",
       "\tMerc 450SE & 16.4 & 8 & 180 & 17.40\\\\\n",
       "\tMerc 450SL & 17.3 & 8 & 180 & 17.60\\\\\n",
       "\tMerc 450SLC & 15.2 & 8 & 180 & 18.00\\\\\n",
       "\tCadillac Fleetwood & 10.4 & 8 & 205 & 17.98\\\\\n",
       "\tLincoln Continental & 10.4 & 8 & 215 & 17.82\\\\\n",
       "\tChrysler Imperial & 14.7 & 8 & 230 & 17.42\\\\\n",
       "\tFiat 128 & 32.4 & 4 &  66 & 19.47\\\\\n",
       "\tHonda Civic & 30.4 & 4 &  52 & 18.52\\\\\n",
       "\tToyota Corolla & 33.9 & 4 &  65 & 19.90\\\\\n",
       "\tToyota Corona & 21.5 & 4 &  97 & 20.01\\\\\n",
       "\tDodge Challenger & 15.5 & 8 & 150 & 16.87\\\\\n",
       "\tAMC Javelin & 15.2 & 8 & 150 & 17.30\\\\\n",
       "\tCamaro Z28 & 13.3 & 8 & 245 & 15.41\\\\\n",
       "\tPontiac Firebird & 19.2 & 8 & 175 & 17.05\\\\\n",
       "\tFiat X1-9 & 27.3 & 4 &  66 & 18.90\\\\\n",
       "\tPorsche 914-2 & 26.0 & 4 &  91 & 16.70\\\\\n",
       "\tLotus Europa & 30.4 & 4 & 113 & 16.90\\\\\n",
       "\tFord Pantera L & 15.8 & 8 & 264 & 14.50\\\\\n",
       "\tFerrari Dino & 19.7 & 6 & 175 & 15.50\\\\\n",
       "\tMaserati Bora & 15.0 & 8 & 335 & 14.60\\\\\n",
       "\tVolvo 142E & 21.4 & 4 & 109 & 18.60\\\\\n",
       "\\end{tabular}\n"
      ],
      "text/markdown": [
       "\n",
       "A data.frame: 32 × 4\n",
       "\n",
       "| <!--/--> | mpg &lt;dbl&gt; | cyl &lt;dbl&gt; | hp &lt;dbl&gt; | qsec &lt;dbl&gt; |\n",
       "|---|---|---|---|---|\n",
       "| Mazda RX4 | 21.0 | 6 | 110 | 16.46 |\n",
       "| Mazda RX4 Wag | 21.0 | 6 | 110 | 17.02 |\n",
       "| Datsun 710 | 22.8 | 4 |  93 | 18.61 |\n",
       "| Hornet 4 Drive | 21.4 | 6 | 110 | 19.44 |\n",
       "| Hornet Sportabout | 18.7 | 8 | 175 | 17.02 |\n",
       "| Valiant | 18.1 | 6 | 105 | 20.22 |\n",
       "| Duster 360 | 14.3 | 8 | 245 | 15.84 |\n",
       "| Merc 240D | 24.4 | 4 |  62 | 20.00 |\n",
       "| Merc 230 | 22.8 | 4 |  95 | 22.90 |\n",
       "| Merc 280 | 19.2 | 6 | 123 | 18.30 |\n",
       "| Merc 280C | 17.8 | 6 | 123 | 18.90 |\n",
       "| Merc 450SE | 16.4 | 8 | 180 | 17.40 |\n",
       "| Merc 450SL | 17.3 | 8 | 180 | 17.60 |\n",
       "| Merc 450SLC | 15.2 | 8 | 180 | 18.00 |\n",
       "| Cadillac Fleetwood | 10.4 | 8 | 205 | 17.98 |\n",
       "| Lincoln Continental | 10.4 | 8 | 215 | 17.82 |\n",
       "| Chrysler Imperial | 14.7 | 8 | 230 | 17.42 |\n",
       "| Fiat 128 | 32.4 | 4 |  66 | 19.47 |\n",
       "| Honda Civic | 30.4 | 4 |  52 | 18.52 |\n",
       "| Toyota Corolla | 33.9 | 4 |  65 | 19.90 |\n",
       "| Toyota Corona | 21.5 | 4 |  97 | 20.01 |\n",
       "| Dodge Challenger | 15.5 | 8 | 150 | 16.87 |\n",
       "| AMC Javelin | 15.2 | 8 | 150 | 17.30 |\n",
       "| Camaro Z28 | 13.3 | 8 | 245 | 15.41 |\n",
       "| Pontiac Firebird | 19.2 | 8 | 175 | 17.05 |\n",
       "| Fiat X1-9 | 27.3 | 4 |  66 | 18.90 |\n",
       "| Porsche 914-2 | 26.0 | 4 |  91 | 16.70 |\n",
       "| Lotus Europa | 30.4 | 4 | 113 | 16.90 |\n",
       "| Ford Pantera L | 15.8 | 8 | 264 | 14.50 |\n",
       "| Ferrari Dino | 19.7 | 6 | 175 | 15.50 |\n",
       "| Maserati Bora | 15.0 | 8 | 335 | 14.60 |\n",
       "| Volvo 142E | 21.4 | 4 | 109 | 18.60 |\n",
       "\n"
      ],
      "text/plain": [
       "                    mpg  cyl hp  qsec \n",
       "Mazda RX4           21.0 6   110 16.46\n",
       "Mazda RX4 Wag       21.0 6   110 17.02\n",
       "Datsun 710          22.8 4    93 18.61\n",
       "Hornet 4 Drive      21.4 6   110 19.44\n",
       "Hornet Sportabout   18.7 8   175 17.02\n",
       "Valiant             18.1 6   105 20.22\n",
       "Duster 360          14.3 8   245 15.84\n",
       "Merc 240D           24.4 4    62 20.00\n",
       "Merc 230            22.8 4    95 22.90\n",
       "Merc 280            19.2 6   123 18.30\n",
       "Merc 280C           17.8 6   123 18.90\n",
       "Merc 450SE          16.4 8   180 17.40\n",
       "Merc 450SL          17.3 8   180 17.60\n",
       "Merc 450SLC         15.2 8   180 18.00\n",
       "Cadillac Fleetwood  10.4 8   205 17.98\n",
       "Lincoln Continental 10.4 8   215 17.82\n",
       "Chrysler Imperial   14.7 8   230 17.42\n",
       "Fiat 128            32.4 4    66 19.47\n",
       "Honda Civic         30.4 4    52 18.52\n",
       "Toyota Corolla      33.9 4    65 19.90\n",
       "Toyota Corona       21.5 4    97 20.01\n",
       "Dodge Challenger    15.5 8   150 16.87\n",
       "AMC Javelin         15.2 8   150 17.30\n",
       "Camaro Z28          13.3 8   245 15.41\n",
       "Pontiac Firebird    19.2 8   175 17.05\n",
       "Fiat X1-9           27.3 4    66 18.90\n",
       "Porsche 914-2       26.0 4    91 16.70\n",
       "Lotus Europa        30.4 4   113 16.90\n",
       "Ford Pantera L      15.8 8   264 14.50\n",
       "Ferrari Dino        19.7 6   175 15.50\n",
       "Maserati Bora       15.0 8   335 14.60\n",
       "Volvo 142E          21.4 4   109 18.60"
      ]
     },
     "metadata": {},
     "output_type": "display_data"
    }
   ],
   "source": [
    "dplyr::select(mtcars, mpg, cyl, hp, qsec)"
   ]
  },
  {
   "cell_type": "markdown",
   "metadata": {
    "slideshow": {
     "slide_type": "fragment"
    }
   },
   "source": [
    "Notes: \n",
    "- There's more than just lazy evaluation happening in the code above, but lazy evaluation is part of it.\n",
    "- `package::function()` is a way to use a function from an R package without loading the entire library.\n"
   ]
  },
  {
   "cell_type": "markdown",
   "metadata": {
    "slideshow": {
     "slide_type": "slide"
    },
    "tags": []
   },
   "source": [
    "## Function documentation\n",
    "\n",
    "\n",
    "### Function documentation in R\n",
    "\n",
    "In R, we write function documentation in a style that the `roxygen2` R package can use to automatically generate nicely formatted documentation, accessible via R's help function, when we create R packages. This is not available to us until we package our functions in software packages, however it is a good practice to get into because it helps ensure you document the key aspects of a function for your user, and it means that when you go to create an R package to share your function, you will have already correctly formatted the function documentation - saving future you some work!"
   ]
  },
  {
   "cell_type": "code",
   "execution_count": 23,
   "metadata": {
    "slideshow": {
     "slide_type": "fragment"
    }
   },
   "outputs": [],
   "source": [
    "#' Converts temperatures from Fahrenheit to Celsius.\n",
    "#'    \n",
    "#' @param temp a vector of temperatures in Fahrenheit\n",
    "#' \n",
    "#' @return a vector of temperatures in Celsius\n",
    "#' \n",
    "#' @examples\n",
    "#' fahr_to_celcius(-20)\n",
    "fahr_to_celsius <- function(temp) {\n",
    "    (temp - 32) * 5/9\n",
    "}"
   ]
  },
  {
   "cell_type": "markdown",
   "metadata": {
    "slideshow": {
     "slide_type": "fragment"
    }
   },
   "source": [
    "Why `roxygen2` documentation? If you document your functions like this, *when* you create an R package to share them they will be set up to have the fancy documentation that we get using `?function_name`."
   ]
  },
  {
   "cell_type": "markdown",
   "metadata": {
    "slideshow": {
     "slide_type": "slide"
    }
   },
   "source": [
    "## Writing tests with `testthat`\n",
    "\n",
    "- Industry standard tool for writing tests in R is the [{testthat} package](https://testthat.r-lib.org/).\n",
    "- To use an R package, we typically load the package into R using the `library` function:"
   ]
  },
  {
   "cell_type": "code",
   "execution_count": 11,
   "metadata": {
    "slideshow": {
     "slide_type": "fragment"
    }
   },
   "outputs": [],
   "source": [
    "library(testthat)"
   ]
  },
  {
   "cell_type": "markdown",
   "metadata": {
    "slideshow": {
     "slide_type": "slide"
    }
   },
   "source": [
    "### How to write a test with `testthat`\n",
    "\n",
    "```\n",
    "test_that(\"Message to print if test fails\", expect_*(...))\n",
    "```\n",
    "\n",
    "Often our `test_that` function calls are longer than 80 characters, so we use `{` to split the code across multiple lines, for example:"
   ]
  },
  {
   "cell_type": "code",
   "execution_count": 12,
   "metadata": {
    "slideshow": {
     "slide_type": "fragment"
    }
   },
   "outputs": [],
   "source": [
    "x <- c(3.5, 3.5, 3.5)\n",
    "y <- c(3.5, 3.5, 3.5)\n",
    "test_that(\"x and y should contain the same values\", {\n",
    "    expect_equal(x, y)\n",
    "})"
   ]
  },
  {
   "cell_type": "markdown",
   "metadata": {
    "slideshow": {
     "slide_type": "slide"
    }
   },
   "source": [
    "#### Common `expect_*` statements for use with `test_that`\n",
    "\n",
    "#### Is the object equal to a value? \n",
    "- `expect_identical` - test two objects for being exactly equal\n",
    "- `expect_equal` - compare R objects x and y testing ‘near equality’ (can set a tolerance)\n",
    "- `expect_equivalent` - compare R objects x and y testing ‘near equality’ (can set a tolerance) and does not assess attributes\n",
    "\n",
    "#### Does code produce an output/message/warning/error?\n",
    "- `expect_error` - tests if an expression throws an error\n",
    "- `expect_warning` - tests whether an expression outputs a warning\n",
    "- `expect_output` - tests that print output matches a specified value"
   ]
  },
  {
   "cell_type": "markdown",
   "metadata": {
    "slideshow": {
     "slide_type": "slide"
    }
   },
   "source": [
    "#### Is the object true/false?\n",
    "\n",
    "These are fall-back expectations that you can use when none of the other more specific expectations apply. The disadvantage is that you may get a less informative error message.\n",
    "\n",
    "- `expect_true` - tests if the object returns `TRUE`\n",
    "- `expect_false` - tests if the object returns `FALSE`"
   ]
  },
  {
   "cell_type": "markdown",
   "metadata": {
    "slideshow": {
     "slide_type": "slide"
    }
   },
   "source": [
    "#### Tolerance and tests: \n",
    "\n",
    "Below we add a tolerance arguement to the `expect_equal` statement such that the observed difference between these very similar vectors doesn't cause the test to fail. "
   ]
  },
  {
   "cell_type": "markdown",
   "metadata": {},
   "source": [
    "```\n",
    "x <- c(3.5, 3.5, 3.5)\n",
    "y <- c(3.5, 3.5, 3.49999)\n",
    "test_that(\"x and y should contain the same values\", {\n",
    "    expect_equal(x, y)\n",
    "})\n",
    "```"
   ]
  },
  {
   "cell_type": "markdown",
   "metadata": {},
   "source": [
    "```\n",
    "Error: Test failed: 'x and y should contain the same values'\n",
    "* <text>:4: `x` not equal to `y`.\n",
    "1/3 mismatches\n",
    "[3] 3.5 - 3.5 == 1e-05\n",
    "Traceback:\n",
    "\n",
    "1. test_that(\"x and y should contain the same values\", {\n",
    " .     expect_equal(x, y)\n",
    " . })\n",
    "2. test_code(desc, code, env = parent.frame())\n",
    "3. get_reporter()$end_test(context = get_reporter()$.context, test = test)\n",
    "4. stop(message, call. = FALSE)\n",
    "```"
   ]
  },
  {
   "cell_type": "code",
   "execution_count": 13,
   "metadata": {},
   "outputs": [],
   "source": [
    "x <- c(3.5, 3.5, 3.5)\n",
    "y <- c(3.5, 3.5, 3.49999)\n",
    "test_that(\"x and y should contain the same values\", {\n",
    "    expect_equal(x, y, tolerance = 0.00001)\n",
    "})"
   ]
  },
  {
   "cell_type": "markdown",
   "metadata": {
    "slideshow": {
     "slide_type": "slide"
    }
   },
   "source": [
    "#### Unit test example "
   ]
  },
  {
   "cell_type": "code",
   "execution_count": 14,
   "metadata": {
    "slideshow": {
     "slide_type": "fragment"
    }
   },
   "outputs": [],
   "source": [
    "celsius_to_fahr <- function(temp) {\n",
    "  (temp * (9 / 5)) + 32\n",
    "}"
   ]
  },
  {
   "cell_type": "code",
   "execution_count": 15,
   "metadata": {
    "slideshow": {
     "slide_type": "fragment"
    }
   },
   "outputs": [],
   "source": [
    "test_that(\"Temperature should be the same in Celcius and Fahrenheit at -40\", {\n",
    "        expect_identical(celsius_to_fahr(-40), -40)\n",
    "    })\n",
    "test_that(\"Room temperature should be about 23 degrees in Celcius and 73 degrees Fahrenheit\", {\n",
    "        expect_equal(celsius_to_fahr(23), 73, tolerance = 1)\n",
    "    })"
   ]
  },
  {
   "cell_type": "markdown",
   "metadata": {
    "slideshow": {
     "slide_type": "slide"
    }
   },
   "source": [
    "### Test-driven development (TDD) review\n",
    "\n",
    "1. Write your tests first (that call the function you haven't yet written), based on edge cases you expect or can calculate by hand\n",
    "\n",
    "2. If necessary, create some \"helper\" data to test your function with (this might be done in conjunction with step 1)\n",
    "\n",
    "3. Write your function to make the tests pass (in this process you might think of more tests that you want to add)"
   ]
  },
  {
   "cell_type": "markdown",
   "metadata": {
    "slideshow": {
     "slide_type": "slide"
    }
   },
   "source": [
    "#### Toy example of how TDD can be helpful\n",
    "\n",
    "Let's create a function called `fahr_to_celsius` that converts temperatures from Fahrenheit to Celsius.\n",
    "\n",
    "First we'll write the tests (which will fail):\n"
   ]
  },
  {
   "cell_type": "code",
   "execution_count": 16,
   "metadata": {
    "slideshow": {
     "slide_type": "fragment"
    }
   },
   "outputs": [],
   "source": [
    "test_fahr_to_celsius <- function() {\n",
    "    test_that(\"Temperature should be the same in Celcius and Fahrenheit at -40\", {\n",
    "        expect_identical(fahr_to_celsius(-40), -40)\n",
    "    })\n",
    "    test_that(\"Room temperature should be about 73 degrees Fahrenheit and 23 degrees in Celcius\", {\n",
    "        expect_equal(fahr_to_celsius(73), 23, tolerance = 1)\n",
    "    })\n",
    "}"
   ]
  },
  {
   "cell_type": "markdown",
   "metadata": {
    "slideshow": {
     "slide_type": "slide"
    }
   },
   "source": [
    "Then we write our function to pass the tests:"
   ]
  },
  {
   "cell_type": "code",
   "execution_count": 17,
   "metadata": {
    "slideshow": {
     "slide_type": "fragment"
    }
   },
   "outputs": [],
   "source": [
    "fahr_to_celsius <- function(temp) {\n",
    "    (temp + 32) * 5/9\n",
    "}"
   ]
  },
  {
   "cell_type": "markdown",
   "metadata": {
    "slideshow": {
     "slide_type": "fragment"
    }
   },
   "source": [
    "Then we call our tests to check it:"
   ]
  },
  {
   "cell_type": "markdown",
   "metadata": {
    "slideshow": {
     "slide_type": "slide"
    }
   },
   "source": [
    "```\n",
    "test_fahr_to_celsius()\n",
    "```"
   ]
  },
  {
   "cell_type": "markdown",
   "metadata": {},
   "source": [
    "```\n",
    "Error: Test failed: 'Temperature should be the same in Celcius and Fahrenheit at -40'\n",
    "* <text>:3: fahr_to_celsius(-40) not identical to -40.\n",
    "1/1 mismatches\n",
    "[1] -4.44 - -40 == 35.6\n",
    "Traceback:\n",
    "\n",
    "1. test_fahr_to_celsius()\n",
    "2. test_that(\"Temperature should be the same in Celcius and Fahrenheit at -40\", \n",
    " .     {\n",
    " .         expect_identical(fahr_to_celsius(-40), -40)\n",
    " .     })   # at line 2-4 of file <text>\n",
    "3. test_code(desc, code, env = parent.frame())\n",
    "4. get_reporter()$end_test(context = get_reporter()$.context, test = test)\n",
    "5. stop(message, call. = FALSE)\n",
    "```"
   ]
  },
  {
   "cell_type": "markdown",
   "metadata": {},
   "source": [
    "We found an error - so we go back and edit our function:"
   ]
  },
  {
   "cell_type": "code",
   "execution_count": 18,
   "metadata": {},
   "outputs": [],
   "source": [
    "fahr_to_celsius <- function(temp) {\n",
    "    (temp - 32) * 5/9\n",
    "}"
   ]
  },
  {
   "cell_type": "markdown",
   "metadata": {},
   "source": [
    "And then call our tests again to see if we got it right!"
   ]
  },
  {
   "cell_type": "code",
   "execution_count": 19,
   "metadata": {},
   "outputs": [],
   "source": [
    "test_fahr_to_celsius()"
   ]
  },
  {
   "cell_type": "markdown",
   "metadata": {},
   "source": [
    "No message from the test, means we got it this time!"
   ]
  },
  {
   "cell_type": "markdown",
   "metadata": {},
   "source": [
    "<img src=\"https://media.giphy.com/media/EXFAJtutz5Ig8/giphy.gif\" >"
   ]
  },
  {
   "cell_type": "markdown",
   "metadata": {
    "slideshow": {
     "slide_type": "slide"
    }
   },
   "source": [
    "## Exception handling\n",
    "\n",
    "How to check type and throw an error if not the expected type:"
   ]
  },
  {
   "cell_type": "markdown",
   "metadata": {},
   "source": [
    "```\n",
    "if (!is.numeric(c(1, 2, \"c\")))\n",
    "  stop(\"Cannot compute of a vector of characters.\")\n",
    "```"
   ]
  },
  {
   "cell_type": "markdown",
   "metadata": {},
   "source": [
    "```\n",
    "Error in eval(expr, envir, enclos): Cannot compute of a vector of characters.\n",
    "Traceback:\n",
    "\n",
    "1. stop(\"Cannot compute of a vector of characters.\")\n",
    "```"
   ]
  },
  {
   "cell_type": "markdown",
   "metadata": {
    "slideshow": {
     "slide_type": "slide"
    }
   },
   "source": [
    "Example of defensive programming at the beginning of a function:"
   ]
  },
  {
   "cell_type": "code",
   "execution_count": 20,
   "metadata": {
    "slideshow": {
     "slide_type": "fragment"
    }
   },
   "outputs": [],
   "source": [
    "fahr_to_celsius <- function(temp) {\n",
    "    if(!is.numeric(temp)){\n",
    "        stop(\"Cannot calculate temperature in Farenheit for non-numerical values\")\n",
    "    }\n",
    "    (temp - 32) * 5/9\n",
    "}"
   ]
  },
  {
   "cell_type": "markdown",
   "metadata": {
    "slideshow": {
     "slide_type": "fragment"
    }
   },
   "source": [
    "```\n",
    "fahr_to_celsius(\"thirty\")\n",
    "```"
   ]
  },
  {
   "cell_type": "markdown",
   "metadata": {},
   "source": [
    "```\n",
    "Error in fahr_to_celsius(\"thirty\"): Cannot calculate temperature in Farenheit for non-numerical values\n",
    "Traceback:\n",
    "\n",
    "1. fahr_to_celsius(\"thirty\")\n",
    "2. stop(\"Cannot calculate temperature in Farenheit for non-numerical values\")   # at line 3 of file <text>\n",
    "```"
   ]
  },
  {
   "cell_type": "markdown",
   "metadata": {
    "slideshow": {
     "slide_type": "fragment"
    }
   },
   "source": [
    "If you wanted to issue a warning instead of an error, you could use `warning` in place of `stop` in the example above. However, in most cases it is better practice to throw an error than to print a warning..."
   ]
  },
  {
   "cell_type": "markdown",
   "metadata": {
    "slideshow": {
     "slide_type": "slide"
    }
   },
   "source": [
    "#### We can test our exceptions using test_that:"
   ]
  },
  {
   "cell_type": "code",
   "execution_count": 21,
   "metadata": {
    "slideshow": {
     "slide_type": "fragment"
    }
   },
   "outputs": [],
   "source": [
    "test_that(\"Non-numeric values for temp should throw an error\", {\n",
    "    expect_error(fahr_to_celsius(\"thirty\"))\n",
    "    expect_error(fahr_to_celsius(list(4)))\n",
    "    })"
   ]
  },
  {
   "cell_type": "markdown",
   "metadata": {
    "slideshow": {
     "slide_type": "slide"
    }
   },
   "source": [
    "#### `try` in R\n",
    "\n",
    "Similar to Python, R has a `try` function to attempt to run code, and continue running subsequent code even if code in the try block does not work:\n",
    "\n",
    "```\n",
    "try({\n",
    "    # some code\n",
    "    # that can be \n",
    "    # split across several\n",
    "    # lines\n",
    "})\n",
    "\n",
    "# code to continue even if error in code \n",
    "# in try code block above\n",
    "```"
   ]
  },
  {
   "cell_type": "markdown",
   "metadata": {
    "slideshow": {
     "slide_type": "slide"
    }
   },
   "source": [
    "This code normally results in an error that stops following code from running:"
   ]
  },
  {
   "cell_type": "markdown",
   "metadata": {
    "slideshow": {
     "slide_type": "fragment"
    }
   },
   "source": [
    "```\n",
    "x <- data.frame(col1 = c(1, 2, 3, 2, 1), \n",
    "                col2 = c(0, 1, 0, 0 , 1))\n",
    "x[3]\n",
    "dim(x)\n",
    "```"
   ]
  },
  {
   "cell_type": "markdown",
   "metadata": {},
   "source": [
    "```\n",
    "Error in `[.data.frame`(x, 3): undefined columns selected\n",
    "Traceback:\n",
    "\n",
    "1. x[3]\n",
    "2. `[.data.frame`(x, 3)\n",
    "3. stop(\"undefined columns selected\")\n",
    "```"
   ]
  },
  {
   "cell_type": "markdown",
   "metadata": {
    "slideshow": {
     "slide_type": "fragment"
    }
   },
   "source": [
    "Try let's the code following the error run:"
   ]
  },
  {
   "cell_type": "code",
   "execution_count": 22,
   "metadata": {
    "slideshow": {
     "slide_type": "fragment"
    }
   },
   "outputs": [
    {
     "name": "stdout",
     "output_type": "stream",
     "text": [
      "Error in `[.data.frame`(x, 3) : undefined columns selected\n"
     ]
    },
    {
     "data": {
      "text/html": [
       "<style>\n",
       ".list-inline {list-style: none; margin:0; padding: 0}\n",
       ".list-inline>li {display: inline-block}\n",
       ".list-inline>li:not(:last-child)::after {content: \"\\00b7\"; padding: 0 .5ex}\n",
       "</style>\n",
       "<ol class=list-inline><li>5</li><li>2</li></ol>\n"
      ],
      "text/latex": [
       "\\begin{enumerate*}\n",
       "\\item 5\n",
       "\\item 2\n",
       "\\end{enumerate*}\n"
      ],
      "text/markdown": [
       "1. 5\n",
       "2. 2\n",
       "\n",
       "\n"
      ],
      "text/plain": [
       "[1] 5 2"
      ]
     },
     "metadata": {},
     "output_type": "display_data"
    }
   ],
   "source": [
    "try({x <- data.frame(col1 = c(1, 2, 3, 2, 1), \n",
    "                     col2 = c(0, 1, 0, 0 , 1))\n",
    "     x[3]\n",
    "})\n",
    "dim(x)"
   ]
  },
  {
   "cell_type": "markdown",
   "metadata": {
    "slideshow": {
     "slide_type": "fragment"
    }
   },
   "source": [
    "Sensibly (IMHO) `try` has a default of `silent=FALSE`, which you can change if you find good reason too."
   ]
  },
  {
   "cell_type": "markdown",
   "metadata": {
    "slideshow": {
     "slide_type": "slide"
    }
   },
   "source": [
    "#### RStudio has template for `roxygen2` documentation\n",
    "\n",
    "<img src=\"img/insert_roxygen.png\" width=500>"
   ]
  },
  {
   "cell_type": "markdown",
   "metadata": {
    "slideshow": {
     "slide_type": "slide"
    }
   },
   "source": [
    "## Reading in functions from an R script\n",
    "\n",
    "Usually the step before packaging your code, is having some functions in another script that you want to read into your analysis. We use the `source` function to do this:"
   ]
  },
  {
   "cell_type": "code",
   "execution_count": 24,
   "metadata": {
    "slideshow": {
     "slide_type": "fragment"
    }
   },
   "outputs": [],
   "source": [
    "source(\"src/kelvin_to_celsius.R\")"
   ]
  },
  {
   "cell_type": "markdown",
   "metadata": {
    "slideshow": {
     "slide_type": "fragment"
    }
   },
   "source": [
    "Once you do this, you have access to all functions contained within that script:"
   ]
  },
  {
   "cell_type": "code",
   "execution_count": 25,
   "metadata": {
    "slideshow": {
     "slide_type": "fragment"
    }
   },
   "outputs": [
    {
     "data": {
      "text/html": [
       "0"
      ],
      "text/latex": [
       "0"
      ],
      "text/markdown": [
       "0"
      ],
      "text/plain": [
       "[1] 0"
      ]
     },
     "metadata": {},
     "output_type": "display_data"
    }
   ],
   "source": [
    "kelvin_to_celsius(273.15)"
   ]
  },
  {
   "cell_type": "markdown",
   "metadata": {
    "slideshow": {
     "slide_type": "fragment"
    }
   },
   "source": [
    "*Note - this is how the `test_*` functions are brought into your Jupyter notebooks for the autograding part of your lab3 homework.*"
   ]
  },
  {
   "cell_type": "markdown",
   "metadata": {
    "slideshow": {
     "slide_type": "slide"
    }
   },
   "source": [
    "## Introduction to R packages\n",
    "\n",
    "- `source(\"script_with_functions.R\")` is useful, but when you start using these functions in different projects you need to keep copying the script, or having overly specific paths..."
   ]
  },
  {
   "cell_type": "markdown",
   "metadata": {
    "slideshow": {
     "slide_type": "fragment"
    }
   },
   "source": [
    "- The next step is packaging your R code so that it can be installed and then used across multiple projects on your (and others) machines without directly pointing to where the code is stored, but instead accessed using the `library` function."
   ]
  },
  {
   "cell_type": "markdown",
   "metadata": {
    "slideshow": {
     "slide_type": "fragment"
    }
   },
   "source": [
    "- You will learn how to do this in Collaborative Software Development (term 2), but for now, let's tour a simple R package to get a better understanding of what they are: https://github.com/ttimbers/convertemp"
   ]
  },
  {
   "cell_type": "markdown",
   "metadata": {
    "slideshow": {
     "slide_type": "slide"
    }
   },
   "source": [
    "### Install the convertemp R package:\n",
    "\n",
    "In RStudio, type: `devtools::install_github(\"ttimbers/convertemp\")`"
   ]
  },
  {
   "cell_type": "code",
   "execution_count": 26,
   "metadata": {
    "slideshow": {
     "slide_type": "fragment"
    }
   },
   "outputs": [
    {
     "name": "stderr",
     "output_type": "stream",
     "text": [
      "\n",
      "Attaching package: ‘convertemp’\n",
      "\n",
      "\n",
      "The following objects are masked _by_ ‘.GlobalEnv’:\n",
      "\n",
      "    celsius_to_fahr, fahr_to_celsius, kelvin_to_celsius\n",
      "\n",
      "\n"
     ]
    }
   ],
   "source": [
    "library(convertemp)"
   ]
  },
  {
   "cell_type": "code",
   "execution_count": 27,
   "metadata": {
    "slideshow": {
     "slide_type": "fragment"
    }
   },
   "outputs": [
    {
     "data": {
      "text/html": [
       "\n",
       "<table width=\"100%\" summary=\"page for celsius_to_kelvin {convertemp}\"><tr><td>celsius_to_kelvin {convertemp}</td><td style=\"text-align: right;\">R Documentation</td></tr></table>\n",
       "\n",
       "<h2>Convert Celsius to Kelvin</h2>\n",
       "\n",
       "<h3>Description</h3>\n",
       "\n",
       "<p>Convert a temperature from Celsius to Kelvin\n",
       "</p>\n",
       "\n",
       "\n",
       "<h3>Usage</h3>\n",
       "\n",
       "<pre>\n",
       "celsius_to_kelvin(temp)\n",
       "</pre>\n",
       "\n",
       "\n",
       "<h3>Arguments</h3>\n",
       "\n",
       "<table summary=\"R argblock\">\n",
       "<tr valign=\"top\"><td><code>temp</code></td>\n",
       "<td>\n",
       "<p>numeric</p>\n",
       "</td></tr>\n",
       "</table>\n",
       "\n",
       "\n",
       "<h3>Value</h3>\n",
       "\n",
       "<p>numeric\n",
       "</p>\n",
       "\n",
       "\n",
       "<h3>Examples</h3>\n",
       "\n",
       "<pre>\n",
       "celsius_to_kelvin(0)\n",
       "</pre>\n",
       "\n",
       "<hr /><div style=\"text-align: center;\">[Package <em>convertemp</em> version 0.1.0 ]</div>"
      ],
      "text/latex": [
       "\\inputencoding{utf8}\n",
       "\\HeaderA{celsius\\_to\\_kelvin}{Convert Celsius to Kelvin}{celsius.Rul.to.Rul.kelvin}\n",
       "%\n",
       "\\begin{Description}\\relax\n",
       "Convert a temperature from Celsius to Kelvin\n",
       "\\end{Description}\n",
       "%\n",
       "\\begin{Usage}\n",
       "\\begin{verbatim}\n",
       "celsius_to_kelvin(temp)\n",
       "\\end{verbatim}\n",
       "\\end{Usage}\n",
       "%\n",
       "\\begin{Arguments}\n",
       "\\begin{ldescription}\n",
       "\\item[\\code{temp}] numeric\n",
       "\\end{ldescription}\n",
       "\\end{Arguments}\n",
       "%\n",
       "\\begin{Value}\n",
       "numeric\n",
       "\\end{Value}\n",
       "%\n",
       "\\begin{Examples}\n",
       "\\begin{ExampleCode}\n",
       "celsius_to_kelvin(0)\n",
       "\\end{ExampleCode}\n",
       "\\end{Examples}"
      ],
      "text/plain": [
       "celsius_to_kelvin          package:convertemp          R Documentation\n",
       "\n",
       "_\bC_\bo_\bn_\bv_\be_\br_\bt _\bC_\be_\bl_\bs_\bi_\bu_\bs _\bt_\bo _\bK_\be_\bl_\bv_\bi_\bn\n",
       "\n",
       "_\bD_\be_\bs_\bc_\br_\bi_\bp_\bt_\bi_\bo_\bn:\n",
       "\n",
       "     Convert a temperature from Celsius to Kelvin\n",
       "\n",
       "_\bU_\bs_\ba_\bg_\be:\n",
       "\n",
       "     celsius_to_kelvin(temp)\n",
       "     \n",
       "_\bA_\br_\bg_\bu_\bm_\be_\bn_\bt_\bs:\n",
       "\n",
       "    temp: numeric\n",
       "\n",
       "_\bV_\ba_\bl_\bu_\be:\n",
       "\n",
       "     numeric\n",
       "\n",
       "_\bE_\bx_\ba_\bm_\bp_\bl_\be_\bs:\n",
       "\n",
       "     celsius_to_kelvin(0)\n",
       "     "
      ]
     },
     "metadata": {},
     "output_type": "display_data"
    }
   ],
   "source": [
    "?celsius_to_kelvin"
   ]
  },
  {
   "cell_type": "code",
   "execution_count": 28,
   "metadata": {
    "slideshow": {
     "slide_type": "fragment"
    }
   },
   "outputs": [
    {
     "data": {
      "text/html": [
       "273.15"
      ],
      "text/latex": [
       "273.15"
      ],
      "text/markdown": [
       "273.15"
      ],
      "text/plain": [
       "[1] 273.15"
      ]
     },
     "metadata": {},
     "output_type": "display_data"
    }
   ],
   "source": [
    "celsius_to_kelvin(0)"
   ]
  },
  {
   "cell_type": "markdown",
   "metadata": {
    "slideshow": {
     "slide_type": "slide"
    }
   },
   "source": [
    "### Packages and environments\n",
    "\n",
    "- Each package attached by library() becomes one of the parents of the global environment\n",
    "\n",
    "- The immediate parent of the global environment is the last package you attached, the parent of that package is the second to last package you attached, …"
   ]
  },
  {
   "cell_type": "markdown",
   "metadata": {
    "slideshow": {
     "slide_type": "fragment"
    }
   },
   "source": [
    "<img src=\"https://d33wubrfki0l68.cloudfront.net/038b2da4f5db1d2a8acaf4ee1e7d08d04ab36ebc/ac22a/diagrams/environments/search-path.png\" width=800>\n",
    "\n",
    "*Source: [Advanced R](https://adv-r.hadley.nz/) by Hadley Wickham*"
   ]
  },
  {
   "cell_type": "markdown",
   "metadata": {
    "slideshow": {
     "slide_type": "slide"
    }
   },
   "source": [
    "When you attach another package with library(), the parent environment of the global environment changes:"
   ]
  },
  {
   "cell_type": "markdown",
   "metadata": {
    "slideshow": {
     "slide_type": "fragment"
    }
   },
   "source": [
    "<img src=\"https://d33wubrfki0l68.cloudfront.net/7c87a5711e92f0269cead3e59fc1e1e45f3667e9/0290f/diagrams/environments/search-path-2.png\" width=800>\n",
    "\n",
    "*Source: [Advanced R](https://adv-r.hadley.nz/) by Hadley Wickham*"
   ]
  },
  {
   "cell_type": "markdown",
   "metadata": {
    "slideshow": {
     "slide_type": "slide"
    }
   },
   "source": [
    "### What did we learn today?\n",
    "\n",
    "- How to write and test functions in R\n",
    " \n",
    "- How to handle exceptions\n",
    "\n",
    "- How to source functions from other files\n",
    "\n",
    "- A little bit about what R packages are\n"
   ]
  },
  {
   "cell_type": "markdown",
   "metadata": {
    "slideshow": {
     "slide_type": "slide"
    }
   },
   "source": [
    "## Attribution:\n",
    "- [Advanced R](https://adv-r.hadley.nz/) by Hadley Wickham\n",
    "- [The Tidynomicon](http://tidynomicon.tech/) by Greg Wilson"
   ]
  }
 ],
 "metadata": {
  "celltoolbar": "Slideshow",
  "kernelspec": {
   "display_name": "R",
   "language": "R",
   "name": "ir"
  },
  "language_info": {
   "codemirror_mode": "r",
   "file_extension": ".r",
   "mimetype": "text/x-r-source",
   "name": "R",
   "pygments_lexer": "r",
   "version": "4.1.2"
  }
 },
 "nbformat": 4,
 "nbformat_minor": 4
}
