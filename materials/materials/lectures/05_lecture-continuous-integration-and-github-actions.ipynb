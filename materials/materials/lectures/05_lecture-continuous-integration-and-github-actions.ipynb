{
 "cells": [
  {
   "cell_type": "markdown",
   "metadata": {
    "slideshow": {
     "slide_type": "slide"
    }
   },
   "source": [
    "# Lecture 5: Introductions to Continuous Integration (CI) & GitHub Actions"
   ]
  },
  {
   "cell_type": "markdown",
   "metadata": {
    "slideshow": {
     "slide_type": "slide"
    }
   },
   "source": [
    "## Learning objectives:\n",
    "By the end of this lecture, students should be able to:\n",
    "- Define continuous integration testing\n",
    "- Explain why continuous integration testing is superior to manually running tests\n",
    "- Define the following key concepts that underlie GitHub Actions:\n",
    "    - Actions\n",
    "    - Workflow\n",
    "    - Event\n",
    "    - Runner\n",
    "    - Job\n",
    "    - Step\n",
    "- Store and use GitHub Actions credentials safely via GitHub Secrets\n",
    "- Use matrix GitHub Actions workflows to reduce workflow redundancy\n",
    "- Use GitHub Actions to set-up automated running of tests by `pytest` upon push to any branch\n",
    "- Use GitHub Actions to set-up automated running of tests by `testthat` upon push to any branch"
   ]
  },
  {
   "cell_type": "markdown",
   "metadata": {
    "slideshow": {
     "slide_type": "slide"
    }
   },
   "source": [
    "## Continuous Integration (CI)\n",
    "\n",
    "Defined as the practice of **frequently** integrating code (*e.g.*, several times a day) changes from contributors to a shared repository. Often the submission of code to the shared repository is combined with automated testing (and other things, such as style checking) to increase code dependability and quality."
   ]
  },
  {
   "cell_type": "markdown",
   "metadata": {
    "slideshow": {
     "slide_type": "slide"
    }
   },
   "source": [
    "### Why use CI + automated testing\n",
    "\n",
    "- detects errors sooner\n",
    "- reduces the amount of code to be examined when debugging\n",
    "- facilitates merging\n",
    "- ensures new code additions do not introduce errors"
   ]
  },
  {
   "cell_type": "markdown",
   "metadata": {
    "slideshow": {
     "slide_type": "slide"
    }
   },
   "source": [
    "## GitHub actions\n",
    "\n",
    "A tool and service for automating software development tasks, located in the same place where you already store your code.\n",
    "\n",
    "### Key concepts:\n",
    "**Actions:** Individual tasks you want to perform.\n",
    "\n",
    "**Workflow:** A collection of actions (specified together in one file).\n",
    "\n",
    "**Event:** Something that triggers the running of a workflow.\n",
    "\n",
    "**Runner**: A machine that can run the Github Action(s).\n",
    "\n",
    "**Job**: A set of steps executed on the same runner.\n",
    "\n",
    "**Step**: A set of commands or actions which a job executes."
   ]
  },
  {
   "cell_type": "markdown",
   "metadata": {
    "slideshow": {
     "slide_type": "slide"
    }
   },
   "source": [
    "### Examples of GitHub Actions\n",
    " \n",
    "You have already interacted with GitHub Actions in this class! We used it to:\n",
    "\n",
    "1. Generate the issues in the [`mds-homework` repo](https://github.com/ubc-mds/mds-homework) upon push to the \"create\" branch: <https://github.com/UBC-MDS/mds-homework/blob/master/.github/workflows/create_issues.yml>\n",
    "\n",
    "2. Generate a pull request in the [`review-my-pull-request` repo](https://github.com/ttimbers/review-my-pull-request) upon push to the \"pr\" branch: : <https://github.com/ttimbers/review-my-pull-request/blob/master/.github/workflows/pr.yml>"
   ]
  },
  {
   "cell_type": "markdown",
   "metadata": {
    "slideshow": {
     "slide_type": "slide"
    }
   },
   "source": [
    "### Exercise: Getting to know GitHub Actions workflows\n",
    "\n",
    "We are going to each create our own GitHub Actions workflow. This workflow is a very simple toy example where we run some `echo` shell commands to print things to the runner's terminal.\n",
    "\n",
    "#### Steps:\n",
    "\n",
    "1. Create a new public **GitHub.com** repository with a `README`.\n",
    "\n",
    "2. Click on the \"Actions\" tab\n",
    "\n",
    "3. Click on the first \"Set up this workflow\" button\n",
    "    \n",
    "    <img src=\"img/gh-actions-setup.png\" width=600>\n",
    "\n",
    "4. Click on the two green commit buttons to add this workflow file\n",
    "\n",
    "5. Go to the \"Actions\" tab and look at the build logs by following these instructions:\n",
    "\n",
    "    Click on the message associated with the event that created the action:\n",
    "    \n",
    "    <img src=\"img/check-logs1.png\" width=600>\n",
    "    \n",
    "    Click on the build link:\n",
    "    \n",
    "    <img src=\"img/check-logs2.png\" width=600>\n",
    "    \n",
    "    Click on the arrow inside the build logs to expand a section and see the output of the action:\n",
    "\n",
    "    <img src=\"img/check-logs3.png\" width=600>"
   ]
  },
  {
   "cell_type": "markdown",
   "metadata": {
    "slideshow": {
     "slide_type": "slide"
    }
   },
   "source": [
    "### GitHub Actions workflow file:\n",
    "\n",
    "A `YAML` file that lives in the `.github/workflows` directory or your repository which speciies your workflow. \n",
    "\n",
    "```\n",
    "# This is a basic workflow to help you get started with Actions\n",
    "\n",
    "name: CI\n",
    "\n",
    "# Controls when the workflow will run\n",
    "on:\n",
    "  # Triggers the workflow on push or pull request events but only for the main branch\n",
    "  push:\n",
    "    branches: [ main ]\n",
    "  pull_request:\n",
    "    branches: [ main ]\n",
    "\n",
    "  # Allows you to run this workflow manually from the Actions tab\n",
    "  workflow_dispatch:\n",
    "\n",
    "# A workflow run is made up of one or more jobs that can run sequentially or in parallel\n",
    "jobs:\n",
    "  # This workflow contains a single job called \"build\"\n",
    "  build:\n",
    "    # The type of runner that the job will run on\n",
    "    runs-on: ubuntu-latest\n",
    "\n",
    "    # Steps represent a sequence of tasks that will be executed as part of the job\n",
    "    steps:\n",
    "      # Checks-out your repository under $GITHUB_WORKSPACE, so your job can access it\n",
    "      - uses: actions/checkout@v2\n",
    "\n",
    "      # Runs a single command using the runners shell\n",
    "      - name: Run a one-line script\n",
    "        run: echo Hello, world!\n",
    "\n",
    "      # Runs a set of commands using the runners shell\n",
    "      - name: Run a multi-line script\n",
    "        run: |\n",
    "          echo Add other actions to build,\n",
    "          echo test, and deploy your project.\n",
    "\n",
    "```"
   ]
  },
  {
   "cell_type": "markdown",
   "metadata": {
    "slideshow": {
     "slide_type": "notes"
    }
   },
   "source": [
    "The file above has:\n",
    "- 3 possible event triggers (push to main, pull request to main, or manual dispatch through the Actions tab)\n",
    "- runs on an Ubuntu OS\n",
    "- one job called \"build\"\n",
    "- 3 steps\n",
    "- the type of runner is ubuntu\n",
    "- the first step uses an action, and the following two steps run commands"
   ]
  },
  {
   "cell_type": "markdown",
   "metadata": {
    "slideshow": {
     "slide_type": "slide"
    }
   },
   "source": [
    "### Commands vs actions\n",
    "\n",
    "Steps can consist commands or actions. Let's spend some time to discuss what each of these are and how they differ."
   ]
  },
  {
   "cell_type": "markdown",
   "metadata": {
    "slideshow": {
     "slide_type": "slide"
    }
   },
   "source": [
    "### Commands\n",
    "\n",
    "Steps that use commands look like the one shown below. They consist of a `name` and a `run` parameter. The commands listed after `run` are run in the runner's shell:\n",
    "\n",
    "```\n",
    "- name: Run a one-line script\n",
    "      run: echo Hello, world!\n",
    "```\n",
    "\n",
    "As shown in the file above, we can run multiple commands in a step using the `|` character:\n",
    "```\n",
    "- name: Run a multi-line script\n",
    "      run: |\n",
    "        echo Add other actions to build,\n",
    "        echo test, and deploy your project.\n",
    "```"
   ]
  },
  {
   "cell_type": "markdown",
   "metadata": {
    "slideshow": {
     "slide_type": "slide"
    }
   },
   "source": [
    "### Actions\n",
    "\n",
    "Steps that use actions look like the one shown below (which builds and publishes Docker containers). They always have a `uses` parameter, and often also have `name` and `with` parameters. The `uses` parameter specifies which action to use, and the `with` parameters provide arguments to those actions. The `@master` at the name of the `uses` line, specifies whether to use the version at the head of the actions default branch, or a specific version (*e.g.,* `@v2`).\n",
    "\n",
    "```\n",
    "- name: Publish to Registry\n",
    "      uses: elgohr/Publish-Docker-Github-Action@master\n",
    "      with:\n",
    "        name: myDocker/repository\n",
    "        username: ${{ secrets.DOCKER_USERNAME }}\n",
    "        password: ${{ secrets.DOCKER_PASSWORD }}\n",
    "```\n",
    "\n",
    "Actions commonly perform one task in a workflow. There are two ways to build actions, either using JavaScript or by creating a Docker container that runs a shell script. For the latter such actions are defined by:\n",
    "- a Dockerfile\n",
    "- a shell script to run inside the Docker container\n",
    "\n",
    "> In this course we will use actions built by others, but not build our own. That is beyond the scope of this course. However, if you are intersted in learning more, I point you to the documentation below."
   ]
  },
  {
   "cell_type": "markdown",
   "metadata": {},
   "source": [
    "#### Optional:"
   ]
  },
  {
   "cell_type": "markdown",
   "metadata": {
    "slideshow": {
     "slide_type": "notes"
    }
   },
   "source": [
    "For example, for the action above see its:\n",
    "- [Dockerfile](https://github.com/elgohr/Publish-Docker-Github-Action/blob/master/Dockerfile)\n",
    "- [endpoint.sh script](https://github.com/elgohr/Publish-Docker-Github-Action/blob/master/entrypoint.sh)\n",
    "- [GitHub repo](https://github.com/elgohr/Publish-Docker-Github-Action)\n",
    "\n",
    "Read the docs here to learn how to build your own Docker container GitHub action: <https://help.github.com/en/actions/building-actions/creating-a-docker-container-action>\n",
    "\n",
    "Read the docs here to learn how to build your own JavaScript GitHub action:\n",
    "<https://help.github.com/en/actions/building-actions/creating-a-javascript-action>"
   ]
  },
  {
   "cell_type": "markdown",
   "metadata": {
    "slideshow": {
     "slide_type": "slide"
    }
   },
   "source": [
    "## Case study: a simplified version of the Python Python cookiecutter package `ci.yml` workflow:\n",
    "\n",
    "- Let's break down a simplified version of the [`ci.yml`](https://github.com/py-pkgs/py-pkgs-cookiecutter/blob/main/%7B%7Bcookiecutter.package_name%7D%7D/.github/workflows/ci.yml) workflow file to start to better understand a real use case of GitHub Actions.\n",
    "\n",
    "```\n",
    "name: ci\n",
    "\n",
    "on: [push, pull_request]\n",
    "\n",
    "jobs:\n",
    "  ci:\n",
    "    # Set up operating system\n",
    "    runs-on: ubuntu-latest\n",
    "    \n",
    "    steps:\n",
    "    - name: Setup Python\n",
    "      uses: actions/setup-python@v2\n",
    "      with:\n",
    "        python-version: 3.9\n",
    "    \n",
    "    - name: Checkout repository\n",
    "      uses: actions/checkout@v2\n",
    "  \n",
    "    - name: Install Poetry\n",
    "      uses: snok/install-poetry@v1\n",
    "    \n",
    "    - name: Install package\n",
    "      run: poetry install\n",
    "   \n",
    "    - name: Test with pytest\n",
    "      run: poetry run pytest\n",
    "```"
   ]
  },
  {
   "cell_type": "markdown",
   "metadata": {
    "slideshow": {
     "slide_type": "slide"
    }
   },
   "source": [
    "### Exercise: Orientating ourselves with the `ci.yml` workflow\n",
    "\n",
    "Let's answer the following questions to start better understanding the `ci.yml` workflow.\n",
    "\n",
    "1. How many jobs are there?\n",
    "\n",
    "2. How many steps are there?\n",
    "\n",
    "3. What which steps are actions and which are commands\n",
    "\n",
    "4. What is the type of runner\n",
    "\n",
    "5. What events trigger this workflow?"
   ]
  },
  {
   "cell_type": "markdown",
   "metadata": {},
   "source": [
    "### Exercise: Adding the `ci.yml` workflow to your `pycount*` repository\n",
    "\n",
    "Let's add the `ci.yml` workflow to our `pycount*` repository from week 1!\n",
    "\n",
    "1. Go to the actions tab for your GitHub repository\n",
    "\n",
    "2. Click on \"*set up a workflow yourself*\"\n",
    "\n",
    "3. Delete the template action provided to you, and paste the `ci.yml` file above into the text editor. Rename the file `ci.yml`.\n",
    "\n",
    "4. Click \"Start commit\", enter a commit message and then click \"Commit\"."
   ]
  },
  {
   "cell_type": "markdown",
   "metadata": {
    "slideshow": {
     "slide_type": "slide"
    }
   },
   "source": [
    "## Storing and use GitHub Actions credentials safely via GitHub Secrets\n",
    "\n",
    "Some of the tasks we want to do in our workflows require authentication. However, the whole point of this is to automate this process - so how can we do that without sharing our authentication tokens, usernames or passwords in our workflow files?\n",
    "\n",
    "GitHub Secrets is the solution to this! \n",
    "\n",
    "GitHub Secrets are encrypted environment variables that are used only with GitHub Actions, and specified on a repository-by-repository basis. They can be accessed in a workflow file via: `${{ secrets.SECRET_NAME }}`\n",
    "\n",
    "See GitHub's help docs for how to do this: <https://help.github.com/en/actions/configuring-and-managing-workflows/creating-and-storing-encrypted-secrets>"
   ]
  },
  {
   "cell_type": "markdown",
   "metadata": {
    "slideshow": {
     "slide_type": "slide"
    }
   },
   "source": [
    "### Exercise: add a secret to your `pypkgs` GitHub repository\n",
    "\n",
    "Let's learn how to add secrets to a GitHub repository. We'll do this by adding our `CODECOV_TOKEN` as a secret to our `pypkgs` GitHub repository so that we can report our coverage via a nice shiny button on our repo's README.\n",
    "\n",
    "#### Steps:\n",
    "\n",
    "0. Use Poetry to add two more developmental dependencies to your project: `poetry add --dev pytest-cov codecov` and push your updated `pyproject.toml` and `poetry.lock` file to GitHub.\n",
    "\n",
    "1. Log into [codecov.io](https://codecov.io/) using GitHub to authenticate\n",
    "\n",
    "2. ~~Link your packages GitHub repo to [codecov.io](https://codecov.io/)~~\n",
    "\n",
    "3. ~~Copy the [codecov.io](https://codecov.io/) token for that repo from [codecov.io](https://codecov.io/)~~\n",
    "\n",
    "4. ~~On the \"Settings\" tab of GitHub, click on \"Secrets\"~~\n",
    "\n",
    "5. ~~Click \"Add a new secret\"~~\n",
    "\n",
    "6. ~~Add `CODECOV_TOKEN` as the secret name, and paste your token (which you copied from [codecov.io](https://codecov.io/)) as the value.~~\n",
    "\n",
    "7. Change the pytest command in your workflow to be: `poetry run pytest tests/ --cov=PACKAGE_NAME --cov-report=xml` and then add one more step to your workflow:\n",
    "\n",
    "\n",
    "8. Run tests for package\n",
    " \n",
    "```\n",
    "    - name: Upload coverage to Codecov  \n",
    "      uses: codecov/codecov-action@v2\n",
    "      with:\n",
    "        file: ./coverage.xml    # coverage report\n",
    "        fail_ci_if_error: true\n",
    "```\n",
    "\n",
    "*Note: you only need to do steps 2-6 when your repository is private.*"
   ]
  },
  {
   "cell_type": "markdown",
   "metadata": {
    "slideshow": {
     "slide_type": "slide"
    }
   },
   "source": [
    "## Authenticating with the `GITHUB_TOKEN`\n",
    "\n",
    "What if you need to do Git/GitHub things in your workflow? Like checkout your files to run the tests? Create a release? Open an issue? To help with this GitHub automatically (i.e., you do not need to create this secret) creates a secret named `GITHUB_TOKEN` that you can access and use in your workflow. You access this token in your workflow file via:\n",
    "\n",
    "```\n",
    "${{ secrets.GITHUB_TOKEN }}\n",
    "```"
   ]
  },
  {
   "cell_type": "markdown",
   "metadata": {
    "slideshow": {
     "slide_type": "slide"
    }
   },
   "source": [
    "## Creating and accessing environment variables in GitHub Actions\n",
    "\n",
    "Sometimes our commands or actions need environment variables. In both of these scenarios, we create environment variables and access them within a step via: \n",
    "\n",
    "```\n",
    "steps:\n",
    "  - name: Hello env vars\n",
    "    run: echo $VARIABLE_NAME1 $VARIABLE_NAME2\n",
    "    env:\n",
    "      VARIABLE_NAME1: <variable_value1>\n",
    "      VARIABLE_NAME2: <variable_value2>\n",
    "```\n",
    "\n"
   ]
  },
  {
   "cell_type": "markdown",
   "metadata": {
    "slideshow": {
     "slide_type": "slide"
    }
   },
   "source": [
    "## Matrix workflows\n",
    "\n",
    "We don't want our software to just work on one operating system, or just one version of Python or R. Ideally it is compatible with the three major operating systems as well as a couple versions of the programming language it was written it.\n",
    "\n",
    "How do we ensure this? Well, we could have several GitHub Action workflows, each of which runs the job on a different version of Python, on a different operating system. However, there would be a lot of redundancy in those workflows, with the only differences between them being the operating system of the runner and the version of Python.\n",
    "\n",
    "A more efficient way to do this with GitHub Actions workflows is to use matrix workflows. In these workflows, we use a matrix variable, which we specify as: \n",
    "\n",
    "```\n",
    "strategy:\n",
    "  matrix:\n",
    "    <variable_name>: [<value1>, <value2>]\n",
    "```\n",
    "\n",
    "which we can refer to in the workflow steps as:\n",
    "\n",
    "```\n",
    "${{ matrix.<variable_name> }}\n",
    "```\n",
    "\n",
    "When we do this, GitHub Actions runs multiple jobs, one for each of the values in the matrix variable."
   ]
  },
  {
   "cell_type": "markdown",
   "metadata": {
    "slideshow": {
     "slide_type": "slide"
    }
   },
   "source": [
    "### Exercise: in English, what this version of `ci.yml` file do?\n",
    "\n",
    "Now that we have some understanding of GitHub Actions workflows, let's use that knowledge to write in English what each of the steps do in this more complicated version of the workflow found in  `ci.yml`.\n",
    "\n",
    "```\n",
    "name: ci\n",
    "\n",
    "on:\n",
    "  # Trigger the workflow on push or pull request to main\n",
    "  push:\n",
    "    branches:\n",
    "      - main\n",
    "  pull_request:\n",
    "    branches:\n",
    "      - main\n",
    "\n",
    "jobs:\n",
    "  ci:\n",
    "    runs-on: ${{ matrix.os }}\n",
    "    strategy:\n",
    "      matrix:\n",
    "        os: [ubuntu-latest, macos-latest, windows-latest]\n",
    "        python-version: 3.9\n",
    "        \n",
    "    steps:\n",
    "    - name: Setup Python\n",
    "      uses: actions/setup-python@v2\n",
    "      with:\n",
    "        python-version: 3.9\n",
    "    \n",
    "    - name: Checkout repository\n",
    "      uses: actions/checkout@v2\n",
    "  \n",
    "    - name: Install Poetry\n",
    "      uses: snok/install-poetry@v1\n",
    "    \n",
    "    - name: Install package\n",
    "      run: poetry install\n",
    "   \n",
    "    - name: Test with pytest\n",
    "      run: poetry run pytest tests/ --cov=pycounts_tb --cov-report=xml\n",
    "      \n",
    "    - name: Upload coverage to Codecov  \n",
    "      uses: codecov/codecov-action@v2\n",
    "      with:\n",
    "        file: ./coverage.xml    # coverage report\n",
    "        fail_ci_if_error: true\n",
    "```"
   ]
  },
  {
   "cell_type": "markdown",
   "metadata": {},
   "source": [
    "#### Steps in English:\n",
    "\n",
    "1. Set up and install Python on the runner\n",
    "\n",
    "2. Checking out the files of the repository to the runner (last commit)\n",
    "\n",
    "3. Install Poetry\n",
    "\n",
    "4. Use Poetry to install dependencies and the package\n",
    "\n",
    "5. Run tests and check coverage, generate a coverage report\n",
    "\n",
    "6. Send the coverage report to codecov.io\n",
    "\n",
    "#### *How many jobs are run? What does each do?*\n"
   ]
  },
  {
   "cell_type": "markdown",
   "metadata": {
    "slideshow": {
     "slide_type": "slide"
    }
   },
   "source": [
    "## Setting up GitHub Actions workflows with Python\n",
    "\n",
    "Your task should already be done, except for adding the GitHub Secrets. How so? When you used the Python Packages Cookiecutter template to create your package skeleton, it wrote you this workflow file:\n",
    "- `ci-cd.yml`\n",
    "\n",
    "To make the `ci-cd.yml` workflow run without fail, you will need to ensure your:\n",
    "- the following package development dependencies have been added to `pyproject.toml` via `poetry add --dev`:\n",
    "    - `pytest` \n",
    "    - `pytest-cov` \n",
    "    - `codecov` \n",
    "- all tests pass  \n",
    "- add the GitHub Secrets for:\n",
    "    - `TEST_PYPI_API_TOKEN`\n",
    "    - `PYPI_API_TOKEN`\n",
    "\n",
    "To create these tokens you will need to:\n",
    "- log-in to TestPyPI and PyPI \n",
    "- create an API token for each (see [docs](https://pypi.org/help/#apitoken))\n",
    "- add the token as a GitHub secret with the names listed above\n",
    "\n",
    "> We will talk more about the `cd` job in `ci-cd.yml` next class."
   ]
  },
  {
   "cell_type": "markdown",
   "metadata": {
    "slideshow": {
     "slide_type": "slide"
    }
   },
   "source": [
    "## Setting up GitHub Actions workflows with Python\n",
    "\n",
    "The docs for the Python Packages Cookiecutter template repo has a User Guide that should help you get this all set-up: https://py-pkgs-cookiecutter.readthedocs.io/en/latest/user-guide.html"
   ]
  },
  {
   "cell_type": "markdown",
   "metadata": {
    "slideshow": {
     "slide_type": "slide"
    }
   },
   "source": [
    "## Setting up GitHub Actions workflows with R\n",
    "\n",
    "The dev version of `usethis` has functions that will let you set-up your CI using GitHub Actions with ease! Here's a quickstart guide below, and more details can be found in the [Github actions with R](https://ropenscilabs.github.io/actions_sandbox/) book.\n",
    "\n",
    "1. Add the `covr` package as a suggested dependendency to your package via: `usethis::use_package(\"covr\", type = \"Suggests\")`\n",
    "\n",
    "2. Add a GitHub Actions workflows that runs a comprehensive build check across the major operating systems and runs the test suite and calculates coverage via: `usethis::use_github_action_check_standard()` and `usethis::use_github_action(\"test-coverage.yaml\")`\n",
    "\n",
    "3. Link your R package GitHub repo with [codecov.io](https://codecov.io/)\n",
    "\n",
    "4. Copy the [codecov.io](https://codecov.io/) token for that repo from [codecov.io](https://codecov.io/) and add that as a GitHub Secret named `CODECOV_TOKEN`\n",
    "\n",
    "5. Add the [codecov.io](https://codecov.io/) badge markdown syntax to your `README.Rmd` and knit to render the `README.md` file.\n",
    "\n",
    "6. Push your local changes to GitHub and sit back and watch the magic happen ✨"
   ]
  },
  {
   "cell_type": "markdown",
   "metadata": {
    "slideshow": {
     "slide_type": "slide"
    }
   },
   "source": [
    "![](https://media.giphy.com/media/3osxYyxqXmZQt7DPtm/giphy.gif)"
   ]
  },
  {
   "cell_type": "markdown",
   "metadata": {
    "slideshow": {
     "slide_type": "slide"
    }
   },
   "source": [
    "## What's next?\n",
    "\n",
    "- Setting up GitHub Actions workflows for CI with R\n",
    "- Continous development with GitHub Actions workflows in Python (including version bumping & semantic release)\n",
    "- Package-level documentation\n",
    "- Publishing your package on the package indices"
   ]
  },
  {
   "cell_type": "markdown",
   "metadata": {
    "slideshow": {
     "slide_type": "slide"
    }
   },
   "source": [
    "## Resources:\n",
    "\n",
    "### Curated list of awesome actions to use on GitHub 🎉\n",
    "\n",
    "- <https://github.com/sdras/awesome-actions>\n",
    "\n",
    "### GitHub Actions for the R community\n",
    "- <https://github.com/r-lib/actions>"
   ]
  }
 ],
 "metadata": {
  "celltoolbar": "Slideshow",
  "kernelspec": {
   "display_name": "Python 3",
   "language": "python",
   "name": "python3"
  },
  "language_info": {
   "codemirror_mode": {
    "name": "ipython",
    "version": 3
   },
   "file_extension": ".py",
   "mimetype": "text/x-python",
   "name": "python",
   "nbconvert_exporter": "python",
   "pygments_lexer": "ipython3",
   "version": "3.8.5"
  }
 },
 "nbformat": 4,
 "nbformat_minor": 4
}
