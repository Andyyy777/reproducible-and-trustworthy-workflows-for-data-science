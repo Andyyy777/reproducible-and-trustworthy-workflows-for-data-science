{
 "cells": [
  {
   "cell_type": "markdown",
   "id": "9d4d9830-de3b-44eb-b1c5-e64fd564629c",
   "metadata": {},
   "source": [
    "# Version control for transparency and collaboration"
   ]
  },
  {
   "cell_type": "markdown",
   "id": "d17ca87b-2c0b-4f37-831e-ed047e832551",
   "metadata": {},
   "source": [
    "## Week learning objectives\n",
    "\n",
    "By the end of the lecture, students should be able to:\n",
    "\n",
    "1. Explain why and how data analysis projects benefit from both local and remote version control\n",
    "2. Use Git's basic functions to save changes to local and remote version control, as well as view and restore older versions of files\n",
    "3. Use Git and GitHub to successfully collaborate with others (e.g., handle merge conflicts, use a fork-pull-request and branch-pull-request workflow to contribute to a project, organize tasks through issue milestones and project boards)"
   ]
  },
  {
   "cell_type": "markdown",
   "id": "8e0fc6fd-08de-47d0-89bc-0edb4281b6f0",
   "metadata": {
    "tags": []
   },
   "source": [
    "## Version control\n",
    "\n",
    "> *\"Version control is the process of keeping a record of changes to documents, including when the changes were made and who made them, throughout the history of their development. It also provides the means both to view earlier versions of the project and to revert changes.\"*\n",
    ">\n",
    "> -- [*Data Science: A First Introduction*](https://ubc-dsci.github.io/introduction-to-datascience/Getting-started-with-version-control.html)\n",
    "\n",
    "In this course we will learn to use the most popular version control software tools, Git and GitHub. A schematic of local and remote version control repositories using these tools is shown below:\n",
    "\n",
    "<img src=\"https://ubc-dsci.github.io/introduction-to-datascience/_main_files/figure-html/vc1-no-changes-1.png\" width=800>\n",
    "\n",
    "Source: [*Data Science: A First Introduction*](https://ubc-dsci.github.io/introduction-to-datascience/Getting-started-with-version-control.html)"
   ]
  },
  {
   "cell_type": "markdown",
   "id": "b4f22440-a385-4182-903f-3c895b2ec082",
   "metadata": {},
   "source": [
    "### A Zoom poll!\n",
    "\n",
    "Before this class, you were asked to read [Chapter 12: Collaboration with version control](https://ubc-dsci.github.io/introduction-to-datascience/Getting-started-with-version-control.html) from Data Science: A First Introduction. We're goig to do a Zoom poll with the following questions to check your knowledge!\n",
    "\n",
    "**1. Which of these is untrue about the Git and GitHub version control software?**\n",
    "\n",
    "*a. Allows you to view and/or retrieve older snapshots of the files and directories in a project.*\n",
    "\n",
    "*b. Automatically snapshots your work every 2 minutes.*\n",
    "\n",
    "*c. Provides transparency on who made what changes to files and directories in a document.*\n",
    "\n",
    "*d. Can act as a way to back-up your work.*\n",
    "\n",
    "\n",
    "**2. GitHub is the software you use locally on your computer (i.e., your laptop) to commit changes to the version control history. True or False?**\n",
    "\n",
    "*a. True*\n",
    "\n",
    "*b. False*\n",
    "\n",
    "*c. Neither true or false.*\n",
    "\n",
    "\n",
    "**3. You changed two files (`notes.txt` and `eda.ipynb`) but you only want to commit changes to one of them (`eda.ipynb`) to the version control history. Which Git command allows you to specify this?**\n",
    "\n",
    "*a. Add*\n",
    "\n",
    "*b. Commit*\n",
    "\n",
    "*c. Push*\n",
    "\n",
    "*d. Push*\n",
    "\n",
    "**4. At a minimum, how often should you push your work to GitHub?**\n",
    "\n",
    "*a. Every 5 min.*\n",
    "\n",
    "*b. Every 30 min.*\n",
    "\n",
    "*c. At the end of every work session.*\n",
    "\n",
    "*d. Once a week.*\n",
    "\n",
    "\n",
    "**5. You try to push your most recent commit from your locale version control repository to your remote repository on GitHub and it fails because Git says the `remote contains work that you have locally`. What do should you do next?**\n",
    "\n",
    "*a. Commit the changes you made recently in your working directory.*\n",
    "\n",
    "*b. Force push your changes.*\n",
    "\n",
    "*c. Pull the changes from the remote repository that you do not have locally.*\n",
    "\n",
    "\n",
    "**6. You pull changes that exist in your remote version control repository on GitHub that you do not have in your local version control repository, and you get the message `Auto-merging in <FILENAME> CONFLICT (content): Merge conflict in <FILENAME> Automatic merge failed; fix conflicts and then commit the result`. What do you need to do?**\n",
    "\n",
    "*a. Push the changes from the local repository that you do not have remotely.*\n",
    "\n",
    "*b. Force pull the changes.*\n",
    "\n",
    "*c. Manually open the file with the conflict and edit it to have the desired version of the changes, as well as remove the special Git syntax used to identify the merge conflict.*"
   ]
  },
  {
   "cell_type": "markdown",
   "id": "a42fecc1-ff60-4eab-89ff-55ac4ed05010",
   "metadata": {},
   "source": [
    "> ## Command Git commands at the command line\n",
    ">\n",
    "> In the assigned textbook reading we use the JupyterLab Git extension tool to run Git version\n",
    "> control commands (adding to the staging area, committing, pushing, pulling).\n",
    "> However, sometimes we may need to resort to using the Git commands at the command line (i.e., terminal)\n",
    "> if we end up in situations the JupyterLab Git extension tool is not designed to handle \n",
    "> (or we hit a bug in that software). \n",
    "> Thus, below we list the most common Git commands that you would need at the command line:\n",
    ">\n",
    "> | Description | Command |\n",
    "> |---------|-------------|\n",
    "> | Checking the status of the local version control repository | `git status` |\n",
    "> | Adding a file to the staging area | `git add <FILENAME> |\n",
    "> | Commiting staged file to the version control history | `git commit -m \"Some relevant message about the changes\" |\n",
    "> | Push changes to the local version control repository to the remote repository on GitHub.com | `git push` |\n",
    "> | Pull changes from the remote version control repository on GitHub.com to the local repository | `git pull` |\n",
    "> | Viewing the version control history | `git log` |\n",
    "> "
   ]
  },
  {
   "cell_type": "markdown",
   "id": "ff087f44-2de8-4956-a1b6-d7ca9a62abb0",
   "metadata": {},
   "source": [
    "## Hands on practice with merge conflicts!\n",
    "\n",
    "One of the major blockers getting used to using version control is dealing with merge conflicts! 😱\n",
    "\n",
    "Git can automatically handle merging two versions of a file if each collaborator changes different lines, however when two collaborators change the same line, Git throws up its hands and says, I cannot handle this responsbility, I need help from a human!\n",
    "\n",
    "<img src=\"https://media.giphy.com/media/4SZxcPTtlGAZa/giphy.gif\">"
   ]
  },
  {
   "cell_type": "markdown",
   "id": "0d643d30-8de0-46c9-a999-e2f2018b7a7a",
   "metadata": {},
   "source": [
    "When this happens, your human task is to find the merge conflict markers, remove them, and settle on which version of the line(s) where the conflict occurred should remain.\n",
    "\n",
    "> ### Merge conflict markers:\n",
    "> \n",
    "> - the beginning of the merge conflict is preceded by `<<<<<<< HEAD` \n",
    "> - the end of the merge conflict is marked by `>>>>>>>`\n",
    "> - between the markings mentioned above, Git also inserts a separator (`=======`). The version of the change before the separator is your > change, and the version that follows the separator was the change that existed on GitHub. "
   ]
  },
  {
   "cell_type": "markdown",
   "id": "e1ef939e-646b-4173-8432-c7ad36a7401a",
   "metadata": {},
   "source": [
    "We are going to now generate and resolve merge conflicts.I have set-up a template GitHub repository for you so that you can easily generate a merge conflict to resolve. We will do this twice, once with a simple plain text file (*e.g.*, an R script) and once with a more complex text file (*e.g.*, a Jupyter notebook).\n",
    "\n",
    "#### Resolving merge conflicts in a simple text file:\n",
    "\n",
    "**Steps:**\n",
    "\n",
    "1. Click the green “Use this template” button from [this GitHub repository](https://github.com/ttimbers/r-cube) to obtain a copy of it for yourself (do not fork it).\n",
    "\n",
    "2. Clone this repository to your computer.\n",
    "\n",
    "3. Create a remote branch named `make-conflict` (this will use GitHub Actions to create a commit in your remote repository).\n",
    "\n",
    "4. Fix the second line in `cube.r` so that it calculates the cube, not the square (e.g., change `x^2` to `x^3`). Commit your changes to version control via Git and push your changes to GitHub.\n",
    "\n",
    "5. Resolve the merge conflict them so that you can see your changes on GitHub.\n",
    "\n",
    "\n",
    "#### Resolving merge conflicts in a more complex text file:\n",
    "\n",
    "**Steps:**\n",
    "\n",
    "1. Click the green “Use this template” button from [this GitHub repository](https://github.com/ttimbers/r-cube-notebook) to obtain a copy of it for yourself (do not fork it).\n",
    "\n",
    "2. Clone this repository to your computer.\n",
    "\n",
    "3. Create a remote branch named `make-conflict` (this will use GitHub Actions to create a commit in your remote repository).\n",
    "\n",
    "4. Fix the second line in the code cell in `cube.ipynb` so that it calculates the cube, not the square (e.g., change `x^2` to `x^3`). Commit your changes to version control via Git and push your changes to GitHub.\n",
    "\n",
    "5. Resolve the merge conflict them so that you can see your changes on GitHub."
   ]
  },
  {
   "cell_type": "markdown",
   "id": "1ee35a50-4096-40b0-a34f-f8444eb722d0",
   "metadata": {},
   "source": [
    "## Going back in time!\n",
    "\n",
    "### Just going for a look:\n",
    "\n",
    "The easiest way to go back in time in your version control repository is to use the GitHub.com website. To do this, we click the commits link:\n",
    "\n",
    "<img src=\"img/releases.png\" width=800>\n",
    "\n",
    "Then we can view the history, along with the commit messages. To view the state of a repository at that time, we click on the \"**<>**\" button:\n",
    "\n",
    "<img src=\"img/commits_eg.png\" width=800>"
   ]
  },
  {
   "cell_type": "markdown",
   "id": "b61a1c69-f182-4637-8146-3a57bd272b43",
   "metadata": {},
   "source": [
    "### Travelling in time or bringing something something from the back from the past:\n",
    "\n",
    "Sometimes you want to be able to explore and run the files from the past, or bring a past version of a file to the future. When we need to do either of those things, we should be working with Git in our local repository. "
   ]
  },
  {
   "cell_type": "markdown",
   "id": "740e00da-c71f-4143-9deb-79914f07f325",
   "metadata": {},
   "source": [
    "Here's the same history as viewed above, but using the JupyterLab Git extension:\n",
    "\n",
    "<img src=\"img/jupyter-git-history.png\" width=800>"
   ]
  },
  {
   "cell_type": "markdown",
   "id": "e14b9a48-f741-4ddd-80b7-5ed06a769340",
   "metadata": {
    "tags": []
   },
   "source": [
    "To see what was changed at a given point in history, click the down arrow associated with the commit. You can then diff the file (see what was changed for a particular file by clicking the file icon beside it.\n",
    "\n",
    "<img src=\"img/jupyter-view-changes.png\">"
   ]
  },
  {
   "cell_type": "markdown",
   "id": "de9a660d-f77d-414f-a180-be93fcb7e953",
   "metadata": {},
   "source": [
    "#### Travelling in time to the past\n",
    "\n",
    "If you wanted to move your project's file and directories (so entire state) back to this point in time you can do that by clicking the clock icon. **NOTE: If you do this, be sure you pushed your changes, as it will discard anything more recent than this commit on your local computer (i.e., this is a hard reset).**\n",
    "\n",
    "<img src=\"img/jupyter-hard-reset.png\" width=500>\n",
    "\n",
    "Again, because this is a hard reset, Git will warn you about the consequences:\n",
    "\n",
    "<img src=\"img/jupyter-hard-reset-warning.png\" width=500>\n",
    "\n",
    "Once, you have done this, you will see the more recent commits in your history are GONE!\n",
    "\n",
    "<img src=\"img/jupyter-after-hard-reset.png\" width=500>"
   ]
  },
  {
   "cell_type": "markdown",
   "id": "971f28ee-7020-4969-bf2d-67b099f335f0",
   "metadata": {},
   "source": [
    "#### Exercise:\n",
    "\n",
    "1. Clone [this GitHub repository](https://github.com/ttimbers/data_analysis_pipeline_eg) to your computer.\n",
    "\n",
    "2. View the names of the files that were changed in commit `44c17be`, and the specific changes made to the file `doc/count_report.Rmd`.\n",
    "\n",
    "3. Do a hard reset to the state of the repository as it was in commit `44c17be`.\n",
    "\n",
    "4. Then pull the Git remote repository to go back to where you started.\n",
    "\n",
    "*Question - could you have gone back to where you started if the work was not stored in the remote repository?*\n"
   ]
  },
  {
   "cell_type": "markdown",
   "id": "3aaada89-4578-416b-a6d1-3e25249bf13a",
   "metadata": {},
   "source": [
    "#### Bringing something something from the back from the past\n",
    "\n",
    "There is not a nice and easy way (that I am aware of) of cherry-picking a version of single file from the past using the JupyterLab Git extension. To do this, I resort to the Git command line tool in the terminal. The general command is:\n",
    "\n",
    "```\n",
    "git checkout <HASH> <FILE>\n",
    "```\n",
    "\n",
    "For example, to checkout the version of the `doc/count_report.Rmd` from the commit whose hash starts with `5837143`, we would type: \n",
    "\n",
    "```\n",
    "git checkout 5837143 doc/count_report.Rmd\n",
    "```\n",
    "\n",
    "That will bring that version of the `doc/count_report.Rmd` into our working directory. We can view it, run it or use it, et cetera. If we want to keep that version going forward for our project, we would have to then add and commit that version of the file to do so.\n",
    "\n",
    "> ##### What Git tool to use?\n",
    ">\n",
    "> There are many many many different tools for using Git. We have so far discussed two in this class (the JupyterLab Git extension,\n",
    "> and the Git command line). Others include GitHub Desktop, GitKraken, Source Tree, RStudio's Git GUI, and VSCode's Git GUI.\n",
    "> Which one should you use? Anyone that fits you best! I recommend experimenting with a few and then settling in with the one\n",
    "> that you find easiest to use. One note is that some commands are limited in some tools (e.g., the example above with the\n",
    "> JupyterLab Git extension). If you hit that case in your favorite tool, you can use the Git command line tool to get around it\n",
    "> and then go back to primarily using your tool of choice."
   ]
  },
  {
   "cell_type": "markdown",
   "id": "bdbc3aa8-c6e8-4be5-95f4-a02e2a630352",
   "metadata": {},
   "source": [
    "## Git Branches\n",
    "\n",
    "Branches allow you to have a playground \n",
    "for developing and testing new additions to your code,\n",
    "as well as fixes.\n",
    "This playground lets your explore, experiment and test \n",
    "in a safe place - away from others that might be using \n",
    "or depending on the current version of your code.\n",
    "This is perhaps more obviously useful if your project\n",
    "is deployed and has users (e.g., a data visualization dashboard, \n",
    "an R or Python package, a phone app, etc),\n",
    "but this can also be useful for code that make up a data analyses.\n",
    "As, in addition to the reasons stated above for branching,\n",
    "branching also lets you organize units of work into smaller, \n",
    "more manageable chunks that are easier for collaborators to check over and review.\n",
    "\n",
    "Once the new code additions or fixes have been \n",
    "finalized in their branch playground,\n",
    "they can be merged back to the main code-base.\n",
    "Several branch playgrounds can co-exist, \n",
    "one for each new code addition or fix being worked on.\n",
    "This allows for parallelization of work!\n",
    "\n",
    "We can use a construction of a house\n",
    "as a metaphor for this kind of development.\n",
    "First,\n",
    "you need to build the foundation.\n",
    "Since everything depends on the foundation being built,\n",
    "this would be developed on the main branch.\n",
    "When the foundation is finished,\n",
    "the construction of other parts of the house that don't depend on each other\n",
    "could take place in parallel,\n",
    "e.g. some contributors might start working on the walls and others on the floor.\n",
    "When either of these features is finished, \n",
    "it can be added back to the house\n",
    "(merged into main).\n",
    "When depicted graphically,\n",
    "this process would look something like this\n",
    "(each dot is a commit).\n",
    "\n",
    "<img src=\"img/branches-house-analogy.png\" width=400>"
   ]
  },
  {
   "cell_type": "markdown",
   "id": "85ba904a-a7ee-46c6-9e90-44ef87e7b538",
   "metadata": {},
   "source": [
    "A more realistic Git branching example for a data analysis project might look something like this:\n",
    "\n",
    "<img src=\"img/git-branch-diagrams.png\" width=400>"
   ]
  },
  {
   "cell_type": "markdown",
   "id": "0b5e2ca1-df43-4ff8-afb4-832806094db9",
   "metadata": {},
   "source": [
    "### Creating a branch\n",
    "\n",
    "Using the JupyterLab Git extension, you create a new branch on your local computer by clicking on the up arrow in the \"Current Branch\" tab, and clicking the blue \"New Branch\" button.\n",
    "\n",
    "<img src=\"img/create-new-branch.png\" width=500>\n",
    "\n",
    "A dialogue box will open, and ask you to name the branch. After you do this, click on the blue \"Create Branch\" button. Remember to name it after the work you plan to do. Here we plan to fix the documentation a bit, so we will call it `patch-docs`.\n",
    "\n",
    "<img src=\"img/name-new-branch.png\" width=300>\n",
    "\n",
    "To finally switch to the new playground (i.e., your new branch) click on the branch name of the new branch you just created in the Branches section of the \"Current Branch\" tab.\n",
    "\n",
    "<img src=\"img/switch-to-new-branch.png\" width=500>\n",
    "\n",
    "As you work here, you can commit your changes to version control locally, and even push your changes to the remote repository. All the changes however will live only on that branch until you do something to move them to another branch. When you want to start discussing your changes with your collaborators to start the process of bringing these changes into the main branch (main code-base) you typically create what is called a pull request. A pull request is a like an asking your collaborators \"is it OK to merge my code?\" Usually there will be some discussion and a few more revisions to the code, but eventually they will give you the thumbs up when everything looks good and the code can then be merged. We will discuss this more next."
   ]
  },
  {
   "cell_type": "markdown",
   "id": "f54464b9-be39-4866-bc25-ccecb40ffbd1",
   "metadata": {},
   "source": [
    "#### Exercise\n",
    "\n",
    "1. Make your own copy of [this GitHub repository](https://github.com/ttimbers/sqrt) by clicking the green \"Use this template\" button.\n",
    "\n",
    "2. Create a new branch named `better_error_msg` in the local repository using the JupyterLab Git extension.\n",
    "\n",
    "3. On that branch, fix the `sqrt.py` so that if you run this script with a negative number as an argument you do not get an difficult to understand error, but instead throw a helpful exception informing the user that the number should be positive. Fix to add to `sqrt.py`:\n",
    "  \n",
    "  ```\n",
    "  if number < 0:\n",
    "    raise Exception(\"n should not a positive number\")\n",
    "  ```\n",
    "\n",
    "4. Switch back to the `main` branch and look at the `README.md` file - do you see the change there?\n",
    "\n",
    "5. Switch back to the `better_error_msg` branch - do you see the change there?\n",
    "\n",
    "6. Push your change to the remote GitHub repository, and see where you can find it there!"
   ]
  },
  {
   "cell_type": "markdown",
   "id": "6977a11c-a4a0-421e-883e-607ef1c1d626",
   "metadata": {},
   "source": [
    "## Creating a pull request\n",
    "\n",
    "To create a pull request,\n",
    "go to the remote GitHub repository,\n",
    "and usually GitHub will should show you a yellow banner listing any recently pushed branches.\n",
    "\n",
    "<img src=\"img/create-pr.png\" width=700>\n",
    "\n",
    "To create a pull request,\n",
    "you click the green button \"Compare & pull request\".\n",
    "In the new page,\n",
    "add a message to describe the changes you have made,\n",
    "scroll down to review the changed files,\n",
    "and the click the green button that reads \"Create pull request\".\n",
    "If you are working together in a team,\n",
    "you could also designate certain team members to review your work\n",
    "and assign relevant labels,\n",
    "via the right hand side panel.\n",
    "\n",
    "The next step is for a collaborator to review your work\n",
    "and merge it in if they approve it."
   ]
  },
  {
   "cell_type": "markdown",
   "id": "8ff43bfd-1b65-4f21-a309-c73016f2ed36",
   "metadata": {},
   "source": [
    "#### Exercise\n",
    "\n",
    "1. Use the green \"Compare & pull request\" button on the yellow banner to open a pull request.\n",
    "\n",
    "2. Go to the \"Pull requests\" tab on the remote GitHub repository and explore the \"Conversation\" and \"Files changed\" sub-tabs there."
   ]
  },
  {
   "cell_type": "markdown",
   "id": "fb55911b-fc53-456c-b14a-ecef79b322be",
   "metadata": {
    "slideshow": {
     "slide_type": "slide"
    }
   },
   "source": [
    "## Code reviews using in-line comments and suggested code fixes\n",
    "\n",
    "- In the project, you are expected to read and review eachother's code BEFORE accepting a pull request. \n",
    "\n",
    "- Do not expect all (or even most) pull requests to be perfect in their first submission. \n",
    "\n",
    "- We very often need to have a conversation to get pull requests into good shape before merging into master, and GitHub has a very nice tool we can utilize to do this: **GitHub code reviews**\n",
    "\n",
    "\n",
    "<img src =\"https://help.github.com/assets/images/help/commits/hover-comment-icon.gif\" width=700>\n",
    "\n",
    "*Source: <https://help.github.com/en/github/collaborating-with-issues-and-pull-requests/reviewing-proposed-changes-in-a-pull-request>*"
   ]
  },
  {
   "cell_type": "markdown",
   "id": "cb88667d-8e9c-489e-a5cc-0a0bb5933a89",
   "metadata": {
    "slideshow": {
     "slide_type": "slide"
    }
   },
   "source": [
    "### Demo: do a code review:\n",
    "\n",
    "I am going to demo a code review of a pull request. I have set-up a template GitHub repository for you so that you can easily generate a pull request for you to review if you want to try this later.\n",
    "\n",
    "#### Steps:\n",
    "\n",
    "1. Click the green \"Use this template\" button in [this repository](https://github.com/ttimbers/review-my-pull-request) to obtain a copy of it for yourself (do not fork it).\n",
    "\n",
    "2. Create a remote branch named `pr` (this will use GitHub Actions to create a pull request for you to review in this repository).\n",
    "\n",
    "3. Click on the Pull Requests tab of your copy of the repository, click on the pull request titled \"Report most accomplished pilots\", and then click on \"Files Changed\". Next click on the `star-wars.Rmd` file. Review the file and observe the following problems with the R Markdown report that was submitted via the pull request:\n",
    "  - Reasoning of the sentence on line 15\n",
    "  - Incompatibility with the sentence on line 15 with the code in the code chunk named `table-of-most-accomplished-pilots`\n",
    "  - Incorrect code in code chunk named `table-of-most-accomplished-pilots` (unested `film` instead of `starships`) leads to naming the wrong pilot as the most accomplished pilot on line 19\n",
    "  - Incorrect code in code chunk named `table-of-most-accomplished-pilots` (unested `film` instead of `starships`) leads to the use of the wrong character's picture in the image that is sourced in the code chunk named `top-pilot` (it should be a picture of Obi-Wan Kenobi, you could use this URL for example: <https://hips.hearstapps.com/hmg-prod.s3.amazonaws.com/images/ewan-mcgregor-obi-wan-1570898048.jpg>).\n",
    "\n",
    "4. Add comments and suggested changes using the `+` sign beside the line numbers (the first time you do this will trigger the start of your code review. Need help? See [GitHub's how to on reviewing proposed changes in a pull request](https://help.github.com/en/github/collaborating-with-issues-and-pull-requests/reviewing-proposed-changes-in-a-pull-request).\n",
    "\n",
    "5. After you have made all the comments and suggested changes, then add a general comment for the code review, select \"Request Changes\" and submit your code review.\n",
    "\n"
   ]
  },
  {
   "cell_type": "markdown",
   "id": "88f4feaa-7826-40ac-9283-72d115982a31",
   "metadata": {
    "slideshow": {
     "slide_type": "slide"
    }
   },
   "source": [
    "### Demo: Accept suggested changes from a code review:\n",
    "\n",
    "#### Steps:\n",
    "\n",
    "1. To accept the code changes that you provided as suggestions, revisit the Pull Requests tab of your copy of the repository and clicking on the pull request titled \"Report most accomplished pilots\". Scroll through the pull request comments and find the code suggestions. Then click on the \"Commit suggestion button\" for each suggestion. \n",
    "\n",
    "2. Click on the \"Show all reviewers\" link beside the red \"Changes requested\"\" text. Then click on the `...` beside the reviewer and click \"Approve changes\".\n",
    "\n",
    "3. Finally click on the green buttons (\"Merge Pull Request\" & \"Confirm merge\") to merge the pull request."
   ]
  },
  {
   "cell_type": "markdown",
   "id": "3ea37cbd-4595-441f-aba7-3eb7997b6756",
   "metadata": {
    "slideshow": {
     "slide_type": "slide"
    }
   },
   "source": [
    "### Discussion: \n",
    "\n",
    "Could I have done the entire code review well by just reviewing it on GitHub?"
   ]
  },
  {
   "cell_type": "markdown",
   "id": "954c456d-1b88-429f-a704-e6cfa77a0fe7",
   "metadata": {
    "slideshow": {
     "slide_type": "fragment"
    }
   },
   "source": [
    "*Hint: if I didn't tell you that the top pilot was Obi-Wan Kenobi, how would you have known that?*"
   ]
  },
  {
   "cell_type": "markdown",
   "id": "74435ee5-0688-4e24-830f-7e907a064aa5",
   "metadata": {
    "slideshow": {
     "slide_type": "slide"
    }
   },
   "source": [
    "> ### Useful command line Git branching commands\n",
    "> \n",
    "> | Description | Command |\n",
    "> |---------|-------------|\n",
    "> | list all local branches | `git branch -v` |\n",
    "> | create a new branch & immediately switch to it | `git switch -c <branch_name>` or `git checkout -b <branch_name>` |\n",
    "> | switch to a branch | `git switch <branch_name>` or `git checkout  <branch_name>` |\n",
    "> | fetches all changes to all branches | `git fetch --all` |\n",
    "> | retrieve a branch you don't have locally on your laptop from GitHub| `git checkout --track origin/<branch_name` |\n",
    "> | merge changes from another branch | `git merge <branch_name>` |\n",
    "> | delete a local branch | `git branch -d <branch_name>` |\n",
    "> | push changes to a remote branch | `git push origin <branch_name>` |"
   ]
  },
  {
   "cell_type": "markdown",
   "id": "fb207214-ac91-4241-a849-9b4bf1e80bf0",
   "metadata": {
    "slideshow": {
     "slide_type": "slide"
    }
   },
   "source": [
    "### Useful things you can do with branches on GitHub\n",
    "\n",
    "Create a new branch:\n",
    "\n",
    "<img src=\"img/create_branch.png\" width=600>\n",
    "\n",
    "Source: <https://github.com/UBC-DSCI/introduction-to-datascience>"
   ]
  },
  {
   "cell_type": "markdown",
   "id": "7d6c8101-f9f7-4fcd-bc30-65df46d0bf64",
   "metadata": {
    "slideshow": {
     "slide_type": "slide"
    }
   },
   "source": [
    "View all branches and their status:\n",
    "\n",
    "<img src=\"img/view_branches.png\" width=600>\n",
    "\n",
    "Source: <https://github.com/UBC-DSCI/introduction-to-datascience>"
   ]
  },
  {
   "cell_type": "markdown",
   "id": "c683f6ff-d1c9-4459-8afb-c06268fb335b",
   "metadata": {
    "slideshow": {
     "slide_type": "slide"
    }
   },
   "source": [
    "And delete remote branches:\n",
    "\n",
    "<img src=\"img/delete_branches.png\" width=600>\n",
    "\n",
    "Source: <https://github.com/UBC-DSCI/introduction-to-datascience/branches>"
   ]
  },
  {
   "cell_type": "markdown",
   "id": "2ced7e4b-7fcc-4916-844a-6936d131b647",
   "metadata": {
    "slideshow": {
     "slide_type": "notes"
    },
    "tags": []
   },
   "source": [
    "### How do you not accept a pull request?\n",
    "\n",
    "In some cases, it might not make sense to merge a pull request. To close a pull request that should not be merged, scroll to the bottom of the pull request page, and look for a gray \"Closes pull request\" button. This will end move the pull request to the closed pull requests section (similar to closed issues) and does not merge the changes. \n",
    "\n",
    "<img src=\"img/close-pr.png\" width=500>"
   ]
  },
  {
   "cell_type": "markdown",
   "id": "3f6a2cd9-aad4-4208-8b28-0d1998b0edd5",
   "metadata": {
    "slideshow": {
     "slide_type": "slide"
    },
    "tags": []
   },
   "source": [
    "## Project boards\n",
    "\n",
    "Example of a physical [Kanban board](https://en.wikipedia.org/wiki/Kanban_board):\n",
    "\n",
    "<img src=\"https://miro.medium.com/max/1300/1*9xfpL1ercY-JA7BzEiLpjA.jpeg\" width=500>\n",
    "\n",
    "Source: <https://medium.com/@mli/lets-get-physical-task-boards-f9d08383e667>"
   ]
  },
  {
   "cell_type": "markdown",
   "id": "5f55064f-9d2b-46c9-8c30-71041cbe1f79",
   "metadata": {
    "slideshow": {
     "slide_type": "slide"
    }
   },
   "source": [
    "Example of a digital project board from GitHub:\n",
    "\n",
    "Reading: [About project boards - GitHub Help](https://help.github.com/en/github/managing-your-work-on-github/about-project-boards)\n",
    "\n",
    "<img src=\"img/github_kanban.png\" width=800>\n",
    "\n",
    "Source: <https://github.com/CodeDoesGood/org-website/projects/1>\n"
   ]
  },
  {
   "cell_type": "markdown",
   "id": "92dc4f8a-d730-4f0e-b9bd-e70c8208a2c8",
   "metadata": {
    "slideshow": {
     "slide_type": "slide"
    }
   },
   "source": [
    "### Why use project boards for collaborative software projects?\n",
    "\n",
    "- **Transparency:** everyone knows what everyone is doing\n",
    "\n",
    "- **Motivation:** emphasis on task completion\n",
    "\n",
    "- **Flexibility:** board columns and tasks are customized to each project"
   ]
  },
  {
   "cell_type": "markdown",
   "id": "8c1bad45-0eba-422d-86cd-f98f6609e365",
   "metadata": {
    "slideshow": {
     "slide_type": ""
    }
   },
   "source": [
    "### Exercise: Getting to know GitHub project boards\n",
    "\n",
    "We are going to each create our own project board for our MDS homework. I have set-up a template GitHub repository for you so that you can easily populate it with relevant issues for your homework this block. You will use these issues to create your MDS homework project board.\n",
    "\n",
    "#### Steps:\n",
    "\n",
    "1. Click the green \"**Use this template**\" button from [this GitHub repository](https://github.com/UBC-DSCI/dsci-310-homework) to obtain a copy of it for yourself (do not fork it).\n",
    "\n",
    "2. Using the GitHub webpage, make a new branch called `create` in your copy of that repository (this will generate the issues for you).\n",
    "\n",
    "3. Click on the Projects tab, and then click \"Create a project\". Give it a name, and select \"Basic kanban\" as the template option.\n",
    "\n",
    "4. Use the issues in the repo to set-up a project board for the next two weeks (or more) of your DSCI 310 homework. For each issue you add to the project, assign it to yourself and add a label of \"group-work\" or \"individual-work\".\n",
    "\n",
    "Additional Resources:\n",
    "- [Assigning issues and pull requests to other GitHub users](https://help.github.com/en/github/managing-your-work-on-github/assigning-issues-and-pull-requests-to-other-github-users)\n",
    "- [Applying labels to issues and pull requests](https://help.github.com/en/github/managing-your-work-on-github/applying-labels-to-issues-and-pull-requests)"
   ]
  },
  {
   "cell_type": "markdown",
   "id": "85663dbf-23f8-47fe-9813-725d0e31a382",
   "metadata": {
    "slideshow": {
     "slide_type": "slide"
    }
   },
   "source": [
    "### Relevance to course project:\n",
    "\n",
    "- You will be expected to create a project board for each of your groups projects and update it each milestone (at a minimum)\n",
    "\n",
    "- We expect that each issue should have at least one person assigned to it"
   ]
  },
  {
   "cell_type": "markdown",
   "id": "883a2b76-621d-41c1-ae89-9eca4b284ef7",
   "metadata": {
    "slideshow": {
     "slide_type": "slide"
    }
   },
   "source": [
    "## Milestones\n",
    "\n",
    "- Group related issues together that are needed to hit a given target (e.g., new release version of a software package)\n",
    "\n",
    "- Can assign a due date to a milestone\n",
    "\n",
    "- From the milestone page you can see list of statistics that are relevant to each milestone set in that repository\n",
    "\n",
    "Reading: [About milestones - GitHub Help](https://help.github.com/en/github/managing-your-work-on-github/about-milestones) "
   ]
  },
  {
   "cell_type": "markdown",
   "id": "502966bc-d165-4c85-a49a-f2fc00ce0674",
   "metadata": {
    "slideshow": {
     "slide_type": "slide"
    }
   },
   "source": [
    "Example of the `readr` package milestones:\n",
    "\n",
    "<img src=\"img/readr-milestones.png\" width=600>\n",
    "\n",
    "Source: https://github.com/tidyverse/readr/milestones"
   ]
  },
  {
   "cell_type": "markdown",
   "id": "bd493185-a5b7-424d-b5fe-9c15d2b115a2",
   "metadata": {
    "slideshow": {
     "slide_type": "slide"
    }
   },
   "source": [
    "### Exercise: Getting to know GitHub milestones\n",
    "\n",
    "We are going to practice creating milestones and associating issues with them. To do this we will continue working with the same repository that you just created a project board for.\n",
    "\n",
    "#### Steps:\n",
    "\n",
    "1. Click on the Issues tab, and then click on \"Milestones\". \n",
    "\n",
    "2. Click \"New milestone\" and name it \"month 1\" and set the due date to be the end of January. Click \"Create milestone\".\n",
    "\n",
    "3. Go to the Issues tab, and for each issue that should be associated with the month 1 milestone (i.e., things due before the end of January), click on their checkbox. Then click \"Milestone\" and select \"month 1\"\n",
    "\n",
    "4. Once you are done, go back to the Milestones page to view what the month 1 milestone looks like.\n",
    "\n",
    "5. If you finish early, do this for  month 2."
   ]
  },
  {
   "cell_type": "markdown",
   "id": "a0d89453-8c1b-4cf7-a706-53011b4f50da",
   "metadata": {
    "slideshow": {
     "slide_type": "slide"
    }
   },
   "source": [
    "### Relevance to course project:\n",
    "\n",
    "- You will be expected to create a milestone on each of your project repositories for each course assigned milestone. You must link the relevant issues needed to complete that milestone to it on GitHub."
   ]
  },
  {
   "cell_type": "markdown",
   "id": "b7e41a78-57cc-4953-a66b-dd04321c7999",
   "metadata": {
    "slideshow": {
     "slide_type": "slide"
    }
   },
   "source": [
    "### Relevance to course project:\n",
    "\n",
    "- You will be expected to work using a branch & pull-request workflow in your project repositories for this course."
   ]
  },
  {
   "cell_type": "markdown",
   "id": "28212c7e-4885-4678-89de-6a1142a0d305",
   "metadata": {
    "slideshow": {
     "slide_type": "slide"
    }
   },
   "source": [
    "## Git and GitHub flow"
   ]
  },
  {
   "cell_type": "markdown",
   "id": "2f3cef52-3447-4dba-972e-2cae860f0e52",
   "metadata": {
    "slideshow": {
     "slide_type": "slide"
    }
   },
   "source": [
    "Branching generally works well if a team agrees to and follows a consistent workflow. The two leading workflows used in industry are Git flow and GitHub flow. We will describe and discuss both here so you are aware of both, and we will employ GitHub flow in our projects for this course. "
   ]
  },
  {
   "cell_type": "markdown",
   "id": "df34860c-3126-4425-944a-902dba805dab",
   "metadata": {
    "slideshow": {
     "slide_type": "slide"
    }
   },
   "source": [
    "### GitHub Flow"
   ]
  },
  {
   "cell_type": "markdown",
   "id": "7f48fdf7-226c-40aa-91d8-17bfad7c01ae",
   "metadata": {
    "slideshow": {
     "slide_type": "slide"
    }
   },
   "source": [
    "Key features:\n",
    "- **A single** \"main\" branch that also serves as the deployment branch, we call this main.\n",
    "- Every new contribution is done on a new branch (with a meaningful name) created from main.\n",
    "- Contributions from that new branch are sent back to main by means of a pull request, which ideally is reviewd & tested before merging.\n",
    "\n",
    "(note: at the time this figure was made, the default branch on GitHub as still called the master branch)\n",
    "\n",
    "<img src=\"https://files.programster.org/tutorials/git/flows/github-flow.png\" width=600>\n",
    "\n",
    "Source: https://blog.programster.org/git-workflows"
   ]
  },
  {
   "cell_type": "markdown",
   "id": "3d7911b6-fbb8-4bb9-87ac-a783b2c197e9",
   "metadata": {
    "slideshow": {
     "slide_type": "slide"
    }
   },
   "source": [
    "### Git Flow\n",
    "\n",
    "Key features:\n",
    "- **Two** \"main\" branches that last forever, main for deployment and develop where things are tested before they are released to main.\n",
    "- Three supporting branches: feature, release & hotfix. Both feature & release branches are created from develop. feature branches should be merged into develop before they are incorporated into a release. release branches eventually get merged into main after adequate review and testing.\n",
    "\n",
    "(note: at the time this figure was made, the default branch on GitHub as still called the master branch)\n",
    "\n",
    "<img src=\"https://files.programster.org/tutorials/git/flows/git-flow.png\" width=600>\n",
    "\n",
    "Source: https://blog.programster.org/git-workflows"
   ]
  },
  {
   "cell_type": "markdown",
   "id": "b29e3a3f-bfd5-449c-b680-d1c6e032624a",
   "metadata": {
    "slideshow": {
     "slide_type": "slide"
    }
   },
   "source": [
    "### Discuss:\n",
    "\n",
    "What do you think are pros & cons of each of these branching workflows?"
   ]
  },
  {
   "cell_type": "markdown",
   "id": "2a151b04-57eb-4057-a859-48aec4d10b66",
   "metadata": {
    "slideshow": {
     "slide_type": "slide"
    }
   },
   "source": [
    "### Relevance to course project:\n",
    "\n",
    "- You will be expected to work using the GitHub flow workflow for your projects in this course. "
   ]
  },
  {
   "cell_type": "markdown",
   "id": "34da0935-c8ea-4333-aaa6-fd4b8b841bfa",
   "metadata": {
    "slideshow": {
     "slide_type": "slide"
    },
    "tags": []
   },
   "source": [
    "### What happens when my feature branch falls behind main?\n",
    "\n",
    "> How to catch up a branch that has fallen behind the `main` branch using the command line:\n",
    "> \n",
    "> - run `git pull origin main` to pull any changes from the remote version of main that we might not have\n",
    "> - run `git switch <branch>` to make sure we are on the branch we want to catch up\n",
    "> - run `git merge main` to merge the changes\n",
    "> - run `git push origin <branch>` to push our updated branch to the remote"
   ]
  },
  {
   "cell_type": "markdown",
   "id": "52584de5-1395-4424-8a4d-3e0b14355e5c",
   "metadata": {},
   "source": [
    "## Next week: \n",
    "\n",
    "- file and directory structure for data analysis projects\n",
    "- integrated development environments for data science"
   ]
  }
 ],
 "metadata": {
  "kernelspec": {
   "display_name": "Python 3 (ipykernel)",
   "language": "python",
   "name": "python3"
  },
  "language_info": {
   "codemirror_mode": {
    "name": "ipython",
    "version": 3
   },
   "file_extension": ".py",
   "mimetype": "text/x-python",
   "name": "python",
   "nbconvert_exporter": "python",
   "pygments_lexer": "ipython3",
   "version": "3.9.9"
  }
 },
 "nbformat": 4,
 "nbformat_minor": 5
}
