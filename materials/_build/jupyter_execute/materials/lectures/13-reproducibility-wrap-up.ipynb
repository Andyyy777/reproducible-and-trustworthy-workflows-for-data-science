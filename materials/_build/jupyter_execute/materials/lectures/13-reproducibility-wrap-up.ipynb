{
 "cells": [
  {
   "cell_type": "markdown",
   "id": "f78e584c-c589-47a3-98c5-7873efda93ca",
   "metadata": {},
   "source": [
    "# Workflows for reproducibile and trustworthy data science wrap-up\n",
    "\n",
    "This topic serves as a wrap-up of the course, summarizing the course learning objectives, redefining what is meant by reproducible and trustworthy data science, as well as contains data analysis project critique exercises to reinforce what has been learned in the course.\n",
    "\n",
    "## Course learning objectives\n",
    "\n",
    "By the end of this course, students should be able to:\n",
    "\n",
    "- Defend and justify the importance of creating data science workflows that are\n",
    "reproducible and trustworthy and the elements that go into such a workflow (e.g.,\n",
    "writing clear, robust, accurate and reproducible code, managing and sharing compute\n",
    "environments, defined collaboration strategies, etc).\n",
    "- Constructively criticize the workflows and data analysis of others in regards to its\n",
    "reproducibility and trustworthiness.\n",
    "- Develop a data science project (including code and non-code documents such as\n",
    "reports) that uses reproducible and trustworthy workflows\n",
    "- Demonstrate how to effectively share and collaborate on data science projects and\n",
    "software by creating robust code packages, using reproducible compute environments,\n",
    "and leveraging collaborative development tools.\n",
    "- Defend and justify the benefit of, and employ automated testing regimes, continuous\n",
    "integration and continuous deployment for managing and maintaining data science\n",
    "projects and packages.\n",
    "- Demonstrate strong communication, teamwork, and collaborative skills by working on\n",
    "a significant data science project with peers throughout the course."
   ]
  },
  {
   "cell_type": "markdown",
   "id": "ae3b6c41-8905-4815-ae59-e1dcbedbff2c",
   "metadata": {},
   "source": [
    "## Definitions review:\n",
    "\n",
    "### Data science\n",
    "\n",
    "*the study, development and practice of __reproducible and auditable processes__ to obtain __insight from data.__*\n",
    "\n",
    "From this definition, we must also define reproducible and auditable analysis:\n",
    "\n",
    "### Reproducible analysis:\n",
    "*reaching the same result given the same input, computational methods and conditions $^1$.*\n",
    "\n",
    "- input = data\n",
    "- computational methods = computer code\n",
    "- conditions = computational environment (e.g., programming language & it's dependencies)\n",
    "\n",
    "### Auditable/transparent analysis,\n",
    "*a readable record of the steps used to carry out the analysis as well as a record of how the analysis methods evolved $^2$.*\n",
    "\n",
    "1. [National Academies of Sciences, 2019](https://www.nap.edu/catalog/25303/reproducibility-and-replicability-in-science)\n",
    "2. [Parker, 2017](https://peerj.com/preprints/3210/) and [Ram, 2013](https://scfbm.biomedcentral.com/articles/10.1186/1751-0473-8-7)"
   ]
  },
  {
   "cell_type": "markdown",
   "id": "1f040753-88b6-4bff-93a0-63e90257bf7f",
   "metadata": {},
   "source": [
    "## What makes trustworthy data science?\n",
    "\n",
    "Some possible criteria:\n",
    "\n",
    "1. It should be reproducible and auditable\n",
    "\n",
    "2. It should be correct \n",
    "\n",
    "3. It should be fair, equitable and honest\n",
    "\n",
    "There are many ways a data science can be untrustworthy... In this course we will focus on workflows that can help build trust. I highly recommend taking a course in data science ethics* to help round out your education in how to do this. Further training in statistics and machine learning will also help with making sure your analysis is correct.\n",
    "\n",
    ">*\\* UBC's CPSC 430 (Computers and Society) will have a section reserved for DSCI minor students next year in 2022 T1, which will focus on ethics in data science.*"
   ]
  },
  {
   "cell_type": "markdown",
   "id": "830c90c7-4dec-4e09-9eb0-dac809bcbdc2",
   "metadata": {
    "jp-MarkdownHeadingCollapsed": true,
    "tags": []
   },
   "source": [
    "#### Exercise\n",
    "\n",
    "Answer the questions below to more concretely connect with the criteria suggested above.\n",
    "\n",
    "1. Give an example of a data science workflow that affords reproducibility, and one that affords auditable analysis.\n",
    "\n",
    "2. Can a data analysis be reproducible but not auditable? How about auditable, but not reproducible?\n",
    "\n",
    "3. Name at least two ways that a data analysis project could be correct (or incorrect)."
   ]
  },
  {
   "cell_type": "markdown",
   "id": "0ae9aecc-4fde-4854-ac28-be0ca2690407",
   "metadata": {},
   "source": [
    "## Critiquing data analysis projects\n",
    "\n",
    "Critiquing is defined as evaluating something in a detailed and analytical way \n",
    "(source: [Oxford Languages Dictionary](https://languages.oup.com/dictionaries/)).\n",
    "It is used in many domains as a means to improve something (related to peer review),\n",
    "but also serves as an excellent pedagogical tool to actively practice evaluation.\n",
    "\n",
    "We will work together in class to critique the following projects from the lens of reproducible and trustworthy workflows:\n",
    "\n",
    "- [Genomic data and code](https://github.com/ttimbers/Million-Mutation-Project-dye-filling-SKAT) to accompany the \"Accelerating Gene Discovery by Phenotyping Whole-Genome Sequenced Multi-mutation Strains and Using the Sequence Kernel Association Test (SKAT)\" manuscript by [Timbers et al., PLoS Genetics, 2015](https://journals.plos.org/plosgenetics/article?id=10.1371/journal.pgen.1006235)\n",
    "\n",
    "- [Data and code](https://github.com/jasonpriem/plos_altmetrics_study) to accompany the \"Altmetrics in the wild: Using social media to explore scholarly impact\" manuscript by [Priem et al., arXiv, 2021](https://arxiv.org/abs/1203.4745)\n",
    "\n",
    "- [Code](https://github.com/sacadena/Cadena2019PlosCB) to accompany the \"Deep convolutional models improve predictions of macaque V1 responses to natural images\" manuscript by [Cadena et al., PLoS Computational Biology, 2019](https://journals.plos.org/ploscompbiol/article?id=10.1371/journal.pcbi.1006897)\n"
   ]
  },
  {
   "cell_type": "markdown",
   "id": "9be68dad-68eb-47b8-aef0-67692efdc6e3",
   "metadata": {},
   "source": [
    "### Exercise\n",
    "\n",
    "When prompted for each project listed above:\n",
    "\n",
    "- In groups of ~5, take 10 minutes to review the project from the lens of reproducible and trustworthy workflows. You want to evaluate the project with the questions in mind: \n",
    "  - Would I know where to get started reproducing the project?\n",
    "  - If I could get started, do I think I could reproduce the project?\n",
    "\n",
    "\n",
    "\n",
    "- As a group, come up with at least 1-2 things that have been done well, as well as 1-2 things that could be improved\n",
    " from this lens.\n",
    "\n",
    "- Choose one person to be the reporter to bring back these critiques to the larger group."
   ]
  }
 ],
 "metadata": {
  "kernelspec": {
   "display_name": "R",
   "language": "R",
   "name": "ir"
  },
  "language_info": {
   "codemirror_mode": "r",
   "file_extension": ".r",
   "mimetype": "text/x-r-source",
   "name": "R",
   "pygments_lexer": "r",
   "version": "4.1.2"
  }
 },
 "nbformat": 4,
 "nbformat_minor": 5
}