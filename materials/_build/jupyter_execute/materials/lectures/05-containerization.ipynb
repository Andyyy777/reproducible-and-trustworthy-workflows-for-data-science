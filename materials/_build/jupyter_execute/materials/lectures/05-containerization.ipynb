{
 "cells": [
  {
   "cell_type": "markdown",
   "metadata": {
    "Collapsed": "false",
    "slideshow": {
     "slide_type": "slide"
    }
   },
   "source": [
    "# Managing dependencies using containerization"
   ]
  },
  {
   "cell_type": "markdown",
   "metadata": {
    "Collapsed": "false",
    "slideshow": {
     "slide_type": "fragment"
    }
   },
   "source": [
    "## Topic learning objectives\n",
    "\n",
    "By the end of this topic, students should be able to:\n",
    "\n",
    "1. Explain what containers are, and why they can be useful for reproducible data\n",
    "analyses\n",
    "2. Discuss the advantages and limitations of containerization (e.g., Docker) in the\n",
    "context of reproducible data analyses\n",
    "3. Compare and contrast the difference between running software/scripts in a virtual\n",
    "environment, a virtual machine and a container\n",
    "4. Evaluate, choose and justify an appropriate environment management solution based\n",
    "on the data analysis project’s complexity, expected usage and longevity.\n",
    "5. Use a containerization software (e.g., Docker) to run the software needed for your\n",
    "analysis\n",
    "6. Write a container file (e.g., Dockerfile) that can be used to reproducibly build a\n",
    "container image that would contain the needed software and environment\n",
    "dependencies of your Data Science project\n",
    "7. Use manual and automated tools (e.g., Docker, GitHub Actions) to build and share\n",
    "container images\n",
    "8. List good container base images for Data Science projects"
   ]
  },
  {
   "cell_type": "markdown",
   "metadata": {
    "Collapsed": "false",
    "slideshow": {
     "slide_type": "slide"
    }
   },
   "source": [
    "## Introduction to containerization\n",
    "\n",
    "### Documenting and loading dependencies\n",
    "\n",
    "You've made some beautiful data analysis pipeline/project using make, R, and/or Python. It runs on your machine, but how easily can you, or someone else, get it working on theirs? The answer usually is, it depends...\n",
    "\n",
    "What does it depend on?\n",
    "\n",
    "\n",
    "\n"
   ]
  },
  {
   "cell_type": "markdown",
   "metadata": {
    "Collapsed": "false",
    "slideshow": {
     "slide_type": "fragment"
    }
   },
   "source": [
    "1. Does your `README` and your scripts make it blatantly obvious what programming languages and packages need to run your data analysis pipeline/project? \n",
    "    "
   ]
  },
  {
   "cell_type": "markdown",
   "metadata": {
    "Collapsed": "false",
    "slideshow": {
     "slide_type": "fragment"
    }
   },
   "source": [
    "2. Do you also document the version numbers of the programming languages and packages you used? This can have big consequences when it comes to reproducibility... (*e.g.*,the [change to random number generation](https://blog.revolutionanalytics.com/2019/05/whats-new-in-r-360.html) in R in 2019?)\n",
    "\n",
    "3. Did you document what other software (beyond the the programming languages and packages used) and operating system dependencies are needed to run your data analysis pipeline/project?\n",
    "\n",
    "*Virtual environments can be tremendously helpful with #1 & #2, however, they may or may not be helpful to manage #3...* __*Enter containerization as a possible solution!*__"
   ]
  },
  {
   "cell_type": "markdown",
   "metadata": {
    "Collapsed": "false",
    "slideshow": {
     "slide_type": "slide"
    }
   },
   "source": [
    "### What is a container?\n",
    "\n",
    "Containers are another way to generate (and share!) isolated computational environments. They differ from virtual environments (which we discussed previously) in that they are even more isolated from the computers operating system, as well as they can be used share many other types of software, applications and operating system dependencies. \n",
    "\n",
    "Before we can fully define containers, however, we need to define **virtualization**. Virtualization is a process that allows us to divide the the elements of a single computer into several virtual elements. These elements can include computer hardware platforms, storage devices, and computer network resources, and even operating system user spaces (e.g., graphical tools, utilities, and programming languages). \n",
    "\n",
    "Containers virtualize operating system user spaces so that they can isolate the processes they contain, as well as control the processes’ access to computer resources (e.g., CPUs, memory and desk space). What this means in practice, is that an operating system user space can be carved up into multiple containers running the same, or different processes, in isolation. Below we show the schematic of a container whose virtual user space contains the:\n",
    "- R programming language, the Bioconductor package manager, and two Bioconductor packages\n",
    "- Galaxy workflow software and two toolboxes that can be used with it\n",
    "- Python programming language, iPython interpreter and Jupyter notebook package\n",
    "\n",
    "<img src=\"img/13742_2016_article_135_f7.jpeg\" width=250>\n",
    "\n",
    "**Schematic of a container for genomics research.** Source: <https://doi.org/10.1186/s13742-016-0135-4>\n",
    "\n",
    "\n",
    "#### Exercise - running a simple container\n",
    "\n",
    "To further illustrate what a container looks like, and feels like, \n",
    "we can use Docker (containerization software) to run one and explore. \n",
    "First we will run an linux (debian-flavoured) container that has R installed. \n",
    "To run this type:\n",
    "\n",
    "```\n",
    "docker run --rm -it rocker/r-ver:4.3.2\n",
    "```\n",
    "\n",
    "When you successfully launch the container, R should have started. \n",
    "Check the version of R - is it the same as your computer's version of R? \n",
    "Use `getwd()` and `list.files()` to explore the containers filesystem from R. \n",
    "Does this look like your computer's filesystem or something else?\n",
    "\n",
    "Type `q()` to quit R and exit the container.\n",
    "\n",
    "#### Exercise - running a container with RStudio as a web app\n",
    "\n",
    "Next, try to use Docker to run a container \n",
    "that contains the RStudio server web-application installed:\n",
    "\n",
    "```\n",
    "docker run --rm -p 8787:8787 -e PASSWORD=\"apassword\" rocker/rstudio:4.3.2\n",
    "```\n",
    "\n",
    "Then visit a web browser on your computer and type: <http://localhost:8787>\n",
    "\n",
    "If it worked, then you should be at an RStudio Sign In page. \n",
    "To sign in, use the following credentials:\n",
    "\n",
    "- **username:** rstudio\n",
    "- **password:** apassword\n",
    "\n",
    "The RStudio server web app being run by the container \n",
    "should look something like this: \n",
    "\n",
    "<img src=\"img/rstudio-container-web-app.png\" width=600>\n",
    "\n",
    "Type `Cntrl` + `C` in the terminal where you launched the container\n",
    "to quit R and RStudio and exit the container."
   ]
  },
  {
   "cell_type": "markdown",
   "metadata": {},
   "source": [
    "#### Exercise - running a container with Jupyter as a web app\n",
    "\n",
    "Next, try to use Docker to run a container that contains the Jupyter web-application installed:\n",
    "\n",
    "```\n",
    "docker run --rm -p 8888:8888  jupyter/minimal-notebook:notebook-7.0.6\n",
    "```\n",
    "\n",
    "In the terminal, look for a URL that starts with \n",
    "`http://127.0.0.1:8888/lab?token=` \n",
    "(for an example, see the highlighted text in the terminal below).\n",
    "Copy and paste that URL into your browser.\n",
    "\n",
    "<img src=\"img/jupyter-container-web-app-launch-url.png\" width=600>\n",
    "\n",
    "The Jupyter web-application being run by the container should look something like this: \n",
    "\n",
    "<img src=\"img/jupyter-container-web-app.png\" width=600>\n",
    "\n",
    "Type `Cntrl` + `C` in the terminal where you launched the container\n",
    "to quit Jupyter and exit the container."
   ]
  },
  {
   "cell_type": "markdown",
   "metadata": {},
   "source": [
    "## Contrasting containers with virtual machines\n",
    "\n",
    "Virtual machines are another technology that can be used to generate (and share) isolated computational environments. Virtual machines emulate the functionality an entire computer on a another physical computer. With virtual machine the virtualization occurs at the layer of software that sits between the computer's hardware and the operating system(s). This software is called a hypervisor. For example, on a Mac laptop, you could install a program called [Oracle Virtual Box](https://www.virtualbox.org/) to run a virtual machine whose operating system was Windows 10, as the screen shot below shows:\n",
    "\n",
    "<img src=\"https://www.virtualbox.org/raw-attachment/wiki/Screenshots/Windows_8.1_on_OSX.png\">\n",
    "\n",
    "\n",
    "**A screenshot of a Mac OS computer running a Windows virtual machine.** Source: <https://www.virtualbox.org/wiki/Screenshots>\n",
    "\n",
    "Below, we share an illustration that compares where virtualization happens in containers compared to virtual machines. This difference, leads to containers being more light-weight and portable compared to virtual machines, and also less isolated.\n",
    "\n",
    "<img src=\"img/container_v_vm.png\" width=600>\n",
    "\n",
    "*Source: https://www.docker.com/resources/what-container*\n",
    "\n",
    "\n",
    "**Key take home:** - Containerization software shares the host's operating system, whereas virtual machines have a completely separate, additional operating system. This can make containers lighter (smaller in terms of size) and more resource and time-efficient than using a virtual machine.*"
   ]
  },
  {
   "cell_type": "markdown",
   "metadata": {
    "Collapsed": "false",
    "slideshow": {
     "slide_type": "slide"
    }
   },
   "source": [
    "## Contrasting common computational environment virtualization strategies\n",
    "\n",
    "| Feature | Virtual environment | Container | Virtual machine |\n",
    "|---------|---------------------|-----------|-----------------|\n",
    "| Virtualization level | Application | Operating system user-space | Hardware |\n",
    "| Isolation | Programming languages, packages | Programming languages, packages, **other software, operating system dependencies, filesystems, networks** | Programming languages, packages, other software, operating system dependencies, filesystems, networks, **operating systems** |\n",
    "| Size | Extremely light-weight | light-weight | heavy-weight |\n"
   ]
  },
  {
   "cell_type": "markdown",
   "metadata": {
    "Collapsed": "false",
    "slideshow": {
     "slide_type": "slide"
    }
   },
   "source": [
    "## Virtualization strategy advantages and disadvantages for reproducibility\n",
    "\n",
    "Let's collaboratively generate a list of advantages and disadvantages of each virtualization strategy in the context of reproducibility:\n",
    "\n",
    "\n",
    "### Virtual environment\n",
    "\n",
    "#### Advantages\n",
    "- Extremely small size\n",
    "- Porous (less isolated) - makes it easy to pair the virtualized computational environment with files on your computer\n",
    "- Specify these with a single text file\n",
    "\n",
    "#### Disadvantages\n",
    "- Not always possible to capture and share operating system dependencies, and other software your analysis depends upon\n",
    "- Computational environment is not fully isolated, and so silent missed dependencies\n"
   ]
  },
  {
   "cell_type": "markdown",
   "metadata": {},
   "source": [
    "### Containers\n",
    "\n",
    "#### Advantages\n",
    "- Somewhat light-weight in size (manageable for easy sharing - there are tools and software to facilitate this)\n",
    "- Possible to capture and share operating system dependencies, and other software your analysis depends upon\n",
    "- Computational environment is fully isolated, and errors will occur if dependencies are missing\n",
    "- Specify these with a single text file\n",
    "- Can share volumes and ports (advantage compared to virtual machines)\n",
    "\n",
    "#### Disadvantages\n",
    "- Possible security issues - running software on your computer that you may allow to be less isolated (i.e., mount volumes, expose ports)\n",
    "- Takes some effort to share volumes and ports (disadvantage compared to virtual environments)\n"
   ]
  },
  {
   "cell_type": "markdown",
   "metadata": {},
   "source": [
    "### Virtual machine\n",
    "\n",
    "#### Advantages\n",
    "- High security, because these are much more isolated (filesystem, ports, etc)\n",
    "- Can share an entirely different operating system (might not so useful in the context of reproducibility however...)\n",
    "\n",
    "#### Disadvantages\n",
    "- Very big in size, which can make it prohibitive to share them\n",
    "- Takes great effort to share volumes and ports - which makes it hard to give access to data on your computer\n"
   ]
  },
  {
   "cell_type": "markdown",
   "metadata": {
    "Collapsed": "false",
    "slideshow": {
     "slide_type": "slide"
    }
   },
   "source": [
    "## Container useage workflow\n",
    "\n",
    "A schematic of Container useage workflow from a [blog post](https://blog.octo.com/en/docker-registry-first-steps/) by Arnaud Mazin:\n",
    "\n",
    "<img src=\"img/docker-stages.png\" width=600>\n",
    "\n",
    "*Source: [OctoTalks](https://blog.octo.com/en/docker-registry-first-steps/)*"
   ]
  },
  {
   "cell_type": "markdown",
   "metadata": {
    "Collapsed": "false",
    "slideshow": {
     "slide_type": "slide"
    }
   },
   "source": [
    "## Image vs container?\n",
    "\n",
    "Analogy: The program Chrome is like a Docker image, whereas a Chrome window is like a Docker container.\n",
    "\n",
    "<img src=\"img/instance_analogy.png\" width=\"600\">"
   ]
  },
  {
   "cell_type": "markdown",
   "metadata": {},
   "source": [
    "You can list the container **images** on your computer that you pulled using Docker via: `docker images`. You should see a list like this when you do this:\n",
    "\n",
    "```\n",
    "$ docker images\n",
    "REPOSITORY                 TAG                    IMAGE ID       CREATED        SIZE\n",
    "rocker/rstudio             4.3.2                  bc76e0dbd6db   9 days ago     1.87GB\n",
    "rocker/r-ver               4.3.2                  c9569cbc2eb0   9 days ago     744MB\n",
    "continuumio/miniconda3     23.9.0-0               55e8b7e3206b   3 weeks ago    457MB\n",
    "jupyter/minimal-notebook   notebook-7.0.6         e04c3bedc133   3 weeks ago    1.45GB\n",
    "hello-world                latest                 b038788ddb22   6 months ago   9.14kB\n",
    "```\n",
    "\n",
    "You can list the states of containers that have been started by Docker on your computer (and not yet removed) via: `docker ps -a`:\n",
    "\n",
    "```\n",
    "CONTAINER ID   IMAGE                  COMMAND   CREATED          STATUS          PORTS                                       NAMES\n",
    "9160100c7d4b   rocker/r-ver:4.3.2     \"R\"       5 seconds ago    Up 4 seconds                                                friendly_merkle\n",
    "0d0871c90313   rocker/rstudio:4.3.2   \"/init\"   33 minutes ago   Up 33 minutes   0.0.0.0:8787->8787/tcp, :::8787->8787/tcp   exciting_kepler\n",
    "```"
   ]
  },
  {
   "cell_type": "markdown",
   "metadata": {},
   "source": [
    "## What is a container registry\n",
    "\n",
    "A container registry is a remote repository, or collection of repositories, \n",
    "used to share container images. \n",
    "This is similar to remote version control repositories for sharing code. \n",
    "Instead of code however, \n",
    "it is container images that are pushed and pulled to/from there. \n",
    "For this course we will focus on the widely-used DockerHub container registry: \n",
    "<https://hub.docker.com/>.\n",
    "\n",
    "However, there are many container registries that can be used, including:\n",
    "- <https://github.com/> \n",
    "(yes! GitHub now also hosts container images in addition to code!)\n",
    "- <https://quay.io/>\n",
    "- <https://aws.amazon.com/ecr/> (yes! Amazon now also hosts container images too!)\n",
    "\n",
    "#### Demonstration\n",
    "\n",
    "Let's visit the repositories for the two container images that we used in the exercise earlier in class:\n",
    "\n",
    "- [rocker/rstudio](https://hub.docker.com/r/rocker/rstudio)\n",
    "- [jupyter/minimal-notebook](https://hub.docker.com/r/jupyter/minimal-notebook)\n",
    "\n",
    "Question: how did we get the images for the exercise earlier in class? \n",
    "We were just prompted to type `docker run...`\n",
    "\n",
    "Answer: `docker run ...` will first look for images you have locally, \n",
    "and run those if they exist. \n",
    "If they do not exist, it then attempts to pull the image from DockerHub."
   ]
  },
  {
   "cell_type": "markdown",
   "metadata": {},
   "source": [
    "## How do we specify a container image?\n",
    "\n",
    "Container images are specified from plain text files! In the case of the Docker containerization software, we call these `Dockerfiles`. We will explain these in more detail later, however for now it is useful to look at one to get a general idea of their structure:\n",
    "\n",
    "Example `Dockerfile`:\n",
    "\n",
    "```\n",
    "FROM continuumio/miniconda3\n",
    "\n",
    "# Install Jupyter, JupterLab, R & the IRkernel\n",
    "RUN conda install -y --quiet \\\n",
    "    jupyter \\\n",
    "    jupyterlab=3.* \\\n",
    "    r-base=4.1.* \\\n",
    "    r-irkernel\n",
    "\n",
    "# Install JupyterLab Git Extension\n",
    "RUN pip install jupyterlab-git\n",
    "\n",
    "# Create working directory for mounting volumes\n",
    "RUN mkdir -p /opt/notebooks\n",
    "\n",
    "# Make port 8888 available for JupyterLab\n",
    "EXPOSE 8888\n",
    "\n",
    "# Install Git, the nano-tiny text editor and less (needed for R help)\n",
    "RUN apt-get update && \\\n",
    "    apt-get install --yes \\\n",
    "    git \\\n",
    "    nano-tiny \\\n",
    "    less\n",
    "\n",
    "# Copy JupyterLab start-up script into container\n",
    "COPY start-notebook.sh /usr/local/bin/\n",
    "\n",
    "# Change permission of startup script and execute it\n",
    "RUN chmod +x /usr/local/bin/start-notebook.sh\n",
    "ENTRYPOINT [\"/usr/local/bin/start-notebook.sh\"]\n",
    "\n",
    "# Switch to staring in directory where volumes will be mounted\n",
    "WORKDIR \"/opt/notebooks\"\n",
    "```\n",
    "\n",
    "The commands in all capitals are Docker commands. `Dockerfile`s typically start with a `FROM` command that specifies which base image the new image should be built off. Docker images are built in layers - this helps make them more light-weight. The `FROM` command is usually followed by `RUN` commands that usually install new software, or execute configuration commands. Other commands in this example copy in needed configuration files, expose ports, specify the working directory, and specify programs to execute at start-up.\n",
    "\n",
    "#### Demonstration of container images being built from layers\n",
    "\n",
    "Let's take a look at the `Dockerfile` for the `jupyter/docker-stacks` `r-notebook` container image:\n",
    "- [Dockerfile](https://github.com/jupyter/docker-stacks/blob/master/r-notebook/Dockerfile)\n",
    "\n",
    "*Question: What images does it build off?*"
   ]
  },
  {
   "cell_type": "markdown",
   "metadata": {},
   "source": [
    "## Running containers\n",
    "\n",
    "Below we demonstrate how to run containers using the [`continuumio/miniconda3` image](https://hub.docker.com/r/continuumio/miniconda3) as an example:"
   ]
  },
  {
   "cell_type": "markdown",
   "metadata": {
    "Collapsed": "false",
    "slideshow": {
     "slide_type": "slide"
    }
   },
   "source": [
    "#### Step 1 - launch the Docker app (for OSX & Windows only)\n",
    "- Use launchpad/Finder/Start menu/etc to find and launch Docker\n",
    "\n",
    "> Note: Docker might already be running, if so great, but if its not, the commands below will not work. So it is always good to check!"
   ]
  },
  {
   "cell_type": "markdown",
   "metadata": {
    "Collapsed": "false",
    "slideshow": {
     "slide_type": "slide"
    }
   },
   "source": [
    "#### Step 2 - get container image from Dockerhub\n",
    "- open the terminal\n",
    "- type: `docker pull continuumio/miniconda3:23.9.0-0`\n",
    "- verify that it successfully pulled by typing: `docker images`, you should see something like:\n",
    "```\n",
    "REPOSITORY                 TAG       IMAGE ID       CREATED         SIZE\n",
    "continuumio/miniconda3     23.9.0-0  55e8b7e3206b   3 weeks ago    457MB\n",
    "```\n",
    "\n",
    "> Note 1: You can skip this step and just got onto `docker run ...` as that command will pull the image if you do not have it locally.\n",
    ">\n",
    "> Note 2: If you ever need to delete a container image from your computer, you can run `docker rmi <IMAGE_ID>` to do so."
   ]
  },
  {
   "cell_type": "markdown",
   "metadata": {
    "Collapsed": "false",
    "slideshow": {
     "slide_type": "slide"
    }
   },
   "source": [
    "#### Step 3 - launch a container from the image and poke around!\n",
    "\n",
    "- type: `docker run -it continuumio/miniconda3:23.9.0-0`\n",
    "- If it worked, then your command line prompt should now look something like this:\n",
    "\n",
    "```\n",
    "root@5d8e6fff1b12:/# \n",
    "```\n",
    "- use `ls`, `cd`, `pwd` and explore the container\n",
    "- type `exit` to leave when you are done (your prompt will look normal again)!"
   ]
  },
  {
   "cell_type": "markdown",
   "metadata": {
    "Collapsed": "false",
    "slideshow": {
     "slide_type": "slide"
    }
   },
   "source": [
    "#### Step 4 - clean up your container!\n",
    "\n",
    "- After you close a container it still \"hangs\" around... \n",
    "- View any existing containers using `docker ps -a`\n",
    "- Remove the container by typing `docker rm <container_id>`\n",
    "- Prove to yourself that the container is no longer \"hanging around\" via `docker ps -a`, but that you still have the image installed (via `docker images`)\n",
    "\n",
    "> Note: to remove running containers, you will need to first stop them via `docker stop <container_id>`"
   ]
  },
  {
   "cell_type": "markdown",
   "metadata": {
    "Collapsed": "false",
    "slideshow": {
     "slide_type": "slide"
    }
   },
   "source": [
    "#### That's a lot of work...\n",
    "\n",
    "- We can tell Docker to delete the container upon exit using the `--rm` flag in the run command.\n",
    "- Type the command below to run the container again, exit it and prove to yourself that the container was deleted (but not the image!):\n",
    "\n",
    "```\n",
    "docker run -it --rm continuumio/miniconda3:23.9.0-0\n",
    "```"
   ]
  },
  {
   "cell_type": "markdown",
   "metadata": {
    "slideshow": {
     "slide_type": "slide"
    }
   },
   "source": [
    "## Mounting volumes to containers\n",
    "\n",
    "Often times we want to use the software made available to us in containers on files on our computers. \n",
    "To do this, we need to explicitly tell Docker to mount a volume to the container. \n",
    "We can do this via: `-v <path_to_computer_directory>:<absolute_path_to_container_directory>`\n",
    "\n",
    "Often, we want to mount the volume from our current directory (where we are working) and we can do that with a short-form of `/$(pwd)` in place of the path to our computer's directory.\n",
    "\n",
    "To mount our current directory to a container from the `continuumio/miniconda3` image we type the following on your laptop:\n",
    "\n",
    "```\n",
    "docker run -it --rm -v /$(pwd):/home/my_mounted_volume continuumio/miniconda3\n",
    "```\n",
    "\n",
    "Navigate to the directory where you mounted your files via: `cd /home/my_mounted_volume` and type `ls` to ensure you can see them.\n",
    "\n",
    "> Note: if you are mounting volumes to a container from a Docker image that runs a web app, be sure to read the documentation to see where you should mount that volume. Usually the web apps are only exposed to certain directories and you will only be able to access the files in the mounted volume if you mount them to the correct place. For example, in the `rocker/rstudio` image that we loaded earlier, volumes need to be mounted within `/home/rstudio/` to be able to access them via the RStudio server web app.\n",
    "\n",
    "### Windows notes for mounting volumes:\n",
    "- Windows machines need to explicitly share drives with Docker - this should be part of your computer setup!\n",
    "- On Windows, the laptop path depends what shell you are using, here are some details:\n",
    "    - If you are going to run it in Windows terminal, then the command should be: `docker run --rm -it -v /$(pwd):<PATH_ON_CONTAINER> <IMAGE_NAME>` to share the current directory.\n",
    "    - If you are going to run it in Power Shell, then the command should be: `docker run --rm -it -v <ABSOLUTE_PATH_TO_CONTAINER>:<PATH_ON_CONTAINER> <IMAGE_NAME>` (`pwd` and variants do not seem to work). And the path must be formatted like: `C:\\Users\\tiffany.timbers\\Documents\\project\\:/home/project`"
   ]
  },
  {
   "cell_type": "markdown",
   "metadata": {},
   "source": [
    "## Mapping ports to containers with web apps\n",
    "\n",
    "[Docker documentation on Container networking](https://docs.docker.com/config/containers/container-networking/)\n",
    "\n",
    "If we want to use a graphical user interface (GUI) with our containers, for example to be able to use the computational environment in the container in an integrated development environment (IDE) such as RStudio or JupyterLab, then we need to map the correct port from the container to a port on our computer.\n",
    "\n",
    "To do this, we use the `-p` flag with `docker run`, specifying the port in the container on the left-hand side, and the port on your computer (the container/Docker host) on the right-hand side of `:`. For example, to run the `rocker/rstudio` container image we would type `-p 8787:8787` to map the ports as shown in the `docker run` command below:\n",
    "\n",
    "\n",
    "```\n",
    "docker run --rm -p 8787:8787 -e PASSWORD=\"apassword\" rocker/rstudio:4.3.2\n",
    "```\n",
    "\n",
    "Then to access the web app, we need to navigate a browser url to `http://localhost:<COMPUTER_PORT>`. In this case we would navigate to <http://localhost:8787> to use the RStudio server web app from the container.\n",
    "\n",
    "Note that we can only map one port on our computer (the container/Docker host) to a container at any given time. However,\n",
    "our computer (the container/Docker host) has many ports we can choose from to map. So if we wanted to run a second `rocker/rstudio` container, then we could map it to a different port as shown below:\n",
    "\n",
    "```\n",
    "docker run --rm -p 8788:8787 -e PASSWORD=\"apassword\" rocker/rstudio:4.3.2\n",
    "```\n",
    "\n",
    "When we do this, to run the app in a browser on our computer, we need to go to <http://localhost:8788> (instead of <http://localhost:8787>) to access this container as we mapped it to the `8788` port on our computer (and not `8787`).\n",
    "\n",
    "\n",
    "Another important note is that the container port is specific to the container, and the web app installed therein. So we cannot change that without changing the container image, and/or application installed therein. Where do you learn what port is exposed in a container image? The image documentation should specify this. For example, in the [`rocker/rstudio` container image documentation](https://hub.docker.com/r/rocker/rstudio) it states:\n",
    "\n",
    "<img src=\"img/rocker-rstudio-port-docs.png\" width=600>\n",
    "\n",
    "*Source: <https://hub.docker.com/r/rocker/rstudio>*"
   ]
  },
  {
   "cell_type": "markdown",
   "metadata": {
    "Collapsed": "false",
    "slideshow": {
     "slide_type": "slide"
    }
   },
   "source": [
    "## Docker commands\n",
    "\n",
    "The table below summarizes the Docker commands we have learned so far and can serve as a useful reference when we are using Docker:\n",
    "\n",
    "| command/flag | What it does          | \n",
    "|--------------|-----------------------|\n",
    "| `pull`       | Downloads a Docker image from Docker Hub |\n",
    "| `images`     | Tells you what container images are installed on your machine |\n",
    "| `rmi`        | Deletes a specified container image from your machine |\n",
    "| `ps -a`      | Tells you what containers are running on your machine |\n",
    "| `stop`       | Stops a specified running container |\n",
    "| `rm`         | Removes a specified stopped container |\n",
    "| `run`        | Launches a container from an image |\n",
    "| `-it`        | Tells Docker to run the container interactively  |\n",
    "| `--rm`       | Makes a container ephemeral (deletes it upon exit)  |\n",
    "| `-v`         | Mounts a volume of your computer to the Docker container |\n",
    "| `-p`         | Specifies the ports to map a web app to |\n",
    "| `-e`         | Sets environment variables in the container (*e.g.*, PASSWORD=\"apassword\") |\n",
    "| `exit`       | Exits a Docker container|"
   ]
  },
  {
   "cell_type": "markdown",
   "metadata": {},
   "source": [
    "## Using Docker Desktop to launch containers\n",
    "\n",
    "The Docker Desktop app can also be used to launch containers,\n",
    "specify the ports and volume mapping. \n",
    "This can be more user friendly than the command line.\n",
    "For an example of how to do this see the \n",
    "[\"Working with Docker\" chapter](https://datasciencebook.ca/setup.html#working-with-docker) \n",
    "from [*Data Science: A First Introduction*](https://datasciencebook.ca/) \n",
    "by Timbers, Campbell and Lee."
   ]
  },
  {
   "cell_type": "markdown",
   "metadata": {},
   "source": [
    "## Running a Docker container non-interactively\n",
    "\n",
    "So far we have been running our containers interactively, but sometimes we want to automate further and run things non interactively. We do this be dropping the `-it` flag from our `docker run` command as well as calling a command or a script after the docker image is specified.\n",
    "\n",
    "The general form for for running things non-interactively is this:\n",
    "\n",
    "```\n",
    "docker run --rm -v PATH_ON_YOUR_COMPUTER:VOLUME_ON_CONTAINER DOCKER_IMAGE PROGRAM_TO_RUN PROGRAM_ARGUMENTS\n",
    "```\n",
    "\n",
    "For example, let's use the container run a `cowsay::say` function call to print some asci art with a cute message! \n",
    "\n",
    "```\n",
    "$ docker run --rm ttimbers/dockerfile-practice:v0.1.0 Rscript -e \"library(cowsay); say('Snow again this week?', 'snowman')\"\n",
    "```\n",
    "\n",
    "\n",
    "And if succesfful, we should get:\n",
    "\n",
    "```\n",
    "----- \n",
    "Snow again this week? \n",
    " ------ \n",
    "    \\   \n",
    "     \\\n",
    "     _[_]_\n",
    "      (\")\n",
    "  >--( : )--<\n",
    "    (__:__) [nosig]\n",
    "```  \n",
    "\n",
    "Now that was a silly example, but this can be made powerful so that we can run an analysis pipeline, such as a Makefile non-interactively using Docker! Here's a demo we can try: https://github.com/ttimbers/data_analysis_pipeline_eg/tree/v4.0\n",
    "\n",
    "#### Exercise 1: FIX ME!\n",
    "\n",
    "Download https://github.com/ttimbers/data_analysis_pipeline_eg/archive/v4.0.zip, unzip it and navigate to the root of the project directory, try to run the analysis via `make all`.\n",
    "\n",
    "#### Exercise 2: FIX ME!\n",
    "\n",
    "Now try to run the analysis using Docker via:\n",
    "\n",
    "```\n",
    "docker run --rm -v /$(pwd):/home/rstudio/data_analysis_eg ttimbers/data_analysis_pipeline_eg make -C /home/rstudio/data_analysis_eg all\n",
    "```\n",
    "\n",
    "*note - windows users must use Git Bash, set Docker to use Linux containers, and have shared their drives with Docker (see docs [here](https://token2shell.com/howto/docker/sharing-windows-folders-with-containers/)) for this to work*"
   ]
  },
  {
   "cell_type": "markdown",
   "metadata": {},
   "source": [
    "## Building container images from `Dockerfile`'s\n",
    "\n",
    "- A `Dockerfile` is a plain text file that contains commands primarily about what software to install in the Docker image. This is the more trusted and transparent way to build Docker images.\n",
    "\n",
    "- Once we have created a `Dockerfile` we can build it into a Docker image.\n",
    "\n",
    "- Docker images are built in layers, and as such, `Dockerfiles` always start by specifiying a base Docker image that the new image is to be built on top off.\n",
    "\n",
    "- Docker containers are all Linux containers and thus use Linux commands to install software, however there are different flavours of Linux (e.g., Ubuntu, Debian, CentOs, RedHat, etc) and thus you need to use the right Linux install commands to match your flavour of container. For this course we will focus on Ubuntu- or Debian-based images and thus use `apt-get` as our installation program.\n",
    "\n"
   ]
  },
  {
   "cell_type": "markdown",
   "metadata": {},
   "source": [
    "### Workflow for building a Dockerfile\n",
    "\n",
    "1. Choose a base image to build off (from https://hub.docker.com/).\n",
    "\n",
    "2. Create a `Dockerfile` named `Dockerfile` and save it in an appropriate project repository. Open that file and type `FROM <BASE_IMAGE> on the first line`.\n",
    "\n",
    "3. In a terminal, type `docker run --rm -it <IMAGE_NAME>` and interactively try the install commands you think will work. Edit and try again until the install command works.\n",
    "\n",
    "4. Write working install commands in the `Dockerfile`, preceeding them with `RUN` and save the `Dockerfile`.\n",
    "\n",
    "5. After adding every 2-3 commands to your `Dockerfile`, try building the Docker image via `docker build --tag <TEMP_IMAGE_NAME> <PATH_TO_DOCKERFILE_DIRECTORY>`.\n",
    "\n",
    "6. Once the entire Dockerfile works from beginning to end on your laptop, then you can finally move to building remotely (e.g., creating a trusted build on GitHub Actions)."
   ]
  },
  {
   "cell_type": "markdown",
   "metadata": {},
   "source": [
    "### Demo workflow for creating a `Dockfile` locally\n",
    "\n",
    "We will demo this workflow together to build a Docker image locally on our machines that has R and the `cowsay` R package installed.\n",
    "\n",
    "Let's start with the `debian:stable` image, so the first line of our `Dockerfile` should be as such:\n",
    "\n",
    "```\n",
    "FROM debian:stable\n",
    "```\n",
    "\n",
    "Now let's run the `debian:stable` image so we can work on our install commands to find some that work!\n",
    "\n",
    "```\n",
    "$ docker run --rm -it debian:stable\n",
    "```\n",
    "\n",
    "Now that we are in a container instance of the `debian:stable` Docker image, we can start playing around with installing things. To install things in the Debian flavour of Linux we use the command `apt-get`. We will do some demo's in class today, but a more comprehensive tutorial can be found [here](https://www.digitalocean.com/community/tutorials/how-to-manage-packages-in-ubuntu-and-debian-with-apt-get-apt-cache).\n",
    "\n",
    "To install R on Debian, we can figure out how to do this by following the CRAN documentation available [here](https://cran.r-project.org/bin/linux/debian/).\n",
    "\n",
    "First they recommend updating the list of available software package we can install with `apt-get` to us via the `apt-get update` command:\n",
    "\n",
    "```\n",
    "root@5d0f4d21a1f9:/# apt-get update\n",
    "```\n",
    "\n",
    "Next, they suggest the following commands to install R:\n",
    "\n",
    "```\n",
    "root@5d0f4d21a1f9:/# apt-get install r-base r-base-dev\n",
    "```\n",
    "\n",
    "OK, great! That seemed to have worked! Let's test it by trying out R! \n",
    "\n",
    "```\n",
    "root@5d0f4d21a1f9:/# R\n",
    "\n",
    "R version 3.5.2 (2018-12-20) -- \"Eggshell Igloo\"\n",
    "Copyright (C) 2018 The R Foundation for Statistical Computing\n",
    "Platform: x86_64-pc-linux-gnu (64-bit)\n",
    "\n",
    "R is free software and comes with ABSOLUTELY NO WARRANTY.\n",
    "You are welcome to redistribute it under certain conditions.\n",
    "Type 'license()' or 'licence()' for distribution details.\n",
    "\n",
    "R is a collaborative project with many contributors.\n",
    "Type 'contributors()' for more information and\n",
    "'citation()' on how to cite R or R packages in publications.\n",
    "\n",
    "Type 'demo()' for some demos, 'help()' for on-line help, or\n",
    "'help.start()' for an HTML browser interface to help.\n",
    "Type 'q()' to quit R.\n",
    "\n",
    "> \n",
    "\n",
    "```\n",
    "\n",
    "Awesome! This seemed to have worked! Let's exit R (via `q()`) and the Docker container (via `exit`). Then we can add these commands to the Dockerfile, proceeding them with `RUN` and try to build our image to ensure this works.\n",
    "\n",
    "Our `Dockerfile` so far:\n",
    "```\n",
    "FROM debian:stable\n",
    "\n",
    "RUN apt-get update\n",
    "\n",
    "RUN apt-get install r-base r-base-dev -y \n",
    "```\n",
    "\n",
    "```\n",
    "$ docker build --tag testr1 src\n",
    "```\n",
    "\n",
    "Wait! That didn't seem to work! Let's focus on the last two lines of the error message:\n",
    "\n",
    "```\n",
    "Do you want to continue? [Y/n] Abort.\n",
    "The command '/bin/sh -c apt-get install r-base r-base-dev' returned a non-zero code: 1\n",
    "```\n",
    "\n",
    "Ohhhh, right! As we were interactively installing this, we were prompted to press \"Y\" on our keyboard to continue the installation. We need to include this in our Dockerfile so that we don't get this error. To do this we append the `-y` flag to the end of the line contianing `RUN apt-get install r-base r-base-dev`. Let's try building again!\n",
    "\n",
    "Great! Success! Now we can play with installing R packages! \n",
    "\n",
    "Let's start now with the test image we have built from our `Dockerfile`:\n",
    "\n",
    "```\n",
    "$ docker run -it --rm testr1\n",
    "```\n",
    "\n",
    "Now while we are in the container interactively, we can try to install the R package via:\n",
    "\n",
    "```\n",
    "root@51f56d653892:/# Rscript -e \"install.packages('cowsay')\"\n",
    "```\n",
    "\n",
    "And it looks like it worked! Let's confirm by trying to call a function from the `cowsay` package in R:\n",
    "\n",
    "```\n",
    "root@51f56d653892:/# R\n",
    "\n",
    "> cowsay::say(\"Smart for using Docker are you\", \"yoda\")\n",
    "```\n",
    "\n",
    "\n",
    "\n",
    "Great, let's exit the container, and add this command to our `Dockerfile` and try to build it again!\n",
    "\n",
    "```\n",
    "root@51f56d653892:/# exit\n",
    "```\n",
    "\n",
    "Our `Dockerfile` now:\n",
    "```\n",
    "FROM debian:stable\n",
    "\n",
    "RUN apt-get update\n",
    "\n",
    "RUN apt-get install r-base r-base-dev -y \n",
    "\n",
    "RUN Rscript -e \"install.packages('cowsay')\"\n",
    "```\n",
    "\n",
    "Build the `Dockerfile` into an image:\n",
    "\n",
    "```\n",
    "$ docker build --tag testr1 src\n",
    "\n",
    "$ docker run -it --rm testr1\n",
    "```\n",
    "\n",
    "Looks like a success, let's be sure we can use the `cowsay` package:\n",
    "\n",
    "```\n",
    "root@861487da5d00:/# R\n",
    "\n",
    "> cowsay::say(\"why did the chicken cross the road\", \"chicken\")\n",
    "\n",
    "```\n",
    "\n",
    "Hurray! We did it! Now we can automate this build on GitHub, push it to Docker Hub and share this Docker image with the world!\n",
    "\n",
    "<img src=\"https://media.giphy.com/media/ZcKASxMYMKA9SQnhIl/giphy-downsized.gif\">\n",
    "Source: https://giphy.com/gifs/memecandy-ZcKASxMYMKA9SQnhIl"
   ]
  },
  {
   "cell_type": "markdown",
   "metadata": {},
   "source": [
    "## Tips for installing things programmatically on Debian-flavoured Linux\n",
    "\n",
    "### Installing things with `apt-get`\n",
    "\n",
    "Before you install things with `apt-get` you will want to update the list of packages that `apt-get` can see. We do this via `apt-get update`. \n",
    "\n",
    "Next, to install something with `apt-get` you will use the `apt-get install` command along with the name of the software. For example, to install the Git version control software we would type `apt-get install git`. Note however that we will be building our containers non-interactively, and so we want to preempt any questions/prompts the installation software we will get by including the answers in our commands. So for example, to `apt-get install` we append `--yes` to tell `apt-get` that yes we are happy to install the software we asked it to install, using the amount of disk space required to install it. If we didn't append this, the installation would stall out at this point waiting for our answer to this question. Thus, the full command to Git via `apt-get` looks like:\n",
    "\n",
    "```\n",
    "apt-get install --yes git\n",
    "```"
   ]
  },
  {
   "cell_type": "markdown",
   "metadata": {},
   "source": [
    "### Breaking shell commands across lines\n",
    "\n",
    "If we want to break a single command across lines in the shell, we use the `\\` character. \n",
    "For example, to reduce the long line below which uses `apt-get` to install the programs Git, Tiny Nano, Less, and wget:\n",
    "\n",
    "```\n",
    "apt-get install --yes git nano-tiny less wget\n",
    "```\n",
    "\n",
    "We can use `\\` after each program, to break the long command across lines and make the command more readable (especially if there were even more programs to install). Similarly, we indent the lines after `\\` to increase readability:\n",
    "\n",
    "```\n",
    "apt-get install --yes \\\n",
    "    git \\\n",
    "    nano-tidy \\\n",
    "    less \\\n",
    "    wget\n",
    "```\n",
    "\n",
    "### Running commands only if the previous one worked\n",
    "\n",
    "Sometimes we don't want to run a command if the command that was run immediately before it failed. We can specify this in the shell using `&&`. For example, if we want to not run `apt-get` installation commands if `apt-get update` failed, we can write:\n",
    "\n",
    "```\n",
    "apt-get update && \\\n",
    "    apt-get install --yes git\n",
    "```"
   ]
  },
  {
   "cell_type": "markdown",
   "metadata": {},
   "source": [
    "## `Dockerfile` command summary\n",
    "\n",
    "Most common `Dockerfile` commands I use:\n",
    "\n",
    "| Command | Description |\n",
    "|---------|-------------|\n",
    "| FROM    | States which base image the new Docker image should be built on top of |\n",
    "| RUN     | Specifies that a command should be run in a shell |\n",
    "| ENV | Sets environment variables |\n",
    "| EXPOSE | Specifies the port the container should listen to at runtime |\n",
    "| COPY or ADD | adds files (or URL's in the case of ADD) to a container's filesystem |\n",
    "| ENTRYPOINT | Configure a container that will run as an executable |\n",
    "| WORKDIR | sets the working directory for any `RUN`, `CMD`, `ENTRYPOINT`, COPY and ADD instructions that follow it in the `Dockerfile` |\n",
    "\n",
    "And more here in the [Dockerfile reference](https://docs.docker.com/engine/reference/builder/)."
   ]
  },
  {
   "cell_type": "markdown",
   "metadata": {
    "tags": []
   },
   "source": [
    "## Choosing a base image for your Dockerfile\n",
    "\n",
    "<img src=\"https://themuslimtimesdotinfodotcom.files.wordpress.com/2018/10/newton-quotes-2.jpg?w=1334\" width=700>\n",
    "\n",
    "Source: https://themuslimtimes.info/2018/10/25/if-i-have-seen-further-it-is-by-standing-on-the-shoulders-of-giants/\n",
    "\n",
    "### Good base images to work from for R or Python projects!\n",
    "\n",
    "| Image | Software installed | \n",
    "|-------|--------------------|\n",
    "| [rocker/tidyverse](https://hub.docker.com/r/rocker/tidyverse/) | R, R packages (including the tidyverse), RStudio, make |\n",
    "| [continuumio/anaconda3](https://hub.docker.com/r/continuumio/anaconda3/) | Python 3.7.4, Ananconda base package distribution, Jupyter notebook |\n",
    "| [jupyter/scipy-notebook](https://hub.docker.com/r/jupyter/scipy-notebook) | Includes popular packages from the scientific Python ecosystem. |\n",
    "\n",
    "For mixed language projects, I would recommend using the `rocker/tidyverse` image as the base and then installing Anaconda or miniconda as I have done here: https://github.com/UBC-DSCI/introduction-to-datascience/blob/b0f86fc4d6172cd043a0eb831b5d5a8743f29c81/Dockerfile#L19\n",
    "\n",
    "This is also a nice tour de Docker images from the Jupyter core team: https://jupyter-docker-stacks.readthedocs.io/en/latest/using/selecting.html#selecting-an-image"
   ]
  },
  {
   "cell_type": "markdown",
   "metadata": {},
   "source": [
    "## Dockerfile FAQ:\n",
    "\n",
    "#### 1. Where does the `Dockerfile` live?\n",
    "\n",
    "The Dockerfile should live in the root directory of your project.\n",
    "\n",
    "#### 2. How do I make an image from a `Dockerfile`?\n",
    "\n",
    "There are 2 ways to do this! I use the first when developing my `Dockerfile` (to test quickly that it works), and then the second I use when I think I am \"done\" and want to have it archived on [Docker Hub](https://hub.docker.com/). \n",
    "\n",
    "1. Build a Docker image locally on your laptop\n",
    "\n",
    "2. Build a Docker image and push it to DockerHub using GitHub Actions, \n",
    "\n",
    "#### 3. How do I build an image locally on my laptop  \n",
    " \n",
    "From the directory that contains your `Dockerfile` (usually your project root):\n",
    "\n",
    "```\n",
    "docker build --tag IMAGE_NAME:VERSION .\n",
    "```\n",
    "    \n",
    "*note: `--tag` let's you name and version the Docker image. You can call this anything you want. The version number/name comes after the colon*\n",
    "    \n",
    "After I build, I think try to `docker run ...` to test the image locally. If I don't like it, or it doesn't work, I delete the image with `docker rmi {IMAGE_NAME}`, edit my Dockerfile and try to build and run it again."
   ]
  },
  {
   "cell_type": "markdown",
   "metadata": {},
   "source": [
    "## Build a Docker image from a Dockerfile on GitHub Actions\n",
    "\n",
    "Building a Docker image from a Dockerfile using an automated tool (e.g., DockerHub or GitHub Actions) lets others trust your image as they can clearly see which Dockerfile was used to build which image.  \n",
    "\n",
    "We will do this in this course by using GitHub Actions (a continuous integration tool) because is provides a great deal of nuanced control over when to trigger the automated builds of the Docker image, and how to tag them.\n",
    "\n",
    "An example GitHub repository that uses GitHub Actions to build a Docker image from a Dockerfile and publish it on DockerHub is available here: [https://github.com/ttimbers/gha_docker_build](https://github.com/ttimbers/gha_docker_build)\n",
    "\n",
    "We will work through a demonstration of this now starting here: [https://github.com/ttimbers/dockerfile-practice](https://github.com/ttimbers/dockerfile-practice)"
   ]
  },
  {
   "cell_type": "markdown",
   "metadata": {},
   "source": [
    "## Version Docker images and report software and package versions\n",
    "\n",
    "It is easier to create a Docker image from a Dockerfile and tag it (or use it's digest) than to control the version of each thing that goes into your Docker image.\n",
    "\n",
    "- tags are human readable, however they can be associated with different builds of the image (potentially using different Dockerfiles...)\n",
    "- digests are not human readable, but specify a specific build of an image\n",
    "\n",
    "Example of how to pull using a tag: \n",
    "```\n",
    "docker pull ttimbers/dockerfile-practice:v1.0\n",
    "```\n",
    "\n",
    "Example of how to pull using a digest:\n",
    "```\n",
    "docker pull ttimbers/dockerfile-practice@sha256:cc512c9599054f24f4020e2c7e3337b9e71fd6251dfde5bcd716dc9b1f8c3a73\n",
    "```\n",
    "\n",
    "Tags are specified when you build on Docker Hub on the Builds tab under the Configure automated builds options. Digests are assigned to a build. You can see the digests on the Tags tab, by clicking on the \"Digest\" link for a specific tag of the image."
   ]
  },
  {
   "cell_type": "markdown",
   "metadata": {},
   "source": [
    "### How to get the versions of your software in your container\n",
    "\n",
    "Easiest is to enter the container interactively and poke around using the following commands:\n",
    "\n",
    "- `python --version` and `R --version` to find out the versions of Python and R, respectively\n",
    "- `pip freeze` or `conda list` in the bash shell to find out Python package versions\n",
    "- Enter R and load the libraries used in your scripts, then use `sessionInfo()` to print the package versions"
   ]
  },
  {
   "cell_type": "markdown",
   "metadata": {},
   "source": [
    "### But I want to control the versions!\n",
    "\n",
    "### How to in R:\n",
    "\n",
    "#### The Rocker team's strategy\n",
    "\n",
    "This is not an easy thing, but the Rocker team has made a concerted effort to do this. Below is their strategy:\n",
    "\n",
    "> Using the R version tag will naturally lock the R version, and also lock the install date of any R packages on the image. For example, rocker/tidyverse:3.3.1 Docker image will always rebuild with R 3.3.1 and R packages installed from the 2016-10-31 MRAN snapshot, corresponding to the last day that version of R was the most recent release. Meanwhile rocker/tidyverse:latest will always have both the latest R version and latest versions of the R packages, built nightly.\n",
    "\n",
    "See [VERSIONS.md](https://github.com/rocker-org/rocker-versioned/blob/master/VERSIONS.md) for details, but in short they use the line below to lock the R version (or view in r-ver Dockerfile [here](https://github.com/rocker-org/rocker-versioned/blob/c4a9f540d4c66a6277f281be6dcfe55d3cb40ec0/r-ver/3.6.1.Dockerfile#L76) for more context):\n",
    "```  \n",
    "    && curl -O https://cran.r-project.org/src/base/R-3/R-${R_VERSION}.tar.gz \\\n",
    "```\n",
    "\n",
    "And this line to specify the CRAN snapshot from which to grab the R packages (or view in r-ver Dockerfile [here](mhttps://github.com/rocker-org/rocker-versioned/blob/c4a9f540d4c66a6277f281be6dcfe55d3cb40ec0/r-ver/3.6.1.Dockerfile#L121) for more context):\n",
    "```\n",
    "    && Rscript -e \"install.packages(c('littler', 'docopt'), repo = '$MRAN')\" \\\n",
    "```\n",
    "\n",
    "### A newer thing that might be useful!\n",
    "\n",
    "You can pair [renv](https://rstudio.github.io/renv/articles/docker.html?q=docker#running-docker-containers-with-renv) with Docker - this is new and will be covered in tutorial this week! 🎉\n",
    "\n",
    "### How to in Python:\n",
    "\n",
    "Python version:\n",
    "\n",
    "- `conda`  to specify an install of specific Python version, either when downloading (see example [here](https://github.com/ContinuumIO/docker-images/blob/8e10242c6d7804a0e991a9d9d758e25b340f4fce/miniconda3/debian/Dockerfile#L10), or after downloading with `conda install python=3.6`).\n",
    "- Or you can install a specific version of Python yourself, as they do in the Python official images (see [here](https://github.com/docker-library/python/blob/master/3.7/stretch/slim/Dockerfile) for example), but this is more complicated.\n",
    "\n",
    "For Python packages, there are a few tools:\n",
    "- conda (via `conda install scipy=0.15.0` for example)\n",
    "- pip (via `pip install scipy=0.15.0` for example)\n",
    "\n",
    "### Take home messages:\n",
    "\n",
    "- At a minimum, tag your Docker images or reference image digests\n",
    "- If you want to version installs inside the container, use base images that version R & Python, and add what you need on top in a versioned manner!"
   ]
  },
  {
   "cell_type": "markdown",
   "metadata": {},
   "source": [
    "## Docker compose\n",
    "\n",
    "Docker compose is a tool that uses a `YAML` file to configure/specify how you want to run one or more Docker containers. To use Docker compose, we create a `docker-compose.yml` file that specifies things such as:\n",
    "- the Docker images (and version)\n",
    "- the ports\n",
    "- volume mapping\n",
    "- any environment variables\n",
    "\n",
    "Then to run the Docker container using the specifications in the `docker-compose.yml` file, we run:\n",
    "\n",
    "```\n",
    "docker-compose run --rm service command\n",
    "```\n",
    "\n",
    "- `service` is a name you give to your application configurations in the `docker-compose.yml`\n",
    "- `command` is some command or script you would like to run (e.g., `make all`)\n",
    "\n",
    "Here is an example `docker-compose.yml`:\n",
    "\n",
    "```\n",
    "services:\n",
    "  analysis-env:\n",
    "    image: ttimbers/bc_predictor:v4.0\n",
    "    ports:\n",
    "      - \"8787:8787\"\n",
    "    volumes:\n",
    "      - .:/home/rstudio/introduction-to-datascience\n",
    "    environment:\n",
    "      PASSWORD: password\n",
    "```\n",
    "\n",
    "And to run the container and the analysis we would type:\n",
    "\n",
    "```\n",
    "docker-compose run --rm analysis-env make -C /home/rstudio/breast_cancer_predictor all\n",
    "```\n",
    "\n",
    "This means we do not have to type out the:\n",
    "- ports\n",
    "- volume mapping\n",
    "- environment variables\n",
    "- and potentially more!"
   ]
  },
  {
   "cell_type": "markdown",
   "metadata": {
    "slideshow": {
     "slide_type": "slide"
    }
   },
   "source": [
    "## Where to next?\n",
    "\n",
    "- Testing code written for data science"
   ]
  }
 ],
 "metadata": {
  "anaconda-cloud": {},
  "celltoolbar": "Slideshow",
  "kernelspec": {
   "display_name": "Python 3 (ipykernel)",
   "language": "python",
   "name": "python3"
  },
  "language_info": {
   "codemirror_mode": {
    "name": "ipython",
    "version": 3
   },
   "file_extension": ".py",
   "mimetype": "text/x-python",
   "name": "python",
   "nbconvert_exporter": "python",
   "pygments_lexer": "ipython3",
   "version": "3.9.9"
  }
 },
 "nbformat": 4,
 "nbformat_minor": 4
}