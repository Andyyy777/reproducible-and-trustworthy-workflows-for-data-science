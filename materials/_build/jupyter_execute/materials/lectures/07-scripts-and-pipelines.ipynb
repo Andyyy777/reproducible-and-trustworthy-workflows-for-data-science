{
 "cells": [
  {
   "cell_type": "markdown",
   "metadata": {
    "slideshow": {
     "slide_type": "slide"
    }
   },
   "source": [
    "# Non-interactive scripts and data analysis pipelines"
   ]
  },
  {
   "cell_type": "markdown",
   "metadata": {
    "slideshow": {
     "slide_type": "slide"
    }
   },
   "source": [
    "## Topic learning objectives\n",
    "\n",
    "By the end of this topic, students should be able to:\n",
    "\n",
    "1. Explain when it is optimal to work in a read-eval-print-loop (REPL) framework and\n",
    "when it is optimal to shift to using non-interactive scripts.\n",
    "2. Be able to create simple scripts in R that can take input and be executed\n",
    "from the command line.\n",
    "3. Decide when to move from using command line arguments to pass variables into a\n",
    "script to passing variables in via a configuration file, and create scripts that can read\n",
    "configuration files.\n",
    "4. Justify why analysis pipelines should be used over a single long script in data analysis\n",
    "projects, specifically in regards to how this affects reproducibility, maintainability and\n",
    "future derivatives of the work.\n",
    "5. Write a simple automated analysis pipeline using workflow tool (e.g., GNU Make)\n",
    "6. Discuss the advantage of using software that has a dependency graph for analysis\n",
    "pipelines compared to software that does not."
   ]
  },
  {
   "cell_type": "markdown",
   "metadata": {
    "slideshow": {
     "slide_type": "slide"
    }
   },
   "source": [
    "#### Read-eval-print-loop (REPL) framework (*i.e.,* interactive mode) versus Scripts\n",
    "\n",
    "- Up until now, we have primarily been using R and Python in an Read-eval-print-loop (REPL) framework (*i.e.,* interactive mode)\n",
    "- Read-eval-print-loop (REPL) framework (*i.e.,* interactive mode) is when we run our code in the console in R/Python, or in cells/chunks in the RStudio/Juptyer notebooks\n",
    "- A Read-eval-print-loop (REPL) framework (*i.e.,* interactive mode) is very useful for:\n",
    "    - solving small problems\n",
    "    - developing code that will be knit to an analytic report\n",
    "    - developing code that will be run as a script (i.e., in \"batch\" mode)"
   ]
  },
  {
   "cell_type": "markdown",
   "metadata": {
    "slideshow": {
     "slide_type": "slide"
    }
   },
   "source": [
    "## What is a script?\n",
    "\n",
    "An R/Python script is simply a plain text file containing (almost) the same commands that you would enter into R/Python's console or in cells/chunks in the RStudio/Juptyer notebooks. We often run these from top to bottom from the command line/unix shell."
   ]
  },
  {
   "cell_type": "markdown",
   "metadata": {
    "slideshow": {
     "slide_type": "slide"
    }
   },
   "source": [
    "#### Why write scripts?\n",
    "\n",
    "- Efficiency!\n",
    "- Automation!\n",
    "- Reusable!\n",
    "- Record of what you have done!"
   ]
  },
  {
   "cell_type": "markdown",
   "metadata": {
    "slideshow": {
     "slide_type": "slide"
    }
   },
   "source": [
    "### Scripts in R"
   ]
  },
  {
   "cell_type": "markdown",
   "metadata": {
    "slideshow": {
     "slide_type": "fragment"
    }
   },
   "source": [
    "Let's start with a small, simple example to demonstrate how we write and run scripts in R (it is very similar in Python and we will get to this later in the lesson).\n",
    "\n",
    "Our script will be called `print_mean_hp.R`, and it will calculate the mean horsepower of the cars from the built-in R data frame `mtcars`. \n",
    "\n",
    "We will develop this script inside RStudio, make sure it works, and then run it from the command line/terminal/Git bash.\n",
    "\n",
    "##### Our first R script:\n",
    "\n",
    "```\n",
    "# author: Tiffany Timbers\n",
    "# date: 2020-01-15\n",
    "#\n",
    "# This script calculates the mean horsepower of the cars from the built-in \n",
    "# R data frame `mtcars`. This script takes no arguments.\n",
    "#\n",
    "# Usage: Rscript print_mean_hp.R\n",
    "\n",
    "mean_hp <- mean(mtcars$hp)\n",
    "print(mean_hp)\n",
    "```\n"
   ]
  },
  {
   "cell_type": "markdown",
   "metadata": {
    "slideshow": {
     "slide_type": "slide"
    }
   },
   "source": [
    "##### Running our first R script\n",
    "\n",
    "To run our R script, we need to open the command line/terminal/Git bash, and either navigate to the directory that houses the script OR point to it when we call it. We will do the former.\n",
    "\n",
    "Then to run the R script, we use the `Rscript` command, followed by the name/path to the file:\n",
    "\n",
    "```\n",
    "Rscript print_mean_hp.R\n",
    "```\n",
    "\n",
    "The output should be:\n",
    "\n",
    "```\n",
    "[1] 146.6875\n",
    "```"
   ]
  },
  {
   "cell_type": "markdown",
   "metadata": {},
   "source": [
    "#### A couple notes about scripts\n",
    "\n",
    "- If you want something to be output to the command line/terminal/Git bash, you **should** explicitly ask for it to be print. *This is not an absolute requirement in R, but it is in Python!*\n",
    "- Similar with figures, they need to be saved! You will never see a figure created in a script unless you write it to a file.\n",
    "- From a reproducibility perspective, if we want input from the user, usually we will design the scripts to take command line arguments, and not use keyboard/user prompts.\n"
   ]
  },
  {
   "cell_type": "markdown",
   "metadata": {
    "slideshow": {
     "slide_type": "slide"
    }
   },
   "source": [
    "### Script structure and organization\n",
    "\n",
    "Although not necessary in R or Python, it is still good practice and advised to organize the code in your script into related sections. This practice keeps your code readable and organized. Below we outline how we typically organize R scripts:\n",
    "\n",
    "##### Example R script organization:\n",
    "```\n",
    "# documentation comments\n",
    "\n",
    "# load libraries/packages or source functions from other scripts\n",
    "\n",
    "# parse/define command line arguments here\n",
    "\n",
    "# code for \"guts\" of script goes here\n",
    "```"
   ]
  },
  {
   "cell_type": "markdown",
   "metadata": {
    "slideshow": {
     "slide_type": "skip"
    }
   },
   "source": [
    "*You can see that R and Python scripts should have roughly the same style. There is the difference of `if __name__ == \"__main__\":` in Python scripts, and R does not really have an equivalent. The benefit of some control flow around `main`, as is done in Python, is so that you could import or source the other functions in the script without running the `main` function.* \n",
    "\n",
    "*You can do something like this in R (although I am not sure how commonly it is done - I more often see folks instead typically abstract the other functions into another script and source that, or create an R package):*\n",
    "\n",
    "```\n",
    "if (getOption('run.main', default = FALSE)) {\n",
    "  main()\n",
    "}\n",
    "```\n",
    "\n",
    "*I made a demo and you can find it here: [https://github.com/ttimbers/if_name_equals_main](https://github.com/ttimbers/if_name_equals_main)*"
   ]
  },
  {
   "cell_type": "markdown",
   "metadata": {
    "slideshow": {
     "slide_type": "slide"
    }
   },
   "source": [
    "## Scripts in R:"
   ]
  },
  {
   "cell_type": "markdown",
   "metadata": {
    "slideshow": {
     "slide_type": "fragment"
    }
   },
   "source": [
    "Here we write a script called `quick_titanic_fare_mean.R` which reads in the [titanic dataset](https://github.ubc.ca/ubc-mds-2016/datasets/raw/master/data/titanic.csv) and calculates the standard error for the fare (ticket price) variable.\n",
    "\n",
    "Our script has two functions, a function we defined to calculate the standard error of the mean (such a function does not exist in R) and a `main` function which runs the \"body\" of our code.\n",
    "\n",
    "```\n",
    "# author: Tiffany Timbers\n",
    "# date: 2020-01-15\n",
    "#\n",
    "# This script calculates the mean for the fare (ticket price)\n",
    "# from titanic.csv. This script takes no arguments.\n",
    "#\n",
    "# Usage: quick_titanic_fare_mean.R\n",
    "\n",
    "library(tidyverse)\n",
    "\n",
    "data <- read_csv('data/titanic.csv')\n",
    "\n",
    "out <- data %>%\n",
    "         pull(fare) %>%\n",
    "         mean()\n",
    "\n",
    "print(out)\n",
    "```\n",
    "\n",
    "Wait! Other languages use a `main` function (so you can, for example, import and access parts of the code into other code docs) - why are we not doing this here? I truly do not know the answer (yet) to why not, however, it is not commonly done. Perhaps this is due to historical origins and culture of the R programming language and it's user base. A question is, can you do this if you want? That question I can answer with a yes, see here for an example: <https://github.com/ttimbers/if_name_equals_main>"
   ]
  },
  {
   "cell_type": "markdown",
   "metadata": {},
   "source": [
    "### Using command line arguments in R\n",
    "Let's make our script more flexible, and let us specify when we call the script, what variable we want to calculate the standard error for.\n",
    "\n",
    "To do this, we use the `docopt` R package. This will allow us to collect the text we enter at the command line when we call the script, and make it available to us when we run the script. \n",
    "\n",
    "When we run `docopt` it takes the text we entered at the command line and gives it to us as a named list of the text provided after the script name. The names of the items in the list come from the documentation. Whitespace at the command line is what is used to parse the text into separate items in the vector.\n",
    "\n",
    "\n",
    "```\n",
    "# author: Tiffany Timbers\n",
    "# date: 2020-01-15\n",
    "\n",
    "\"This script calculates the standard error for the fare (ticket price)\n",
    "from titanic.csv. This script takes no arguments.\n",
    "\n",
    "Usage: quick_titanic_fare_se.R <var>\n",
    "\" -> doc\n",
    "\n",
    "\n",
    "library(tidyverse)\n",
    "library(docopt)\n",
    "\n",
    "opt <- docopt(doc)\n",
    "\n",
    "data <- read_csv('data/titanic.csv')\n",
    "\n",
    "out <- data %>%\n",
    "         pull({{ opt$var }}) %>%\n",
    "         mean()\n",
    "\n",
    "print(out)\n",
    "```\n",
    "\n",
    "And we would run a script like this from the command line as follows: \n",
    "\n",
    "```\n",
    "Rscript src/quick_csv_stat.R fare\n",
    "```"
   ]
  },
  {
   "cell_type": "markdown",
   "metadata": {},
   "source": [
    "Let's make our script even more flexible, and let us specify that dataset as well (we could then use it more generally on other files, such as the Gapminder `.csv`'s we saw in Block 1).\n",
    "\n",
    "\n",
    "```\n",
    "# author: Tiffany Timbers\n",
    "# date: 2020-01-15\n",
    "\n",
    "\"This script calculates the standard error for any numerical vector\n",
    "from a csv file. This script takes an unquoted column name and a data file path.\n",
    "\n",
    "Usage: quick_titanic_fare_se.R <file_path> <var>\n",
    "\" -> doc\n",
    "\n",
    "\n",
    "library(tidyverse)\n",
    "library(docopt)\n",
    "\n",
    "opt <- docopt(doc)\n",
    "\n",
    "data <- read_csv(opt$file_path)\n",
    "\n",
    "out <- data %>%\n",
    "         pull({{ opt$var }}) %>%\n",
    "         mean()\n",
    "\n",
    "print(out)\n",
    "```\n",
    "\n",
    "Now we would run a script like this from the command line as follows: \n",
    "\n",
    "```\n",
    "Rscript src/quick_csv_stat.R data/titanic.csv fare\n",
    "```"
   ]
  },
  {
   "cell_type": "markdown",
   "metadata": {
    "slideshow": {
     "slide_type": "slide"
    }
   },
   "source": [
    "### Positional arguments vs options\n",
    "\n",
    "In the examples above, we used `docopt` to specify positional arguments. This means that the order matters! If we change the order of the values of the arguments at the command line, our script will likely throw an error, because it will try to perform the wrong operations on the wrong values. \n",
    "\n",
    "Another downside to positional arguments, is that without good documentation, they can be less readable. And certainly the call to the script to is less readable. We can instead give the arguments names using `--ARGUMENT_NAME` syntax. We call these \"options\". Below is the same script but specified using options as opposed to positional arguments:\n",
    "\n",
    "```\n",
    "# author: Tiffany Timbers\n",
    "# date: 2020-01-15\n",
    "\n",
    "\"This script calculates the standard error for any numerical vector\n",
    "from a csv file. This script takes an unquoted column name and a data file path.\n",
    "\n",
    "Usage: quick_titanic_fare_se.R --file_path=<file_path> --var=<var>\n",
    "\n",
    "Options:\n",
    "--file_path=<file_path>   Path to the data file\n",
    "--var=<var>               Unquoted column name of the numerical vector for which to calculate the se\n",
    "\" -> doc\n",
    "\n",
    "\n",
    "library(tidyverse)\n",
    "library(docopt)\n",
    "\n",
    "opt <- docopt(doc)\n",
    "\n",
    "data <- read_csv(opt$file_path)\n",
    "\n",
    "out <- data %>%\n",
    "         pull({{ opt$var }}) %>%\n",
    "         mean()\n",
    "\n",
    "print(out)\n",
    "```"
   ]
  },
  {
   "cell_type": "markdown",
   "metadata": {},
   "source": [
    "And we would run a script like this that uses options like this: \n",
    "\n",
    "```\n",
    "Rscript src/quick_csv_stat.R --file_path=data/titanic.csv --var=fare\n",
    "```\n",
    "\n",
    "or like this: \n",
    "\n",
    "```\n",
    "Rscript src/quick_csv_stat.R --var=fare --file_path=data/titanic.csv\n",
    "```\n",
    "\n",
    "because we gave the arguments names, and thus their position no longer matters!"
   ]
  },
  {
   "cell_type": "markdown",
   "metadata": {},
   "source": [
    "### Optional elements (arguments or options)\n",
    "\n",
    "If you would like an argument or option to be \"optional\" (i.e., not required!) enclose them with the square brackets \"[ ]\"  in the documentation."
   ]
  },
  {
   "cell_type": "markdown",
   "metadata": {},
   "source": [
    "#### Improving our docs\n",
    "\n",
    "We can improve our docs further by adding an \"Options\" section with {docopt}:\n",
    "\n",
    "```\n",
    "# author: Tiffany Timbers\n",
    "# date: 2020-01-15\n",
    "\n",
    "\"This script calculates the standard error for any numerical vector\n",
    "from a csv file. This script takes an unquoted column name and a data file path.\n",
    "\n",
    "Usage: quick_titanic_fare_se.R --file_path=<file_path> --var=<var>\n",
    "\n",
    "Options:\n",
    "--file_path=<file_path>   Path to the data file\n",
    "--var=<var>               Unquoted column name of the numerical vector for which to calculate the se\n",
    "\" -> doc\n",
    "\n",
    "\n",
    "library(tidyverse)\n",
    "library(docopt)\n",
    "\n",
    "opt <- docopt(doc)\n",
    "\n",
    "data <- read_csv(opt$file_path)\n",
    "\n",
    "out <- data %>%\n",
    "         pull({{ opt$var }}) %>%\n",
    "         mean()\n",
    "\n",
    "print(out)\n",
    "```"
   ]
  },
  {
   "cell_type": "markdown",
   "metadata": {},
   "source": [
    "And then the user can see these docs by calling the script from the command line and using the `--help` to get this information:\n",
    "\n",
    "```\n",
    "This script calculates the standard error for any numerical vector\n",
    "from a csv file. This script takes an unquoted column name and a data file path.\n",
    "\n",
    "Usage: quick_titanic_fare_se.R --file_path=<file_path> --var=<var>\n",
    "\n",
    "Options:\n",
    "--file_path=<file_path>   Path to the data file\n",
    "--var=<var>               Unquoted column name of the numerical vector for which to calculate the se \n",
    "```"
   ]
  },
  {
   "cell_type": "markdown",
   "metadata": {
    "slideshow": {
     "slide_type": "slide"
    }
   },
   "source": [
    "### Where to develop scripts in Python\n",
    "\n",
    "#### In a integrated development environment (IDE):\n",
    "\n",
    "Or use an IDE, such as:\n",
    "- RStudio (gasp! 😱) via [`reticulate`](https://rstudio.github.io/reticulate/)\n",
    "- VS Code\n",
    "- [Spyder](https://www.spyder-ide.org/) (I think this comes with Anaconda, so you should have it installed)\n",
    "- Atom text editor + [`hydrogen`](https://atom.io/packages/hydrogen) (highly recommended by Mike Yuan, an MDS Alumni)\n",
    "- [PyCharm](https://www.jetbrains.com/pycharm/)\n",
    "\n",
    "#### In a Jupyter notebook:\n",
    "\n",
    "Jupyter + [`nbconvert`](https://nbconvert.readthedocs.io/en/latest/) (install via `conda install nbconvert`):\n",
    "\n",
    "Convert a notebook to a script at the command line via:\n",
    "```jupyter nbconvert --to script <input notebook>```\n",
    "\n",
    "#### TLDR;\n",
    "\n",
    "I recommend using an IDE over Jupyter. True, you may want to abstract code the originally was developed in a Jupyter notebook, but as soon as you switch the filename from `.ipynb` to `.py` you should change developing environments."
   ]
  },
  {
   "cell_type": "markdown",
   "metadata": {
    "slideshow": {
     "slide_type": "slide"
    }
   },
   "source": [
    "### Command line arguments in Python explained\n",
    "\n",
    "`docopt` was originally written in and for Python! There are other packages you can use, but `docopt` is extremely elegant and powerful. I've used `sys` and `argparse` previously, and now that I've tried `docopt`, there's no turning back for me. Key features I like are:\n",
    "- writing the code for the command line arguments in docopt forces you to write the documentation (because it parses the documentation!)\n",
    "- it gives you the command line arguments as simple dictionary\n",
    "- you have to write very few lines of code to parse a complicated command line input\n",
    "- it provides a consistent framework between R and Python"
   ]
  },
  {
   "cell_type": "markdown",
   "metadata": {
    "slideshow": {
     "slide_type": "slide"
    }
   },
   "source": [
    "Here we rewrite the script above in Python using `docopt`:\n",
    "\n",
    "\n",
    "```\n",
    "# author: Tiffany Timbers\n",
    "# date: 2020-01-15\n",
    "\n",
    "'''This script calculates the standard error for any numerical vector\n",
    "from a csv file. This script takes an unquoted column name and a data file path.\n",
    "\n",
    "Usage: quick_titanic_fare_se.py --file_path=<file_path> --var=<var>\n",
    "\n",
    "Options:\n",
    "--file_path=<file_path>   Path to the data file\n",
    "--var=<var>               Unquoted column name of the numerical vector for which to calculate the se\n",
    "'''\n",
    "\n",
    "import pandas as pd\n",
    "import numpy as np\n",
    "from docopt import docopt\n",
    "\n",
    "opt = docopt(__doc__)\n",
    "\n",
    "def main(file_path, var):\n",
    "  # read in data\n",
    "  data = pd.read_csv(file_path)\n",
    "\n",
    "  # print out statistic of variable of interest\n",
    "  out = sterror(data[var])\n",
    "  print(out)\n",
    "\n",
    "# standard error function\n",
    "\n",
    "def sterror(x):\n",
    "  \"\"\"\n",
    "  calculate standard error\n",
    "    \n",
    "  Parameters\n",
    "  ----------\n",
    "  numpy.ndarray : x\n",
    "    A numpy array of numeric values.\n",
    "        \n",
    "  Returns\n",
    "  -------\n",
    "  se\n",
    "    The standard error of x. \n",
    "        \n",
    "  Examples\n",
    "  --------\n",
    "  >>> sterror(numpy.array([2, 2, 2]))\n",
    "  0\n",
    "  \"\"\"\n",
    "  se = x.std()/np.sqrt(x.size)\n",
    "  return se\n",
    "  \n",
    "def test_sterror():\n",
    "  assert sterror(np.array([1, 1, 1])) == 0, \"sterror should return 0 if vector values are all the same\"\n",
    "\n",
    "test_sterror()\n",
    "  \n",
    "if __name__ == \"__main__\":\n",
    "    main(opt[\"--file_path\"], opt[\"--var\"])\n",
    "\n",
    "```"
   ]
  },
  {
   "cell_type": "markdown",
   "metadata": {
    "slideshow": {
     "slide_type": "skip"
    }
   },
   "source": [
    "#### Some tips for RStudio IDE:\n",
    "\n",
    "- To indent a block of text, highlight and use tab\n",
    "- To fix indenting in general to R code standards, use Command/Cntrl + I \n",
    "- To get multiple cursors, hold alt/option and highlight lines using cursor\n",
    "- To get multiple cursors to the beginning of the line, use control A\n",
    "- To get multiple cursors to the end of the line, use control E"
   ]
  },
  {
   "cell_type": "markdown",
   "metadata": {},
   "source": [
    "## Data analysis pipelines\n",
    "\n",
    "- As analysis grows in length and complexity, one literate code document generally is not enough\n",
    "\n",
    "- To improve code report readability (and code reproducibility and modularity) it is better to abstract at least parts of the code away (e.g, to scripts)\n",
    "\n",
    "- These scripts save figures and tables that will be imported into the final report\n",
    "\n",
    "<img src=\"img/scripts.png\" width=600>"
   ]
  },
  {
   "cell_type": "markdown",
   "metadata": {},
   "source": [
    "### Demo: building a Data Analysis pipeline using a Shell script tutorial\n",
    "adapted from [Software Carpentry](http://software-carpentry.org/)\n",
    "\n",
    "To illustrate how to make a data analysis pipeline using a shell script to drive other scripts, we will work through an example together. Here are some set-up instructions so that we can do this together:\n",
    "\n",
    "#### Set-up instructions\n",
    "\n",
    "- Download [data_analysis_pipeline_eg-1.0.zip](https://github.com/ttimbers/data_analysis_pipeline_eg/archive/v1.0.zip)\n",
    "- Unzip it and change into the `data_analysis_pipeline_eg-1.0` directory.\n",
    "\n",
    "#### Let's do some analysis!\n",
    "\n",
    "Suppose we have a script, `wordcount.py`, that reads in a text file,\n",
    "counts the words in this text file, and outputs a data file:\n",
    "\n",
    "~~~\n",
    "$ python src/wordcount.py data/isles.txt results/isles.dat\n",
    "~~~\n",
    "\n",
    "If we view the first 5 rows of the data file using `head`,\n",
    "\n",
    "~~~\n",
    "$ head -5 results/isles.dat\n",
    "~~~\n",
    "\n",
    "we can see that the file consists of one row per word. Each row shows the word itself,\n",
    "the number of occurrences of that word, and the number of occurrences as a percentage of\n",
    "the total number of words in the text file.\n",
    "\n",
    "~~~\n",
    "the 3822 6.7371760973\n",
    "of 2460 4.33632998414\n",
    "and 1723 3.03719372466\n",
    "to 1479 2.60708619778\n",
    "a 1308 2.30565838181\n",
    "~~~\n",
    "\n",
    "Suppose we also have a script, `plotcount.py`, that reads in a data\n",
    "file and save a plot of the 10 most frequently occurring words:\n",
    "\n",
    "~~~\n",
    "$ python src/plotcount.py results/isles.dat results/figure/isles.png\n",
    "~~~\n",
    "\n",
    "Together these scripts implement a data analysis pipeline:\n",
    "\n",
    "1. Read a data file.\n",
    "2. Perform an analysis on this data file.\n",
    "3. Write the analysis results to a new file.\n",
    "4. Plot a graph of the analysis results.\n",
    "\n",
    "To document how we'd like the analysis to be run, so we (and others) have a record and\n",
    "can replicate it, we will build a shell script called `run_all.sh`. Let's work to try\n",
    "to build this pipeline so it does all that!\n",
    "\n",
    "```\n",
    "# run_all.sh\n",
    "# Tiffany Timbers, Nov 2017\n",
    "#\n",
    "# This driver script completes the textual analysis of\n",
    "# 3 novels and creates figures on the 10 most frequently\n",
    "# occuring words from each of the 3 novels. This script\n",
    "# takes no arguments.\n",
    "#\n",
    "# Usage: bash run_all.sh\n",
    "\n",
    "# perform wordcout on novels\n",
    "python src/wordcount.py data/isles.txt results/isles.dat\n",
    "\n",
    "# create plots\n",
    "python src/plotcount.py results/isles.dat results/figure/isles.png\n",
    "```\n",
    "\n",
    "We actually have 4 books that we want to analyze, and then put the figures in a report. \n",
    "\n",
    "1. Read a data file.\n",
    "2. Perform an analysis on this data file.\n",
    "3. Write the analysis results to a new file.\n",
    "4. Plot a graph of the analysis results.\n",
    "5. Save the graph as an image, so we can put it in a paper.\n",
    "\n",
    "Let's extend our shell script to do that!\n",
    "\n",
    "```\n",
    "# run_all.sh\n",
    "# Tiffany Timbers, Nov 2018\n",
    "\n",
    "# This driver script completes the textual analysis of\n",
    "# 3 novels and creates figures on the 10 most frequently\n",
    "# occuring words from each of the 3 novels. This script\n",
    "# takes no arguments.\n",
    "\n",
    "# example usage:\n",
    "# bash run_all.sh\n",
    "\n",
    "# count the words\n",
    "python src/wordcount.py data/isles.txt results/isles.dat\n",
    "python src/wordcount.py data/abyss.txt results/abyss.dat\n",
    "python src/wordcount.py data/last.txt results/last.dat\n",
    "python src/wordcount.py data/sierra.txt results/sierra.dat\n",
    "\n",
    "# create the plots\n",
    "python src/plotcount.py results/isles.dat results/figure/isles.png\n",
    "python src/plotcount.py results/abyss.dat results/figure/abyss.png\n",
    "python src/plotcount.py results/last.dat results/figure/last.png\n",
    "python src/plotcount.py results/sierra.dat results/figure/sierra.png\n",
    "\n",
    "# write the report\n",
    "Rscript -e \"rmarkdown::render('doc/count_report.Rmd')\"\n",
    "```\n",
    "\n",
    "### Another example:\n",
    "\n",
    "From the [breast cancer prediction example analysis repo](https://github.com/ttimbers/breast_cancer_predictor), here is a data analysis pipeline using a shell script:\n",
    "\n",
    "```\n",
    "# run_all.sh\n",
    "# Tiffany Timbers, Jan 2020\n",
    "\n",
    "# download data\n",
    "python src/download_data.py --out_type=feather --url=https://archive.ics.uci.edu/ml/machine-learning-databases/breast-cancer-wisconsin/wpbc.data --out_file=data/raw/wdbc.feather\n",
    "\n",
    "# run eda report\n",
    "Rscript -e \"rmarkdown::render('src/breast_cancer_eda.Rmd')\"\n",
    "\n",
    "# pre-process data \n",
    "Rscript src/pre_process_wisc.r --input=data/raw/wdbc.feather --out_dir=data/processed \n",
    "\n",
    "# create exploratory data analysis figure and write to file \n",
    "Rscript src/eda_wisc.r --train=data/processed/training.feather --out_dir=results\n",
    "\n",
    "# tune model\n",
    "Rscript src/fit_breast_cancer_predict_model.r --train=data/processed/training.feather --out_dir=results\n",
    "\n",
    "# test model\n",
    "Rscript src/breast_cancer_test_results.r --test=data/processed/test.feather --out_dir=results\n",
    "\n",
    "# render final report\n",
    "Rscript -e \"rmarkdown::render('doc/breast_cancer_predict_report.Rmd', output_format = 'github_document')\"\n",
    "```"
   ]
  },
  {
   "cell_type": "markdown",
   "metadata": {},
   "source": [
    "### Discussion\n",
    "\n",
    "- What are the advantages to using a data analysis pipeline?\n",
    "\n",
    "- How \"good\" is a shell script as a data analysis pipeline? What might not be ideal about this?"
   ]
  },
  {
   "cell_type": "markdown",
   "metadata": {
    "slideshow": {
     "slide_type": "slide"
    },
    "tags": []
   },
   "source": [
    "## GNU Make as a data analysis pipeline tool\n",
    "\n",
    "We previously built a data analysis pipeline by using a shell script (we called it `run_all.sh`) to piece together and create a record of all the scripts and arguments we used in our analysis. That is a step in the right direction, but there were a few unsatisfactory things about this strategy:\n",
    "\n",
    "  1. It takes time to manually erase all intermediate and final files generated by analysis to do a complete test to see that everything is working from top to bottom\n",
    "  2. It runs every step every time. This can be problematic if some steps take a long time and you have only changed other, smaller parts of the analysis\n",
    "\n",
    "Thus, to improve on this we are going to use the build and automation tool, Make, to make a smarter\n",
    "data analysis pipeline.\n"
   ]
  },
  {
   "cell_type": "markdown",
   "metadata": {
    "slideshow": {
     "slide_type": "slide"
    }
   },
   "source": [
    "### Makefile Structure\n",
    "\n",
    "Each block of code in a Makefile is called a rule, it looks something like this:\n",
    "\n",
    "~~~\n",
    "file_to_create.png : data_it_depends_on.dat script_it_depends_on.py\n",
    "\tpython script_it_depends_on.py data_it_depends_on.dat file_to_create.png\n",
    "~~~\n",
    "\n",
    "* `file_to_create.png` is a target, a file to be created, or built.\n",
    "* `data_it_depends_on.dat` and `script_it_depends_on.py` are dependencies, files which are needed to build or update the target. Targets can have zero or more dependencies.\n",
    "* `:` separates targets from dependencies.\n",
    "* `python script_it_depends_on.py data_it_depends_on.dat file_to_create.png` is an action, a command to run to build or update the target using the dependencies. Targets can have zero or more actions. Actions are indented using the TAB character, not 8 spaces.\n",
    "* Together, the target, dependencies, and actions form a rule."
   ]
  },
  {
   "cell_type": "markdown",
   "metadata": {
    "slideshow": {
     "slide_type": "slide"
    }
   },
   "source": [
    "### Structure if you have multiple targets from a scripts\n",
    "\n",
    "~~~\n",
    "file_to_create_1.png file_to_create_2.png : data_it_depends_on.dat script_it_depends_on.py\n",
    "\tpython script_it_depends_on.py data_it_depends_on.dat file_to_create\n",
    "~~~"
   ]
  },
  {
   "cell_type": "markdown",
   "metadata": {
    "slideshow": {
     "slide_type": "slide"
    }
   },
   "source": [
    "### Demo: building a Data Analysis pipeline using Make, a tutorial\n",
    "adapted from [Software Carpentry](http://software-carpentry.org/)\n",
    "\n",
    "#### Set-up instructions\n",
    "\n",
    "- Download [data_analysis_pipeline_eg-2.0.zip](https://github.com/ttimbers/data_analysis_pipeline_eg/archive/v2.0.zip)\n",
    "- Unzip it and change into the `data_analysis_pipeline_eg-2.0` directory.\n",
    "- note - the tutorial in [lecture 4](lecture/04_lecture-shell-driver-scripts.md) is a prerequisite\n",
    "\n",
    "\n",
    "Good reference: http://swcarpentry.github.io/make-novice/reference\n",
    "\n",
    "Create a file, called `Makefile`, with the following content:\n",
    "\n",
    "~~~\n",
    "# Count words.\n",
    "results/isles.dat : data/isles.txt src/wordcount.py\n",
    "\tpython src/wordcount.py data/isles.txt results/isles.dat\n",
    "~~~\n",
    "\n",
    "This is a simple build file, which for\n",
    "Make is called a Makefile - a file executed\n",
    "by Make. Let us go through each line in turn:\n",
    "\n",
    "* `#` denotes a *comment*. Any text from `#` to the end of the line is\n",
    "  ignored by Make.\n",
    "* `results/isles.dat` is a [target](http://swcarpentry.github.io/make-novice/reference#target), a file to be\n",
    "  created, or built.\n",
    "* `data/isles.txt` and `src/wordcount.py` are [dependencies](http://swcarpentry.github.io/make-novice/reference#dependency), a\n",
    "  file that is needed to build or update the target. Targets can have\n",
    "  zero or more dependencies.\n",
    "* `:` separates targets from dependencies.\n",
    "* `python src/wordcount.py data/isles.txt isles.dat` is an\n",
    "  [action](http://swcarpentry.github.io/make-novice/reference#action), a command to run to build or update\n",
    "  the target using the dependencies. Targets can have zero or more\n",
    "  actions.\n",
    "* Actions are indented using the TAB character, *not* 8 spaces. This\n",
    "  is a legacy of Make's 1970's origins.\n",
    "* Together, the target, dependencies, and actions form a\n",
    "  [rule](http://swcarpentry.github.io/make-novice/reference#rule).\n",
    "\n",
    "Our rule above describes how to build the target `results/isles.dat` using the\n",
    "action `python src/wordcount.py` and the dependency `data/isles.txt`.\n",
    "\n",
    "By default, Make looks for a Makefile, called `Makefile`, and we can\n",
    "run Make as follows:\n",
    "\n",
    "~~~\n",
    "$ make\n",
    "~~~\n",
    "\n",
    "Make prints out the actions it executes:\n",
    "\n",
    "~~~\n",
    "python src/wordcount.py data/isles.txt results/isles.dat\n",
    "~~~\n",
    "\n",
    "If we see,\n",
    "\n",
    "~~~\n",
    "Makefile:3: *** missing separator.  Stop.\n",
    "~~~\n",
    "\n",
    "then we have used a space instead of a TAB characters to indent one of\n",
    "our actions.\n",
    "\n",
    "We don't have to call our Makefile `Makefile`. However, if we call it\n",
    "something else we need to tell Make where to find it. This we can do\n",
    "using `-f` flag. For example:\n",
    "\n",
    "~~~\n",
    "$ make -f Makefile\n",
    "~~~\n",
    "\n",
    "As we have re-run our Makefile, Make now informs us that:\n",
    "\n",
    "~~~\n",
    "make: `results/isles.dat' is up to date.\n",
    "~~~\n",
    "\n",
    "This is because our target, `results/isles.dat`, has now been created, and\n",
    "Make will not create it again. To see how this works, let's pretend to\n",
    "update one of the text files. Rather than opening the file in an\n",
    "editor, we can use the shell `touch` command to update its timestamp\n",
    "(which would happen if we did edit the file):\n",
    "\n",
    "~~~\n",
    "$ touch data/isles.txt\n",
    "~~~\n",
    "\n",
    "If we compare the timestamps of `data/isles.txt` and `results/isles.dat`,\n",
    "\n",
    "~~~\n",
    "$ ls -l data/isles.txt results/isles.dat\n",
    "~~~\n",
    "\n",
    "then we see that `results/isles.dat`, the target, is now older\n",
    "than`data/isles.txt`, its dependency:\n",
    "\n",
    "~~~\n",
    "-rw-r--r--    1 mjj      Administ   323972 Jun 12 10:35 books/isles.txt\n",
    "-rw-r--r--    1 mjj      Administ   182273 Jun 12 09:58 isles.dat\n",
    "~~~\n",
    "\n",
    "If we run Make again,\n",
    "\n",
    "~~~\n",
    "$ make\n",
    "~~~\n",
    "\n",
    "then it recreates `results/isles.dat`:\n",
    "\n",
    "~~~\n",
    "python src/wordcount.py data/isles.txt results/isles.dat\n",
    "~~~\n",
    "\n",
    "When it is asked to build a target, Make checks the 'last modification\n",
    "time' of both the target and its dependencies. If any dependency has\n",
    "been updated since the target, then the actions are re-run to update\n",
    "the target.\n",
    "\n",
    "We may want to remove all our data files so we can explicitly recreate\n",
    "them all. We can introduce a new target, and associated rule, `clean`:\n",
    "\n",
    "~~~\n",
    "results/isles.dat : data/isles.txt\n",
    "\tpython src/wordcount.py data/isles.txt results/isles.dat\n",
    "\n",
    "clean :\n",
    "\trm -f results/*.dat\n",
    "~~~\n",
    "\n",
    "This is an example of a rule that has no dependencies. `clean` has no\n",
    "dependencies on any `.dat` file as it makes no sense to create these\n",
    "just to remove them. We just want to remove the data files whether or\n",
    "not they exist. If we run Make and specify this target,\n",
    "\n",
    "~~~\n",
    "$ make clean\n",
    "~~~\n",
    "\n",
    "then we get:\n",
    "\n",
    "~~~\n",
    "rm -f *.dat\n",
    "~~~\n",
    "\n",
    "There is no actual thing built called `clean`. Rather, it is a\n",
    "short-hand that we can use to execute a useful sequence of\n",
    "actions. Such targets, though very useful, can lead to problems. For\n",
    "example, let us recreate our data files, create a directory called\n",
    "`clean`, then run Make:\n",
    "\n",
    "~~~\n",
    "$ make results/isles.dat\n",
    "$ mkdir clean\n",
    "$ make clean\n",
    "~~~\n",
    "\n",
    "We get:\n",
    "\n",
    "~~~\n",
    "make: `clean' is up to date.\n",
    "~~~"
   ]
  },
  {
   "cell_type": "markdown",
   "metadata": {},
   "source": [
    "Let's add another rule to the end of `Makefile`:\n",
    "\n",
    "~~~\n",
    "results/isles.dat : data/isles.txt src/wordcount.py\n",
    "\tpython src/wordcount.py data/isles.txt results/isles.dat\n",
    "\n",
    "results/figure/isles.png : results/isles.dat src/plotcount.py\n",
    "\tpython src/plotcount.py results/isles.dat results/figure/isles.png\n",
    "\n",
    "clean :\n",
    "\trm -f results/*.dat\n",
    "\trm -f results/figure/*.png\n",
    "~~~\n",
    "\n",
    "the new target isles.png depends on the target isles.dat. So to make both, we can simply\n",
    "type:\n",
    "\n",
    "~~~\n",
    "$ make isles.dat\n",
    "$ ls\n",
    "~~~\n",
    "\n",
    "Let's add another book:\n",
    "\n",
    "~~~\n",
    "results/isles.dat : data/isles.txt src/wordcount.py\n",
    "\tpython src/wordcount.py data/isles.txt results/isles.dat\n",
    "\n",
    "results/abyss.dat : data/abyss.txt src/wordcount.py\n",
    "  python src/wordcount.py data/abyss.txt results/abyss.dat\n",
    "\n",
    "results/figure/isles.png : results/isles.dat src/plotcount.py\n",
    "\tpython src/plotcount.py results/isles.dat results/figure/isles.png\n",
    "\n",
    "results/figure/abyss.png : results/abyss.dat src/plotcount.py\n",
    "  python src/plotcount.py results/abyss.dat results/figure/abyss.png\n",
    "\n",
    "clean :\n",
    "\trm -f results/*.dat\n",
    "\trm -f results/figure/*.png\n",
    "~~~\n",
    "\n",
    "To run all of the commands, we need to type make <TARGET> for each one:\n",
    "~~~\n",
    "$ make isles.png\n",
    "$ make abyss.png\n",
    "~~~\n",
    "\n",
    "OR we can add a target `all` which will build the last of the dependencies.\n",
    "\n",
    "~~~\n",
    "all: results/figure/isles.png results/figure/abyss.png\n",
    "\n",
    "# count words\n",
    "results/isles.dat : data/isles.txt src/wordcount.py\n",
    "\tpython src/wordcount.py data/isles.txt results/isles.dat\n",
    "\t\n",
    "results/abyss.dat : data/abyss.txt src/wordcount.py\n",
    "\tpython src/wordcount.py data/abyss.txt results/abyss.dat\n",
    "\n",
    "# plot word count\n",
    "results/figure/isles.png : results/isles.dat src/plotcount.py\n",
    "\tpython src/plotcount.py results/isles.dat isles.png\n",
    "\n",
    "results/figure/abyss.png : results/abyss.dat src/plotcount.py\n",
    "\tpython src/plotcount.py results/abyss.dat abyss.png\n",
    "\n",
    "clean :\n",
    "\trm -f results/*.dat\n",
    "\trm -f results/figure/*.png\n",
    "\n",
    "~~~\n",
    "\n",
    "### Finish off the Makefile!\n",
    "\n",
    "```\n",
    "# Makefile\n",
    "# Tiffany Timbers, Nov 2018\n",
    "\n",
    "# This driver script completes the textual analysis of\n",
    "# 3 novels and creates figures on the 10 most frequently\n",
    "# occuring words from each of the 3 novels. This script\n",
    "# takes no arguments.\n",
    "\n",
    "# example usage:\n",
    "# make all\n",
    "\n",
    "all : doc/count_report.md\n",
    "\n",
    "# count the words\n",
    "results/isles.dat : data/isles.txt src/wordcount.py\n",
    "\tpython src/wordcount.py data/isles.txt results/isles.dat\n",
    "results/abyss.dat : data/abyss.txt src/wordcount.py\n",
    "\tpython src/wordcount.py data/abyss.txt results/abyss.dat\n",
    "results/last.dat : data/last.txt src/wordcount.py\n",
    "\tpython src/wordcount.py data/last.txt results/last.dat\n",
    "results/sierra.dat : data/sierra.txt src/wordcount.py\n",
    "\tpython src/wordcount.py data/sierra.txt results/sierra.dat\n",
    "\t\n",
    "# create the plots\n",
    "results/figure/isles.png : results/isles.dat src/plotcount.py\n",
    "\tpython src/plotcount.py results/isles.dat results/figure/isles.png\n",
    "results/figure/abyss.png : results/abyss.dat src/plotcount.py\t\n",
    "\tpython src/plotcount.py results/abyss.dat results/figure/abyss.png\n",
    "results/figure/last.png : results/last.dat src/plotcount.py\t\n",
    "\tpython src/plotcount.py results/last.dat results/figure/last.png\n",
    "results/figure/sierra.png : results/sierra.dat src/plotcount.py\t\n",
    "\tpython src/plotcount.py results/sierra.dat results/figure/sierra.png\n",
    "\t\n",
    "# write the report\n",
    "doc/count_report.md : doc/count_report.Rmd results/figure/isles.png results/figure/abyss.png results/figure/last.png results/figure/sierra.png\n",
    "\tRscript -e \"rmarkdown::render('doc/count_report.Rmd')\"\n",
    "\t\n",
    "clean :\n",
    "\trm -rf results/isles.dat results/abyss.dat results/last.dat results/sierra.dat\n",
    "\trm -rf results/figure/isles.png results/figure/abyss.png results/figure/last.png results/figure/sierra.png\n",
    "\trm -rf doc/count_report.md doc/count_report.html\n",
    "```"
   ]
  },
  {
   "cell_type": "markdown",
   "metadata": {
    "slideshow": {
     "slide_type": "slide"
    },
    "tags": []
   },
   "source": [
    "### Pattern matching and variables in a Makefile\n",
    "\n",
    "It is possible to DRY out a Makefile and use variables.\n",
    "\n",
    "Using wild cards and pattern matching in a makefile is possible, but the syntax is not very readable. So if you choose to do this proceed with caution. Example of how to do this are here: http://swcarpentry.github.io/make-novice/05-patterns/index.html\n",
    "\n",
    "As for variables in a Makefile, in most cases we actually do not want to do this. The reason is that we want this file to be a record of what we did to run our analysis (e.g., what files were used, what settings were used, etc). If you start using variables with your Makefile, then you are shifting the problem of recording how your analysis was done to another file. There needs to be some file in your repo that captures what variables were called so that you can replicate your analysis. Examples of using variables in a Makefile are here: http://swcarpentry.github.io/make-novice/06-variables/index.html"
   ]
  },
  {
   "cell_type": "markdown",
   "metadata": {},
   "source": [
    "## What's next?\n",
    "\n",
    "- Advanced use of reproducible reports"
   ]
  }
 ],
 "metadata": {
  "anaconda-cloud": {},
  "celltoolbar": "Slideshow",
  "kernelspec": {
   "display_name": "Python 3 (ipykernel)",
   "language": "python",
   "name": "python3"
  },
  "language_info": {
   "codemirror_mode": {
    "name": "ipython",
    "version": 3
   },
   "file_extension": ".py",
   "mimetype": "text/x-python",
   "name": "python",
   "nbconvert_exporter": "python",
   "pygments_lexer": "ipython3",
   "version": "3.9.9"
  }
 },
 "nbformat": 4,
 "nbformat_minor": 4
}