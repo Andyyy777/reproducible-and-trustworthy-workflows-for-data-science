{
 "cells": [
  {
   "cell_type": "markdown",
   "metadata": {
    "Collapsed": "false",
    "slideshow": {
     "slide_type": "slide"
    }
   },
   "source": [
    "# Managing dependencies using containerization"
   ]
  },
  {
   "cell_type": "markdown",
   "metadata": {
    "Collapsed": "false",
    "slideshow": {
     "slide_type": "fragment"
    }
   },
   "source": [
    "## Topic learning objectives\n",
    "\n",
    "By the end of this topic, students should be able to:\n",
    "\n",
    "1. Explain what containers are, and why they can be useful for reproducible data\n",
    "analyses\n",
    "2. Discuss the advantages and limitations of containerization (e.g., Docker) in the\n",
    "context of reproducible data analyses\n",
    "3. Compare and contrast the difference between running software/scripts in a virtual\n",
    "environment, a virtual machine and a container\n",
    "4. Evaluate, choose and justify an appropriate environment management solution based\n",
    "on the data analysis project’s complexity, expected usage and longevity.\n",
    "5. Use a containerization software (e.g., Docker) to run the software needed for your\n",
    "analysis\n",
    "6. Write a container file (e.g., Dockerfile) that can be used to reproducibly build a\n",
    "container image that would contain the needed software and environment\n",
    "dependencies of your Data Science project\n",
    "7. Use manual and automated tools (e.g., Docker, GitHub Actions) to build and share\n",
    "container images\n",
    "8. List good container base images for Data Science projects"
   ]
  },
  {
   "cell_type": "markdown",
   "metadata": {
    "Collapsed": "false",
    "slideshow": {
     "slide_type": "slide"
    }
   },
   "source": [
    "## Introduction to containerization\n",
    "\n",
    "### Documenting and loading dependencies\n",
    "\n",
    "You've made some beautiful data analysis pipeline/project using make, R, and/or Python. It runs on your machine, but how easily can you, or someone else, get it working on theirs? The answer usually is, it depends...\n",
    "\n",
    "What does it depend on?\n",
    "\n",
    "\n",
    "\n"
   ]
  },
  {
   "cell_type": "markdown",
   "metadata": {
    "Collapsed": "false",
    "slideshow": {
     "slide_type": "fragment"
    }
   },
   "source": [
    "1. Does your `README` and your scripts make it blatantly obvious what programming languages and packages need to run your data analysis pipeline/project? \n",
    "    "
   ]
  },
  {
   "cell_type": "markdown",
   "metadata": {
    "Collapsed": "false",
    "slideshow": {
     "slide_type": "fragment"
    }
   },
   "source": [
    "2. Do you also document the version numbers of the programming languages and packages you used? This can have big consequences when it comes to reproducibility... (*e.g.*,the [change to random number generation](https://blog.revolutionanalytics.com/2019/05/whats-new-in-r-360.html) in R in 2019?)\n",
    "\n",
    "3. Did you document what other software (beyond the the programming languages and packages used) and operating system dependencies are needed to run your data analysis pipeline/project?\n",
    "\n",
    "*Virtual environments can be tremendously helpful with #1 & #2, however, they may or may not be helpful to manage #3...* __*Enter containerization as a possible solution!*__"
   ]
  },
  {
   "cell_type": "markdown",
   "metadata": {
    "Collapsed": "false",
    "slideshow": {
     "slide_type": "slide"
    }
   },
   "source": [
    "### What is a container?\n",
    "\n",
    "Containers are another way to generate (and share!) isolated computational environments. They differ from virtual environments (which we discussed previously) in that they are even more isolated from the computers operating system, as well as they can be used share many other types of software, applications and operating system dependencies. \n",
    "\n",
    "Before we can fully define containers, however, we need to define **virtualization**. Virtualization is a process that allows us to divide the the elements of a single computer into several virtual elements. These elements can include computer hardware platforms, storage devices, and computer network resources, and even operating system user spaces (e.g., graphical tools, utilities, and programming languages). \n",
    "\n",
    "Containers virtualize operating system user spaces so that they can isolate the processes they contain, as well as control the processes’ access to computer resources (e.g., CPUs, memory and desk space). What this means in practice, is that an operating system user space can be carved up into multiple containers running the same, or different processes, in isolation. Below we show the schematic of a container whose virtual user space contains the:\n",
    "- R programming language, the Bioconductor package manager, and two Bioconductor packages\n",
    "- Galaxy workflow software and two toolboxes that can be used with it\n",
    "- Python programming language, iPython interpreter and Jupyter notebook package\n",
    "\n",
    "<img src=\"img/13742_2016_article_135_f7.jpeg\" width=250>\n",
    "\n",
    "**Schematic of a container for genomics research.** Source: <https://doi.org/10.1186/s13742-016-0135-4>\n",
    "\n",
    "\n",
    "#### Exercise - running a simple container\n",
    "\n",
    "To further illustrate what a container looks like, and feels like, we can use Docker (containerization software) to run one and explore. First we will run an linux (debian-flavoured) container that has R installed. To run this type:\n",
    "\n",
    "```\n",
    "docker run --rm -it rocker/r-base:3.6.3\n",
    "```\n",
    "\n",
    "When you successfully launch the container, R should have started. Check the version of R - is it the same as your computer's version of R? Use `getwd()` and `list.files()` to explore the containers filesystem from R. Does this look like your computer's filesystem or something else?\n",
    "\n",
    "#### Exercise - running a container with a web app\n",
    "\n",
    "Next, try to use Docker to run a container that contains the RStudio server web-application installed:\n",
    "\n",
    "```\n",
    "docker run --rm -p 8787:8787 -e PASSWORD=\"apassword\" rocker/rstudio:4.1.2\n",
    "```\n",
    "\n",
    "Then visit a web browser on your computer and type: <http://localhost:8787>\n",
    "\n",
    "If it worked, then you should be at an RStudio Sign In page. To sign in, use the following credentials:\n",
    "\n",
    "- **username:** rstudio\n",
    "- **password:** apassword\n",
    "\n",
    "The RStudio server web app being run by the container should look something like this: \n",
    "\n",
    "<img src=\"img/rstudio-container-web-app.png\" width=600>\n"
   ]
  },
  {
   "cell_type": "markdown",
   "metadata": {},
   "source": [
    "## Contrasting containers with virtual machines\n",
    "\n",
    "Virtual machines are another technology that can be used to generate (and share) isolated computational environments. Virtual machines emulate the functionality an entire computer on a another physical computer. With virtual machine the virtualization occurs at the layer of software that sits between the computer's hardware and the operating system(s). This software is called a hypervisor. For example, on a Mac laptop, you could install a program called [Oracle Virtual Box](https://www.virtualbox.org/) to run a virtual machine whose operating system was Windows 10, as the screen shot below shows:\n",
    "\n",
    "<img src=\"https://www.virtualbox.org/raw-attachment/wiki/Screenshots/Windows_8.1_on_OSX.png\">\n",
    "\n",
    "\n",
    "**A screenshot of a Mac OS computer running a Windows virtual machine.** Source: <https://www.virtualbox.org/wiki/Screenshots>\n",
    "\n",
    "Below, we share an illustration that compares where virtualization happens in containers compared to virtual machines. This difference, leads to containers being more light-weight and portable compared to virtual machines, and also less isolated.\n",
    "\n",
    "<img src=\"img/container_v_vm.png\" width=600>\n",
    "\n",
    "*Source: https://www.docker.com/resources/what-container*\n",
    "\n",
    "\n",
    "**Key take home:** - Containerization software shares the host's operating system, whereas virtual machines have a completely separate, additional operating system. This can make containers lighter (smaller in terms of size) and more resource and time-efficient than using a virtual machine.*"
   ]
  },
  {
   "cell_type": "markdown",
   "metadata": {
    "Collapsed": "false",
    "slideshow": {
     "slide_type": "slide"
    }
   },
   "source": [
    "## Contrasting common computational environment virtualization strategies\n",
    "\n",
    "| Feature | Virtual environment | Container | Virtual machine |\n",
    "|---------|---------------------|-----------|-----------------|\n",
    "| Virtualization level | Application | Operating system user-space | Hardware |\n",
    "| Isolation | Programming languages, packages | Programming languages, packages, **other software, operating system dependencies, filesystems, networks** | Programming languages, packages, other software, operating system dependencies, filesystems, networks, **operating systems** |\n",
    "| Size | Extremely light-weight | light-weight | heavy-weight |\n"
   ]
  },
  {
   "cell_type": "markdown",
   "metadata": {
    "Collapsed": "false",
    "slideshow": {
     "slide_type": "slide"
    }
   },
   "source": [
    "## Virtualization strategy advantages and disadvantages for reproducibility\n",
    "\n",
    "Let's collaboratively generate a list of advantages and disadvantages of each virtualization strategy in the context of reproducibility:\n",
    "\n",
    "\n",
    "### Virtual environment\n",
    "\n",
    "#### Advantages\n",
    "- Extremely small size\n",
    "- Porous (less isolated) - makes it easy to pair the virtualized computational environment with files on your computer\n",
    "- Specify these with a single text file\n",
    "\n",
    "#### Disadvantages\n",
    "- Not always possible to capture and share operating system dependencies, and other software your analysis depends upon\n",
    "- Computational environment is not fully isolated, and so silent missed dependencies\n"
   ]
  },
  {
   "cell_type": "markdown",
   "metadata": {},
   "source": [
    "### Containers\n",
    "\n",
    "#### Advantages\n",
    "- Somewhat light-weight in size (manageable for easy sharing - there are tools and software to facilitate this)\n",
    "- Possible to capture and share operating system dependencies, and other software your analysis depends upon\n",
    "- Computational environment is fully isolated, and errors will occur if dependencies are missing\n",
    "- Specify these with a single text file\n",
    "- Can share volumes and ports (advantage compared to virtual machines)\n",
    "\n",
    "#### Disadvantages\n",
    "- Possible security issues - running software on your computer that you may allow to be less isolated (i.e., mount volumes, expose ports)\n",
    "- Takes some effort to share volumes and ports (disadvantage compared to virtual environments)\n"
   ]
  },
  {
   "cell_type": "markdown",
   "metadata": {},
   "source": [
    "### Virtual machine\n",
    "\n",
    "#### Advantages\n",
    "- High security, because these are much more isolated (filesystem, ports, etc)\n",
    "- Can share an entirely different operating system (might not so useful in the context of reproducibility however...)\n",
    "\n",
    "#### Disadvantages\n",
    "- Very big in size, which can make it prohibitive to share them\n",
    "- Takes great effort to share volumes and ports - which makes it hard to give access to data on your computer\n"
   ]
  },
  {
   "cell_type": "markdown",
   "metadata": {
    "Collapsed": "false",
    "slideshow": {
     "slide_type": "slide"
    }
   },
   "source": [
    "## Container useage workflow\n",
    "\n",
    "A schematic of Container useage workflow from a [blog post](https://blog.octo.com/en/docker-registry-first-steps/) by Arnaud Mazin:\n",
    "\n",
    "<img src=\"img/docker-stages.png\" width=600>\n",
    "\n",
    "*Source: [OctoTalks](https://blog.octo.com/en/docker-registry-first-steps/)*"
   ]
  },
  {
   "cell_type": "markdown",
   "metadata": {
    "Collapsed": "false",
    "slideshow": {
     "slide_type": "slide"
    }
   },
   "source": [
    "## Image vs container?\n",
    "\n",
    "Analogy: The program Chrome is like a Docker image, whereas a Chrome window is like a Docker container.\n",
    "\n",
    "<img src=\"img/instance_analogy.png\" width=\"600\">"
   ]
  },
  {
   "cell_type": "markdown",
   "metadata": {},
   "source": [
    "You can list the container **images** on your computer that you pulled using Docker via: `docker images`. You should see a list like this when you do this:\n",
    "\n",
    "```\n",
    "REPOSITORY                 TAG       IMAGE ID       CREATED         SIZE\n",
    "rocker/rstudio             4.1.2     ff47c56c9c0b   8 days ago      1.89GB\n",
    "continuumio/miniconda3     latest    4d529c886124   4 weeks ago     399MB\n",
    "jupyter/base-notebook      latest    8610b7acbd67   5 weeks ago     683MB\n",
    "jupyter/minimal-notebook   latest    4801dcfde35b   2 months ago    1.38GB\n",
    "rocker/r-base              latest    91af7f4c94cd   3 months ago    814MB\n",
    "ubuntu                     focal     ba6acccedd29   3 months ago    72.8MB\n",
    "rocker/r-base              3.6.3     ddcf1852524d   23 months ago   679MB\n",
    "```\n",
    "\n",
    "You can list the states of containers that have been started by Docker on your computer (and not yet removed) via: `docker ps -a`:\n",
    "\n",
    "```\n",
    "CONTAINER ID   IMAGE                  COMMAND   CREATED          STATUS          PORTS                                       NAMES\n",
    "9160100c7d4b   rocker/r-base:3.6.3    \"R\"       5 seconds ago    Up 4 seconds                                                friendly_merkle\n",
    "0d0871c90313   rocker/rstudio:4.1.2   \"/init\"   33 minutes ago   Up 33 minutes   0.0.0.0:8787->8787/tcp, :::8787->8787/tcp   exciting_kepler\n",
    "```"
   ]
  },
  {
   "cell_type": "markdown",
   "metadata": {},
   "source": [
    "## What is a container registry\n",
    "\n",
    "A container registry Is a remote repository used to share container images. This is similar to remote version control repositories for sharing code. Instead of code however, it is container images that are pushed and pulled to/from there. There are many container registries that can be used, but for this course we will focus on the widely-used DockerHub container registry: <https://hub.docker.com/>\n",
    "\n",
    "#### Demonstration\n",
    "\n",
    "Let's visit the repositories for the two container images that we used in the exercise earlier in class:\n",
    "\n",
    "- [rocker/r-base](https://hub.docker.com/r/rocker/r-base)\n",
    "- [rocker/rstudio](https://hub.docker.com/r/rocker/rstudio)\n",
    "\n",
    "Question: how did we get the images for the exercise earlier in class? We were just prompted to type `docker run...`\n",
    "\n",
    "Answer: `docker run ...` will first look for images you have locally, and run those if they exist. If they do not exist, it then attempts to pull the image from DockerHub."
   ]
  },
  {
   "cell_type": "markdown",
   "metadata": {},
   "source": [
    "## How do we specify a container image?\n",
    "\n",
    "Container images are specified from plain text files! In the case of the Docker containerization software, we call these `Dockerfiles`. We will explain these in more detail later, however for now it is useful to look at one to get a general idea of their structure:\n",
    "\n",
    "Example `Dockerfile`:\n",
    "\n",
    "```\n",
    "FROM continuumio/miniconda3\n",
    "\n",
    "# Install Jupyter, JupterLab, R & the IRkernel\n",
    "RUN conda install -y --quiet \\\n",
    "    jupyter \\\n",
    "    jupyterlab=3.* \\\n",
    "    r-base=4.1.* \\\n",
    "    r-irkernel\n",
    "\n",
    "# Install JupyterLab Git Extension\n",
    "RUN pip install jupyterlab-git\n",
    "\n",
    "# Create working directory for mounting volumes\n",
    "RUN mkdir -p /opt/notebooks\n",
    "\n",
    "# Make port 8888 available for JupyterLab\n",
    "EXPOSE 8888\n",
    "\n",
    "# Install Git, the nano-tiny text editor and less (needed for R help)\n",
    "RUN apt-get update --yes && \\\n",
    "    apt-get install --yes --no-install-recommends \\\n",
    "    git\n",
    "    #nano-tiny \\\n",
    "    #less\n",
    "\n",
    "# Copy JupyterLab start-up script into container\n",
    "COPY start-notebook.sh /usr/local/bin/\n",
    "\n",
    "# Change permission of startup script and execute it\n",
    "RUN chmod +x /usr/local/bin/start-notebook.sh\n",
    "ENTRYPOINT [\"/usr/local/bin/start-notebook.sh\"]\n",
    "\n",
    "# Switch to staring in directory where volumes will be mounted\n",
    "WORKDIR \"/opt/notebooks\"\n",
    "```\n",
    "\n",
    "The commands in all capitals are Docker commands. `Dockerfile`s typically start with a `FROM` command that specifies which base image the new image should be built off. Docker images are built in layers - this helps make them more light-weight. The `FROM` command is usually followed by `RUN` commands that usually install new software, or execute configuration commands. Other commands in this example copy in needed configuration files, expose ports, specify the working directory, and specify programs to execute at start-up.\n",
    "\n",
    "#### Demonstration of container images being built from layers\n",
    "\n",
    "Let's take a look at the `Dockerfile` for the `jupyter/docker-stacks` `r-notebook` container image:\n",
    "- [Dockerfile](https://github.com/jupyter/docker-stacks/blob/master/r-notebook/Dockerfile)\n",
    "\n",
    "*Question: What images does it build off?*"
   ]
  },
  {
   "cell_type": "markdown",
   "metadata": {},
   "source": [
    "## Running containers\n",
    "\n",
    "Below we demonstrate how to run containers using the [`continuumio/miniconda3` image](https://hub.docker.com/r/continuumio/miniconda3) as an example:"
   ]
  },
  {
   "cell_type": "markdown",
   "metadata": {
    "Collapsed": "false",
    "slideshow": {
     "slide_type": "slide"
    }
   },
   "source": [
    "#### Step 1 - launch the Docker app (for OSX & Windows only)\n",
    "- Use launchpad/Finder/Start menu/etc to find and launch Docker\n",
    "\n",
    "> Note: Docker might already be running, if so great, but if its not, the commands below will not work. So it is always good to check!"
   ]
  },
  {
   "cell_type": "markdown",
   "metadata": {
    "Collapsed": "false",
    "slideshow": {
     "slide_type": "slide"
    }
   },
   "source": [
    "#### Step 2 - get container image from Dockerhub\n",
    "- open the terminal\n",
    "- type: `docker pull continuumio/miniconda3`\n",
    "- verify that it successfully pulled by typing: `docker images`, you should see something like:\n",
    "```\n",
    "REPOSITORY                 TAG       IMAGE ID       CREATED         SIZE\n",
    "continuumio/miniconda3     latest    4d529c886124   4 weeks ago     399MB\n",
    "```\n",
    "\n",
    "> Note: You can skip this step and just got onto `docker run ...` as that command will pull the image if you do not have it locally."
   ]
  },
  {
   "cell_type": "markdown",
   "metadata": {
    "Collapsed": "false",
    "slideshow": {
     "slide_type": "slide"
    }
   },
   "source": [
    "#### Step 3 - launch a container from the image and poke around!\n",
    "\n",
    "- type: `docker run -it continuumio/miniconda3`\n",
    "- If it worked, then your command line prompt should now look something like this:\n",
    "\n",
    "```\n",
    "root@ad0560c5b81a:/# \n",
    "```\n",
    "- use `ls`, `cd`, `pwd` and explore the container\n",
    "- type `exit` to leave when you are done (your prompt will look normal again)!"
   ]
  },
  {
   "cell_type": "markdown",
   "metadata": {
    "Collapsed": "false",
    "slideshow": {
     "slide_type": "slide"
    }
   },
   "source": [
    "#### Step 4 - clean up your container!\n",
    "\n",
    "- After you close a container it still \"hangs\" around... \n",
    "- View any existing containers using `docker ps -a`\n",
    "- Remove the container by typing `docker rm <container_id>`\n",
    "- Prove to yourself that the container is no longer \"hanging around\" via `docker ps -a`, but that you still have the image installed (via `docker images`)\n",
    "\n",
    "> Note: to remove running containers, you will need to first stop them via `docker stop <container_id>`"
   ]
  },
  {
   "cell_type": "markdown",
   "metadata": {
    "Collapsed": "false",
    "slideshow": {
     "slide_type": "slide"
    }
   },
   "source": [
    "#### That's a lot of work...\n",
    "\n",
    "- We can tell Docker to delete the container upon exit using the `--rm` flag in the run command.\n",
    "- Type the command below to run the container again, exit it and prove to yourself that the container was deleted (but not the image!):\n",
    "\n",
    "```\n",
    "docker run -it --rm continuumio/miniconda3\n",
    "```"
   ]
  },
  {
   "cell_type": "markdown",
   "metadata": {
    "slideshow": {
     "slide_type": "slide"
    }
   },
   "source": [
    "## Mounting volumes to containers\n",
    "\n",
    "Often times we want to use the software made available to us in containers on files on our computers. \n",
    "To do this, we need to explicitly tell Docker to mount a volume to the container. \n",
    "We can do this via: `-v <path_to_computer_directory>:<absolute_path_to_container_directory>`\n",
    "\n",
    "Often, we want to mount the volume from our current directory (where we are working) and we can do that with a short-form of `/$(pwd)` in place of the path to our computer's directory.\n",
    "\n",
    "To mount our current directory to a container from the `continuumio/miniconda3` image we type the following on your laptop:\n",
    "\n",
    "```\n",
    "docker run -it --rm -v /$(pwd):/home/my_mounted_volume continuumio/miniconda3\n",
    "```\n",
    "\n",
    "Navigate to the directory where you mounted your files via: `cd /home/my_mounted_volume` and type `ls` to ensure you can see them.\n",
    "\n",
    "> Note: if you are mounting volumes to a container from a Docker image that runs a web app, be sure to read the documentation to see where you should mount that volume. Usually the web apps are only exposed to certain directories and you will only be able to access the files in the mounted volume if you mount them to the correct place. For example, in the `rocker/rstudio` image that we loaded earlier, volumes need to be mounted within `/home/rstudio/` to be able to access them via the RStudio server web app.\n",
    "\n",
    "### Windows notes for mounting volumes:\n",
    "- Windows machines need to explicitly share drives with Docker - this should be part of your computer setup!\n",
    "- On Windows, the laptop path depends what shell you are using, here are some details:\n",
    "    - If you are going to run it in Windows terminal, then the command should be: `docker run --rm -it -v /$(pwd):<PATH_ON_CONTAINER> <IMAGE_NAME>` to share the current directory.\n",
    "    - If you are going to run it in Power Shell, then the command should be: `docker run --rm -it -v <ABSOLUTE_PATH_TO_CONTAINER>:<PATH_ON_CONTAINER> <IMAGE_NAME>` (`pwd` and variants do not seem to work). And the path must be formatted like: `C:\\Users\\tiffany.timbers\\Documents\\project\\:/home/project`"
   ]
  },
  {
   "cell_type": "markdown",
   "metadata": {
    "Collapsed": "false",
    "slideshow": {
     "slide_type": "slide"
    }
   },
   "source": [
    "## Docker commands\n",
    "\n",
    "Let's now dig deeper into the commands and tools we just used to become more familiar with Docker! Let's fill in this table to explain what each part of our Docker commands did:\n",
    "\n",
    "| command/flag | What it does          | \n",
    "|--------------|-----------------------|\n",
    "| `pull`       | Downloads a Docker image from Docker Hub |\n",
    "| `images`     | Tells you what images are installed on your machine                     |\n",
    "| `run`        | Launches a Docker container from an image                      |\n",
    "| `-it`        | Tells Docker to run the container interactively                      |\n",
    "| `--rm`       | Makes a container ephemeral (deletes it upon exit)                      |\n",
    "| `-v`         | Mounts a volume of your laptop to the Docker container                     |\n",
    "| `-p`         | Specifies the ports to map a web app to |\n",
    "| `exit`       | Exits a Docker container                      |"
   ]
  },
  {
   "cell_type": "markdown",
   "metadata": {
    "slideshow": {
     "slide_type": "slide"
    }
   },
   "source": [
    "## Where to next?\n",
    "\n",
    "- Installing things in linux (most containers used in Data Science are linux based)\n",
    "\n",
    "- Creating your own Docker image!"
   ]
  }
 ],
 "metadata": {
  "anaconda-cloud": {},
  "celltoolbar": "Slideshow",
  "kernelspec": {
   "display_name": "Python 3 (ipykernel)",
   "language": "python",
   "name": "python3"
  },
  "language_info": {
   "codemirror_mode": {
    "name": "ipython",
    "version": 3
   },
   "file_extension": ".py",
   "mimetype": "text/x-python",
   "name": "python",
   "nbconvert_exporter": "python",
   "pygments_lexer": "ipython3",
   "version": "3.9.9"
  }
 },
 "nbformat": 4,
 "nbformat_minor": 4
}
